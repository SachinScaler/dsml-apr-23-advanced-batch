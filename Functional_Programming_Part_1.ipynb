{
  "nbformat": 4,
  "nbformat_minor": 0,
  "metadata": {
    "colab": {
      "provenance": []
    },
    "kernelspec": {
      "name": "python3",
      "display_name": "Python 3"
    },
    "language_info": {
      "name": "python"
    }
  },
  "cells": [
    {
      "cell_type": "code",
      "execution_count": 5,
      "metadata": {
        "id": "kFxw42au6zJm"
      },
      "outputs": [],
      "source": [
        "class A:\n",
        "    pass\n"
      ]
    },
    {
      "cell_type": "code",
      "source": [
        "if True:\n",
        "    pass"
      ],
      "metadata": {
        "id": "i3jS1T6M9aIm"
      },
      "execution_count": 4,
      "outputs": []
    },
    {
      "cell_type": "code",
      "source": [
        "class Counter:\n",
        "    def __init__(self):\n",
        "        self.count=5\n",
        "        self.count=self.count+1\n",
        "\n",
        "    def print_count(self):\n",
        "        return self.count\n",
        "\n",
        "c = Counter()\n",
        "# print(c.count)"
      ],
      "metadata": {
        "id": "f4BbPPzs9gI-"
      },
      "execution_count": 13,
      "outputs": []
    },
    {
      "cell_type": "code",
      "source": [
        "c.print_count()"
      ],
      "metadata": {
        "colab": {
          "base_uri": "https://localhost:8080/",
          "height": 292
        },
        "id": "SwAvWzg3_vCV",
        "outputId": "976b0764-1001-4712-a0e7-d61cd1492e04"
      },
      "execution_count": 12,
      "outputs": [
        {
          "output_type": "error",
          "ename": "NameError",
          "evalue": "ignored",
          "traceback": [
            "\u001b[0;31m---------------------------------------------------------------------------\u001b[0m",
            "\u001b[0;31mNameError\u001b[0m                                 Traceback (most recent call last)",
            "\u001b[0;32m<ipython-input-12-245c8e50f78e>\u001b[0m in \u001b[0;36m<cell line: 1>\u001b[0;34m()\u001b[0m\n\u001b[0;32m----> 1\u001b[0;31m \u001b[0mc\u001b[0m\u001b[0;34m.\u001b[0m\u001b[0mprint_count\u001b[0m\u001b[0;34m(\u001b[0m\u001b[0;34m)\u001b[0m\u001b[0;34m\u001b[0m\u001b[0;34m\u001b[0m\u001b[0m\n\u001b[0m",
            "\u001b[0;32m<ipython-input-11-99ff94a87ed4>\u001b[0m in \u001b[0;36mprint_count\u001b[0;34m(self)\u001b[0m\n\u001b[1;32m      5\u001b[0m \u001b[0;34m\u001b[0m\u001b[0m\n\u001b[1;32m      6\u001b[0m     \u001b[0;32mdef\u001b[0m \u001b[0mprint_count\u001b[0m\u001b[0;34m(\u001b[0m\u001b[0mself\u001b[0m\u001b[0;34m)\u001b[0m\u001b[0;34m:\u001b[0m\u001b[0;34m\u001b[0m\u001b[0;34m\u001b[0m\u001b[0m\n\u001b[0;32m----> 7\u001b[0;31m         \u001b[0;32mreturn\u001b[0m \u001b[0mcount\u001b[0m\u001b[0;34m\u001b[0m\u001b[0;34m\u001b[0m\u001b[0m\n\u001b[0m\u001b[1;32m      8\u001b[0m \u001b[0;34m\u001b[0m\u001b[0m\n\u001b[1;32m      9\u001b[0m \u001b[0mc\u001b[0m \u001b[0;34m=\u001b[0m \u001b[0mCounter\u001b[0m\u001b[0;34m(\u001b[0m\u001b[0;34m)\u001b[0m\u001b[0;34m\u001b[0m\u001b[0;34m\u001b[0m\u001b[0m\n",
            "\u001b[0;31mNameError\u001b[0m: name 'count' is not defined"
          ]
        }
      ]
    },
    {
      "cell_type": "code",
      "source": [
        "def funct():\n",
        "    a = 10\n",
        "\n",
        "def funct2():\n",
        "    return a"
      ],
      "metadata": {
        "id": "62ZuAs0t_3Sp"
      },
      "execution_count": null,
      "outputs": []
    },
    {
      "cell_type": "code",
      "source": [
        "class A:\n",
        "    counter= 0\n",
        "    def __init__(self):\n",
        "      self.counter+=1\n",
        "      print(\"New object Created!\")\n",
        "\n",
        "A() # object1\n",
        "\n",
        "obj1 = A() # object 2\n",
        "\n",
        "if A(): # object 3\n",
        "    print(A())  # object 4"
      ],
      "metadata": {
        "colab": {
          "base_uri": "https://localhost:8080/"
        },
        "id": "ldc66Fdc-JGL",
        "outputId": "e4e0ed8c-f3d8-4128-c7d0-7212bd5e00d9"
      },
      "execution_count": 8,
      "outputs": [
        {
          "output_type": "stream",
          "name": "stdout",
          "text": [
            "New object Created!\n",
            "New object Created!\n",
            "New object Created!\n",
            "New object Created!\n",
            "<__main__.A object at 0x7f9bf35638b0>\n"
          ]
        }
      ]
    },
    {
      "cell_type": "code",
      "source": [
        "class A:\n",
        "    counter= 0 # class var and immutable\n",
        "    def __init__(self):\n",
        "      A.counter+=1 # using Class Name\n",
        "A()\n",
        "obj1 = A()\n",
        "if A():\n",
        "    print(A.counter)"
      ],
      "metadata": {
        "colab": {
          "base_uri": "https://localhost:8080/"
        },
        "id": "k7Sq19hm_PPQ",
        "outputId": "34f525cb-b78c-4355-cd85-c1076d96aa11"
      },
      "execution_count": 14,
      "outputs": [
        {
          "output_type": "stream",
          "name": "stdout",
          "text": [
            "3\n"
          ]
        }
      ]
    },
    {
      "cell_type": "code",
      "source": [
        "class A:\n",
        "    counter=0 # class var and immutable\n",
        "    def __init__(self):\n",
        "      self.counter+=1 # using object\n",
        "\n",
        "A()\n",
        "obj1 = A()\n",
        "if A():\n",
        "    print(A.counter)"
      ],
      "metadata": {
        "colab": {
          "base_uri": "https://localhost:8080/"
        },
        "id": "SYN0oLYHA29O",
        "outputId": "613a1577-4b34-460d-cbe4-1640038f60d3"
      },
      "execution_count": 15,
      "outputs": [
        {
          "output_type": "stream",
          "name": "stdout",
          "text": [
            "0\n"
          ]
        }
      ]
    },
    {
      "cell_type": "code",
      "source": [
        "obj1.counter"
      ],
      "metadata": {
        "colab": {
          "base_uri": "https://localhost:8080/"
        },
        "id": "3h7-4sMgBZ26",
        "outputId": "087cdb70-9cee-48b2-912c-b9f64de60e14"
      },
      "execution_count": 16,
      "outputs": [
        {
          "output_type": "execute_result",
          "data": {
            "text/plain": [
              "1"
            ]
          },
          "metadata": {},
          "execution_count": 16
        }
      ]
    },
    {
      "cell_type": "code",
      "source": [
        "class A:\n",
        "    counter=0 # class var and immutable\n",
        "    def __init__(self):\n",
        "      self.counter+=1 # using object\n",
        "\n",
        "obj1 =A()\n",
        "obj2 = A()\n",
        "print(obj2.counter)"
      ],
      "metadata": {
        "colab": {
          "base_uri": "https://localhost:8080/"
        },
        "id": "bmis-amZBpej",
        "outputId": "6cdac704-ede9-4514-e02d-8134c9ba6cb3"
      },
      "execution_count": 17,
      "outputs": [
        {
          "output_type": "stream",
          "name": "stdout",
          "text": [
            "1\n"
          ]
        }
      ]
    },
    {
      "cell_type": "code",
      "source": [
        "class A:\n",
        "    counter= [] # class var and mutable\n",
        "    def __init__(self):\n",
        "      self.counter.append(1)  # using object\n",
        "\n",
        "A()\n",
        "obj1 = A()\n",
        "if A():\n",
        "    print(A.counter)"
      ],
      "metadata": {
        "colab": {
          "base_uri": "https://localhost:8080/"
        },
        "id": "l3LmqBW4BxuQ",
        "outputId": "46270982-e80d-4e43-c49a-af3006203864"
      },
      "execution_count": 18,
      "outputs": [
        {
          "output_type": "stream",
          "name": "stdout",
          "text": [
            "[1, 1, 1]\n"
          ]
        }
      ]
    },
    {
      "cell_type": "code",
      "source": [
        "class A:\n",
        "    counter= [] # class var and mutable\n",
        "    def __init__(self):\n",
        "      A.counter.append(1)  # using class\n",
        "\n",
        "A()\n",
        "obj1 = A()\n",
        "if A():\n",
        "    print(A.counter)"
      ],
      "metadata": {
        "colab": {
          "base_uri": "https://localhost:8080/"
        },
        "id": "5Sf1HA01CP7v",
        "outputId": "2f9edc6d-8441-4fc2-edfd-2d92bf4bf0a0"
      },
      "execution_count": 19,
      "outputs": [
        {
          "output_type": "stream",
          "name": "stdout",
          "text": [
            "[1, 1, 1]\n"
          ]
        }
      ]
    },
    {
      "cell_type": "code",
      "source": [
        "class A:\n",
        "    def do_something(self):\n",
        "        print(\"I do something!\")\n",
        "\n",
        "class B(A):\n",
        "    def do_something(self):\n",
        "        super().do_something()  # line 1\n",
        "        print(\"I also do something!\") # line 2\n",
        "\n",
        "b = B()\n",
        "b.do_something()"
      ],
      "metadata": {
        "colab": {
          "base_uri": "https://localhost:8080/"
        },
        "id": "eRnKUtjlCSum",
        "outputId": "0ab47e6a-11ac-4ddb-8ba9-f20e9a567ca9"
      },
      "execution_count": 21,
      "outputs": [
        {
          "output_type": "stream",
          "name": "stdout",
          "text": [
            "I do something!\n",
            "I also do something!\n"
          ]
        }
      ]
    },
    {
      "cell_type": "code",
      "source": [
        "class A:\n",
        "    def do_something2(self):\n",
        "        print(\"I do something!\")\n",
        "\n",
        "class B(A):\n",
        "    def do_something(self):\n",
        "        print(\"I also do something!\") # line 2"
      ],
      "metadata": {
        "id": "RsyjUEHrDNtP"
      },
      "execution_count": null,
      "outputs": []
    },
    {
      "cell_type": "code",
      "source": [
        "class A:\n",
        "    pass\n",
        "\n",
        "dir(A)"
      ],
      "metadata": {
        "colab": {
          "base_uri": "https://localhost:8080/"
        },
        "id": "BIUdZtoVEJlO",
        "outputId": "71eddfce-7ec7-4870-dfa8-ec0aacdcad49"
      },
      "execution_count": 25,
      "outputs": [
        {
          "output_type": "execute_result",
          "data": {
            "text/plain": [
              "['__class__',\n",
              " '__delattr__',\n",
              " '__dict__',\n",
              " '__dir__',\n",
              " '__doc__',\n",
              " '__eq__',\n",
              " '__format__',\n",
              " '__ge__',\n",
              " '__getattribute__',\n",
              " '__gt__',\n",
              " '__hash__',\n",
              " '__init__',\n",
              " '__init_subclass__',\n",
              " '__le__',\n",
              " '__lt__',\n",
              " '__module__',\n",
              " '__ne__',\n",
              " '__new__',\n",
              " '__reduce__',\n",
              " '__reduce_ex__',\n",
              " '__repr__',\n",
              " '__setattr__',\n",
              " '__sizeof__',\n",
              " '__str__',\n",
              " '__subclasshook__',\n",
              " '__weakref__']"
            ]
          },
          "metadata": {},
          "execution_count": 25
        }
      ]
    },
    {
      "cell_type": "code",
      "source": [
        "isinstance(A, object)"
      ],
      "metadata": {
        "colab": {
          "base_uri": "https://localhost:8080/"
        },
        "id": "DigZ5wnWEJfX",
        "outputId": "c39b1cf6-396f-48d8-88cb-73ca15ef6432"
      },
      "execution_count": 26,
      "outputs": [
        {
          "output_type": "execute_result",
          "data": {
            "text/plain": [
              "True"
            ]
          },
          "metadata": {},
          "execution_count": 26
        }
      ]
    },
    {
      "cell_type": "markdown",
      "source": [
        "# Lambda Functions"
      ],
      "metadata": {
        "id": "8rWE5-WWGF35"
      }
    },
    {
      "cell_type": "code",
      "source": [
        "def square(x):\n",
        "    return x**2\n",
        "\n",
        "square(5)"
      ],
      "metadata": {
        "colab": {
          "base_uri": "https://localhost:8080/"
        },
        "id": "iO7Ek7gxEdEx",
        "outputId": "7aac4b2e-a01a-4456-d7b1-4967f238c957"
      },
      "execution_count": 27,
      "outputs": [
        {
          "output_type": "execute_result",
          "data": {
            "text/plain": [
              "25"
            ]
          },
          "metadata": {},
          "execution_count": 27
        }
      ]
    },
    {
      "cell_type": "code",
      "source": [
        "sqaure_lam = lambda x: x**2\n",
        "sqaure_lam(5)"
      ],
      "metadata": {
        "colab": {
          "base_uri": "https://localhost:8080/"
        },
        "id": "IrI1JI1UGL0b",
        "outputId": "222dee63-967c-4bfc-cb04-1ca7fcf2de66"
      },
      "execution_count": 28,
      "outputs": [
        {
          "output_type": "execute_result",
          "data": {
            "text/plain": [
              "25"
            ]
          },
          "metadata": {},
          "execution_count": 28
        }
      ]
    },
    {
      "cell_type": "code",
      "source": [
        "(lambda x: x**2)(6)"
      ],
      "metadata": {
        "colab": {
          "base_uri": "https://localhost:8080/"
        },
        "id": "XLwlv8hTGUun",
        "outputId": "720b7a42-1003-4103-9cea-ae5abbec972f"
      },
      "execution_count": 29,
      "outputs": [
        {
          "output_type": "execute_result",
          "data": {
            "text/plain": [
              "36"
            ]
          },
          "metadata": {},
          "execution_count": 29
        }
      ]
    },
    {
      "cell_type": "markdown",
      "source": [
        "### Lambda functions are popularly known as ANONYMOUS FUNCTIONS since they can be invoked without storing into a reference Variable"
      ],
      "metadata": {
        "id": "_Ql6Bo1AGnup"
      }
    },
    {
      "cell_type": "markdown",
      "source": [
        "``` func = lambda input_arg: output ```"
      ],
      "metadata": {
        "id": "w6p4s1F_HWwN"
      }
    },
    {
      "cell_type": "code",
      "source": [
        "def some_func(x):\n",
        "    if x>5:\n",
        "        return x**2\n",
        "    else:\n",
        "        return x**3\n",
        "\n",
        "some_func(2)"
      ],
      "metadata": {
        "colab": {
          "base_uri": "https://localhost:8080/"
        },
        "id": "OySKxN-9Gge9",
        "outputId": "2938a618-8bb3-4571-a90e-780095ec8d59"
      },
      "execution_count": 32,
      "outputs": [
        {
          "output_type": "execute_result",
          "data": {
            "text/plain": [
              "8"
            ]
          },
          "metadata": {},
          "execution_count": 32
        }
      ]
    },
    {
      "cell_type": "code",
      "source": [
        "(lambda x: x**2 if x>5 else x**3)(2)"
      ],
      "metadata": {
        "colab": {
          "base_uri": "https://localhost:8080/"
        },
        "id": "VW-T4ktsHLvT",
        "outputId": "3bff7173-72d4-4eda-a02a-afe5791fa552"
      },
      "execution_count": 33,
      "outputs": [
        {
          "output_type": "execute_result",
          "data": {
            "text/plain": [
              "8"
            ]
          },
          "metadata": {},
          "execution_count": 33
        }
      ]
    },
    {
      "cell_type": "code",
      "source": [
        "custom_func = (lambda x: x**2 if x>5 else x**3)\n",
        "custom_func(9)"
      ],
      "metadata": {
        "colab": {
          "base_uri": "https://localhost:8080/"
        },
        "id": "EN39Fp7MH97j",
        "outputId": "7d4a5738-e6c7-428c-aaed-05825258167f"
      },
      "execution_count": 35,
      "outputs": [
        {
          "output_type": "execute_result",
          "data": {
            "text/plain": [
              "81"
            ]
          },
          "metadata": {},
          "execution_count": 35
        }
      ]
    },
    {
      "cell_type": "markdown",
      "source": [
        "if\n",
        "\n",
        "elif \n",
        "\n",
        "else"
      ],
      "metadata": {
        "id": "LFejY8uQIIBk"
      }
    },
    {
      "cell_type": "code",
      "source": [
        "def some_func(x):\n",
        "    if x<5:\n",
        "        return x**2\n",
        "    elif x>15:\n",
        "        return x**3\n",
        "    else:\n",
        "        return x\n",
        "\n",
        "some_func(2)"
      ],
      "metadata": {
        "colab": {
          "base_uri": "https://localhost:8080/"
        },
        "id": "emAKIeilIDA_",
        "outputId": "b9ce2a29-8d0a-44b0-c96e-08bee92b668e"
      },
      "execution_count": 36,
      "outputs": [
        {
          "output_type": "execute_result",
          "data": {
            "text/plain": [
              "4"
            ]
          },
          "metadata": {},
          "execution_count": 36
        }
      ]
    },
    {
      "cell_type": "code",
      "source": [
        "(lambda x: x**2 if x<5 else x**3 if x>15 else x)(2)"
      ],
      "metadata": {
        "colab": {
          "base_uri": "https://localhost:8080/"
        },
        "id": "LvMMfDltIjh3",
        "outputId": "9b6428e8-bf5a-4e8b-a109-e1da32a68154"
      },
      "execution_count": 40,
      "outputs": [
        {
          "output_type": "execute_result",
          "data": {
            "text/plain": [
              "4"
            ]
          },
          "metadata": {},
          "execution_count": 40
        }
      ]
    },
    {
      "cell_type": "markdown",
      "source": [
        "### Mulitple inputs"
      ],
      "metadata": {
        "id": "-ypo-4CGJQb1"
      }
    },
    {
      "cell_type": "code",
      "source": [
        "(lambda a,b: a+b)(1,2)"
      ],
      "metadata": {
        "colab": {
          "base_uri": "https://localhost:8080/"
        },
        "id": "5kE4bCLXI1Cv",
        "outputId": "21706c9d-cb72-47c5-c18a-4c56810eed9e"
      },
      "execution_count": 41,
      "outputs": [
        {
          "output_type": "execute_result",
          "data": {
            "text/plain": [
              "3"
            ]
          },
          "metadata": {},
          "execution_count": 41
        }
      ]
    },
    {
      "cell_type": "code",
      "source": [
        "mul = (lambda a,b: a*b)\n",
        "mul(3,2)"
      ],
      "metadata": {
        "colab": {
          "base_uri": "https://localhost:8080/"
        },
        "id": "yMAUu-KEJZy7",
        "outputId": "7c751331-5f6f-478c-d4c9-65ff0cca1ae3"
      },
      "execution_count": 43,
      "outputs": [
        {
          "output_type": "execute_result",
          "data": {
            "text/plain": [
              "6"
            ]
          },
          "metadata": {},
          "execution_count": 43
        }
      ]
    },
    {
      "cell_type": "markdown",
      "source": [
        "### Take 3 arguments and sum first two if they first two are even and multiply 3rd else multiply first two and add 3rd"
      ],
      "metadata": {
        "id": "c20Jo_uTJl3E"
      }
    },
    {
      "cell_type": "code",
      "source": [
        "list1 = [\n",
        "[101,2,3],\n",
        "[11,91,3],\n",
        "[79, 11, 9]]"
      ],
      "metadata": {
        "id": "A4eccNXCJfpp"
      },
      "execution_count": 44,
      "outputs": []
    },
    {
      "cell_type": "code",
      "source": [
        "sorted(list1)"
      ],
      "metadata": {
        "colab": {
          "base_uri": "https://localhost:8080/"
        },
        "id": "ndL0ORYtKNAA",
        "outputId": "90c610f2-2d1b-46a2-ee22-77e219eafa2f"
      },
      "execution_count": 45,
      "outputs": [
        {
          "output_type": "execute_result",
          "data": {
            "text/plain": [
              "[[11, 91, 3], [79, 11, 9], [101, 2, 3]]"
            ]
          },
          "metadata": {},
          "execution_count": 45
        }
      ]
    },
    {
      "cell_type": "code",
      "source": [
        "sorted(list1, key = lambda x:x[1])"
      ],
      "metadata": {
        "colab": {
          "base_uri": "https://localhost:8080/"
        },
        "id": "a54PrR1gKPpP",
        "outputId": "634ce64d-b058-4f60-80ea-60b000cc040f"
      },
      "execution_count": 46,
      "outputs": [
        {
          "output_type": "execute_result",
          "data": {
            "text/plain": [
              "[[101, 2, 3], [79, 11, 9], [11, 91, 3]]"
            ]
          },
          "metadata": {},
          "execution_count": 46
        }
      ]
    },
    {
      "cell_type": "code",
      "source": [
        "(lambda x: x[1])([101,2,3])"
      ],
      "metadata": {
        "colab": {
          "base_uri": "https://localhost:8080/"
        },
        "id": "ABGVL2pXKZzQ",
        "outputId": "807bb65b-429f-4b58-d883-70b8aeb2e438"
      },
      "execution_count": 48,
      "outputs": [
        {
          "output_type": "execute_result",
          "data": {
            "text/plain": [
              "2"
            ]
          },
          "metadata": {},
          "execution_count": 48
        }
      ]
    },
    {
      "cell_type": "code",
      "source": [
        "list1 = [\n",
        "[101,2,3],\n",
        "[11,91,3],\n",
        "[79, 11, 9]]\n",
        "\n",
        "sorted(list1, key = lambda x:x[2] , reverse = True)"
      ],
      "metadata": {
        "colab": {
          "base_uri": "https://localhost:8080/"
        },
        "id": "gX1NcK4fKlUP",
        "outputId": "75be841f-c061-4b44-8f08-5034ccc36b8f"
      },
      "execution_count": 54,
      "outputs": [
        {
          "output_type": "execute_result",
          "data": {
            "text/plain": [
              "[[79, 11, 9], [101, 2, 3], [11, 91, 3]]"
            ]
          },
          "metadata": {},
          "execution_count": 54
        }
      ]
    },
    {
      "cell_type": "code",
      "source": [
        "[101, 2, 3] --> 3\n",
        "[11, 91, 3] --> 3\n",
        "[79, 11, 9] --> 9"
      ],
      "metadata": {
        "id": "e3wNJiQWLCVB"
      },
      "execution_count": null,
      "outputs": []
    },
    {
      "cell_type": "code",
      "source": [
        "help(sorted)"
      ],
      "metadata": {
        "colab": {
          "base_uri": "https://localhost:8080/"
        },
        "id": "mPTrJJQGLTJC",
        "outputId": "9b4ded4f-a811-4eb0-9312-376deb54b2ec"
      },
      "execution_count": 51,
      "outputs": [
        {
          "output_type": "stream",
          "name": "stdout",
          "text": [
            "Help on built-in function sorted in module builtins:\n",
            "\n",
            "sorted(iterable, /, *, key=None, reverse=False)\n",
            "    Return a new list containing all items from the iterable in ascending order.\n",
            "    \n",
            "    A custom key function can be supplied to customize the sort order, and the\n",
            "    reverse flag can be set to request the result in descending order.\n",
            "\n"
          ]
        }
      ]
    },
    {
      "cell_type": "code",
      "source": [
        "students = [\n",
        "    {\"name\": \"Vineet\", \"marks\": 100},\n",
        "    {\"name\": \"Rhythm\", \"marks\": 75},\n",
        "    {\"name\": \"John\", \"marks\": 40},\n",
        "    {\"name\": \"Umesh\", \"marks\": 70},\n",
        "    {\"name\": \"Siddesh\", \"marks\": 60},\n",
        "]\n",
        "\n",
        "# Part1: sort this list of dicts on marks "
      ],
      "metadata": {
        "id": "wTDfQUVxLq1a"
      },
      "execution_count": null,
      "outputs": []
    },
    {
      "cell_type": "code",
      "source": [
        "dict1 = {\"Umesh\": 30,\n",
        "         \"John\": 90, \n",
        "         \"Rhythm\": 35,\n",
        "         \"Vineet\": 20,\n",
        "         \"Anup\": 50 }\n",
        "# sort this on marks and generate new dictionary"
      ],
      "metadata": {
        "id": "40ittP1ULUiH"
      },
      "execution_count": null,
      "outputs": []
    },
    {
      "cell_type": "code",
      "source": [
        "students = [\n",
        "    {\"name\": \"Vineet\", \"marks\": 100}, # lambda x: x['marks'] \n",
        "    {\"name\": \"Rhythm\", \"marks\": 75}, # x\n",
        "    {\"name\": \"John\", \"marks\": 40},\n",
        "    {\"name\": \"Umesh\", \"marks\": 70},\n",
        "    {\"name\": \"Siddesh\", \"marks\": 60},\n",
        "]"
      ],
      "metadata": {
        "id": "SZc8rkMyObku"
      },
      "execution_count": 61,
      "outputs": []
    },
    {
      "cell_type": "code",
      "source": [
        "print(sorted(students, key = lambda x: x['marks']))"
      ],
      "metadata": {
        "colab": {
          "base_uri": "https://localhost:8080/"
        },
        "id": "KD7seCymOcME",
        "outputId": "e03ab6b9-00e6-465d-cc7e-74de51404dd9"
      },
      "execution_count": 62,
      "outputs": [
        {
          "output_type": "stream",
          "name": "stdout",
          "text": [
            "[{'name': 'John', 'marks': 40}, {'name': 'Siddesh', 'marks': 60}, {'name': 'Umesh', 'marks': 70}, {'name': 'Rhythm', 'marks': 75}, {'name': 'Vineet', 'marks': 100}]\n"
          ]
        }
      ]
    },
    {
      "cell_type": "code",
      "source": [
        "{\"name\": \"Vineet\", \"marks\": 100}['marks']"
      ],
      "metadata": {
        "colab": {
          "base_uri": "https://localhost:8080/"
        },
        "id": "TtoLVxupOe3z",
        "outputId": "b676477a-94da-4799-fe1e-2f3fa352a8e0"
      },
      "execution_count": 59,
      "outputs": [
        {
          "output_type": "execute_result",
          "data": {
            "text/plain": [
              "100"
            ]
          },
          "metadata": {},
          "execution_count": 59
        }
      ]
    },
    {
      "cell_type": "code",
      "source": [
        "dict1 = {\"Umesh\": 30,\n",
        "         \"John\": 90, \n",
        "         \"Rhythm\": 35,\n",
        "         \"Vineet\": 20,\n",
        "         \"Anup\": 50 }\n",
        "# sort this on marks and generate new dictionary\n",
        "sorted(dict1) # sorted keys of input_dict"
      ],
      "metadata": {
        "colab": {
          "base_uri": "https://localhost:8080/"
        },
        "id": "yiZEPt1OOiDe",
        "outputId": "1c9baea1-89eb-4604-af7f-ae902ea94141"
      },
      "execution_count": 63,
      "outputs": [
        {
          "output_type": "execute_result",
          "data": {
            "text/plain": [
              "['Anup', 'John', 'Rhythm', 'Umesh', 'Vineet']"
            ]
          },
          "metadata": {},
          "execution_count": 63
        }
      ]
    },
    {
      "cell_type": "code",
      "source": [
        "list(dict1.items())"
      ],
      "metadata": {
        "colab": {
          "base_uri": "https://localhost:8080/"
        },
        "id": "pDk1F-xWPb52",
        "outputId": "106118cd-c752-4bec-b669-efb5a81c29d4"
      },
      "execution_count": 66,
      "outputs": [
        {
          "output_type": "execute_result",
          "data": {
            "text/plain": [
              "[('Umesh', 30), ('John', 90), ('Rhythm', 35), ('Vineet', 20), ('Anup', 50)]"
            ]
          },
          "metadata": {},
          "execution_count": 66
        }
      ]
    },
    {
      "cell_type": "code",
      "source": [
        "dict(sorted(list(dict1.items()), key = lambda x:x[1]))"
      ],
      "metadata": {
        "colab": {
          "base_uri": "https://localhost:8080/"
        },
        "id": "r1WHq-70Pp6u",
        "outputId": "fbf8eea7-eabb-4817-c28d-f441c950831e"
      },
      "execution_count": 68,
      "outputs": [
        {
          "output_type": "execute_result",
          "data": {
            "text/plain": [
              "{'Vineet': 20, 'Umesh': 30, 'Rhythm': 35, 'Anup': 50, 'John': 90}"
            ]
          },
          "metadata": {},
          "execution_count": 68
        }
      ]
    },
    {
      "cell_type": "markdown",
      "source": [],
      "metadata": {
        "id": "9HUiVoOnQOA1"
      }
    },
    {
      "cell_type": "code",
      "source": [
        "dict(sorted(dict1.items(), key = lambda x:x[1]))"
      ],
      "metadata": {
        "colab": {
          "base_uri": "https://localhost:8080/"
        },
        "id": "d3MwYP5bP9KB",
        "outputId": "1420b062-db56-4296-cb91-894878576d26"
      },
      "execution_count": 69,
      "outputs": [
        {
          "output_type": "execute_result",
          "data": {
            "text/plain": [
              "{'Vineet': 20, 'Umesh': 30, 'Rhythm': 35, 'Anup': 50, 'John': 90}"
            ]
          },
          "metadata": {},
          "execution_count": 69
        }
      ]
    },
    {
      "cell_type": "code",
      "source": [
        "type(dict1.items())"
      ],
      "metadata": {
        "colab": {
          "base_uri": "https://localhost:8080/"
        },
        "id": "pkK3P_JOQQ5z",
        "outputId": "58e22230-c369-4da7-ad39-a2fb19f42d63"
      },
      "execution_count": 71,
      "outputs": [
        {
          "output_type": "execute_result",
          "data": {
            "text/plain": [
              "dict_items"
            ]
          },
          "metadata": {},
          "execution_count": 71
        }
      ]
    },
    {
      "cell_type": "markdown",
      "source": [
        "perform square of each number given in a list:"
      ],
      "metadata": {
        "id": "Fam6DprPQdmC"
      }
    },
    {
      "cell_type": "code",
      "source": [
        "list1 = [ 1,2,3,4,5]"
      ],
      "metadata": {
        "id": "jjTFVO7VQSZU"
      },
      "execution_count": 77,
      "outputs": []
    },
    {
      "cell_type": "code",
      "source": [
        "new_list = []\n",
        "\n",
        "for i in list1:\n",
        "    new_list.append((lambda x:x**2)(i))\n",
        "\n",
        "new_list"
      ],
      "metadata": {
        "colab": {
          "base_uri": "https://localhost:8080/"
        },
        "id": "BCNBlLu_RGi1",
        "outputId": "d60c38da-d389-4411-c1b9-9ff16810cdf9"
      },
      "execution_count": 79,
      "outputs": [
        {
          "output_type": "execute_result",
          "data": {
            "text/plain": [
              "[1, 4, 9, 16, 25]"
            ]
          },
          "metadata": {},
          "execution_count": 79
        }
      ]
    },
    {
      "cell_type": "markdown",
      "source": [
        "map:"
      ],
      "metadata": {
        "id": "pqP1dXS-R3eb"
      }
    },
    {
      "cell_type": "code",
      "source": [
        "list1 = [ 1,2,3,4,5]\n",
        "list(map(lambda x:x**2,list1))"
      ],
      "metadata": {
        "colab": {
          "base_uri": "https://localhost:8080/"
        },
        "id": "z9X-vSSDRVJA",
        "outputId": "ad5d6bcc-abd5-404c-be7c-3b4449a17714"
      },
      "execution_count": 81,
      "outputs": [
        {
          "output_type": "execute_result",
          "data": {
            "text/plain": [
              "[1, 4, 9, 16, 25]"
            ]
          },
          "metadata": {},
          "execution_count": 81
        }
      ]
    },
    {
      "cell_type": "code",
      "source": [
        "# taking a list of numbers from user"
      ],
      "metadata": {
        "id": "8fO5fyzxSEtI"
      },
      "execution_count": 82,
      "outputs": []
    },
    {
      "cell_type": "code",
      "source": [
        "input_list = map(int, input().split(\" \"))"
      ],
      "metadata": {
        "colab": {
          "base_uri": "https://localhost:8080/"
        },
        "id": "xkmjfFFWT6fl",
        "outputId": "24d39b75-9f29-4242-e194-59e477686823"
      },
      "execution_count": 95,
      "outputs": [
        {
          "name": "stdout",
          "output_type": "stream",
          "text": [
            "1 2 3 4 5\n"
          ]
        }
      ]
    },
    {
      "cell_type": "code",
      "source": [
        "type(input_list)"
      ],
      "metadata": {
        "colab": {
          "base_uri": "https://localhost:8080/"
        },
        "id": "nbnAJeN6T9sa",
        "outputId": "13eb5a66-951d-42ea-bf7c-76382c9b8237"
      },
      "execution_count": 96,
      "outputs": [
        {
          "output_type": "execute_result",
          "data": {
            "text/plain": [
              "map"
            ]
          },
          "metadata": {},
          "execution_count": 96
        }
      ]
    },
    {
      "cell_type": "code",
      "source": [
        "list(input_list)"
      ],
      "metadata": {
        "colab": {
          "base_uri": "https://localhost:8080/"
        },
        "id": "EokSD5WJUnhO",
        "outputId": "60e238f3-fc59-4d0b-dbf8-8316ab0332f1"
      },
      "execution_count": 97,
      "outputs": [
        {
          "output_type": "execute_result",
          "data": {
            "text/plain": [
              "[1, 2, 3, 4, 5]"
            ]
          },
          "metadata": {},
          "execution_count": 97
        }
      ]
    },
    {
      "cell_type": "code",
      "source": [
        "input_list = map(int, input().split(\" \"))\n",
        "for i in input_list:\n",
        "    print(type(i), i)"
      ],
      "metadata": {
        "colab": {
          "base_uri": "https://localhost:8080/"
        },
        "id": "F7HY85D2UCUl",
        "outputId": "cc071487-21b6-4957-c3c2-5e28845cfb22"
      },
      "execution_count": 99,
      "outputs": [
        {
          "output_type": "stream",
          "name": "stdout",
          "text": [
            "1 2 3 4 5\n",
            "<class 'int'> 1\n",
            "<class 'int'> 2\n",
            "<class 'int'> 3\n",
            "<class 'int'> 4\n",
            "<class 'int'> 5\n"
          ]
        }
      ]
    },
    {
      "cell_type": "code",
      "source": [
        "# map on map"
      ],
      "metadata": {
        "id": "s352n62QUD_M"
      },
      "execution_count": 100,
      "outputs": []
    },
    {
      "cell_type": "markdown",
      "source": [
        "### Filter"
      ],
      "metadata": {
        "id": "n0oBJB7vVI10"
      }
    },
    {
      "cell_type": "code",
      "source": [
        "list1 = [ 1,2,3,4,5]\n",
        "list(filter(lambda x: x%2==0, list1))"
      ],
      "metadata": {
        "colab": {
          "base_uri": "https://localhost:8080/"
        },
        "id": "wWs-TWQvUI0N",
        "outputId": "efdc8294-dc80-461f-f77d-7d2b32f2ef2b"
      },
      "execution_count": 102,
      "outputs": [
        {
          "output_type": "execute_result",
          "data": {
            "text/plain": [
              "[2, 4]"
            ]
          },
          "metadata": {},
          "execution_count": 102
        }
      ]
    },
    {
      "cell_type": "code",
      "source": [
        "def check_even(x):\n",
        "    return x%2==0\n",
        "list1 = [ 1,2,3,4,5]\n",
        "list(filter(check_even, list1))"
      ],
      "metadata": {
        "colab": {
          "base_uri": "https://localhost:8080/"
        },
        "id": "5d5oEdEYVbu7",
        "outputId": "7bdaf2fa-3271-4304-936b-4e9614e5a415"
      },
      "execution_count": 103,
      "outputs": [
        {
          "output_type": "execute_result",
          "data": {
            "text/plain": [
              "[2, 4]"
            ]
          },
          "metadata": {},
          "execution_count": 103
        }
      ]
    },
    {
      "cell_type": "code",
      "source": [
        "def check_even(x):\n",
        "    return x\n",
        "\n",
        "if check_even(0):\n",
        "    print(\"Hello\")"
      ],
      "metadata": {
        "id": "V6oMMVD3WsdU"
      },
      "execution_count": 106,
      "outputs": []
    },
    {
      "cell_type": "code",
      "source": [
        "def check_even(x):\n",
        "    return x\n",
        "list1 = [ 1,2,3,4,5]\n",
        "list(filter(check_even, list1))"
      ],
      "metadata": {
        "colab": {
          "base_uri": "https://localhost:8080/"
        },
        "id": "Yi1dCHEmW8BN",
        "outputId": "db67d51e-39aa-4a2f-a049-056617654734"
      },
      "execution_count": 107,
      "outputs": [
        {
          "output_type": "execute_result",
          "data": {
            "text/plain": [
              "[1, 2, 3, 4, 5]"
            ]
          },
          "metadata": {},
          "execution_count": 107
        }
      ]
    },
    {
      "cell_type": "code",
      "source": [
        "def check_even(x):\n",
        "    return x\n",
        "list1 = [0, 1,2,3,4,5, None]\n",
        "list(filter(check_even, list1))"
      ],
      "metadata": {
        "colab": {
          "base_uri": "https://localhost:8080/"
        },
        "id": "lsIDECCzXFjK",
        "outputId": "70e71aeb-4335-46ce-be6b-62a0c0c84550"
      },
      "execution_count": 108,
      "outputs": [
        {
          "output_type": "execute_result",
          "data": {
            "text/plain": [
              "[1, 2, 3, 4, 5]"
            ]
          },
          "metadata": {},
          "execution_count": 108
        }
      ]
    },
    {
      "cell_type": "markdown",
      "source": [
        "Functional Programming:\n",
        "- Quizzes\n",
        "- Reduce \n",
        "- Zip\n",
        "\n",
        "Higher Order Function\n",
        "- Decorators\n",
        "\n",
        "- packing and unpacking: *args and **kwargs"
      ],
      "metadata": {
        "id": "l_Dzlqk9XQOF"
      }
    },
    {
      "cell_type": "code",
      "source": [
        "class A:\n",
        "    pass\n",
        "\n",
        "a = A() # new function and init function\n",
        "# new: it will allocate memory for your object\n",
        "# init: it will initialize instance vars"
      ],
      "metadata": {
        "id": "QOKlTBY9XMOs"
      },
      "execution_count": null,
      "outputs": []
    },
    {
      "cell_type": "markdown",
      "source": [
        "### can we write recursive function using lambda?"
      ],
      "metadata": {
        "id": "mFJQeDJ_Ygxa"
      }
    },
    {
      "cell_type": "code",
      "source": [
        "# !python"
      ],
      "metadata": {
        "id": "BGfbzTq-YkDY"
      },
      "execution_count": 1,
      "outputs": []
    },
    {
      "cell_type": "code",
      "source": [],
      "metadata": {
        "id": "024jQapdZGFI"
      },
      "execution_count": null,
      "outputs": []
    }
  ]
}