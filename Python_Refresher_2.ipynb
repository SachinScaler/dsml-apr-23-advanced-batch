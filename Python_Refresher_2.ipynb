{
  "nbformat": 4,
  "nbformat_minor": 0,
  "metadata": {
    "colab": {
      "provenance": [],
      "authorship_tag": "ABX9TyOyczmmCz9lhUrKMQNjvndH",
      "include_colab_link": true
    },
    "kernelspec": {
      "name": "python3",
      "display_name": "Python 3"
    },
    "language_info": {
      "name": "python"
    }
  },
  "cells": [
    {
      "cell_type": "markdown",
      "metadata": {
        "id": "view-in-github",
        "colab_type": "text"
      },
      "source": [
        "<a href=\"https://colab.research.google.com/github/SachinScaler/dsml-apr-23-advanced-batch/blob/main/Python_Refresher_2.ipynb\" target=\"_parent\"><img src=\"https://colab.research.google.com/assets/colab-badge.svg\" alt=\"Open In Colab\"/></a>"
      ]
    },
    {
      "cell_type": "code",
      "execution_count": null,
      "metadata": {
        "colab": {
          "base_uri": "https://localhost:8080/"
        },
        "id": "6Nc8WIqsIx5E",
        "outputId": "d7108506-60ef-401a-ae24-6c1aafccc94a"
      },
      "outputs": [
        {
          "output_type": "stream",
          "name": "stdout",
          "text": [
            "[1, 2, 3, [4, 5]]\n"
          ]
        }
      ],
      "source": [
        "list1 = [1,2,3] \n",
        "a = id(list1) \n",
        "list1.append([4,5]) \n",
        "print(list1)\n"
      ]
    },
    {
      "cell_type": "code",
      "source": [
        "import numpy as np\n",
        "\n",
        "a = np.array([1,2])"
      ],
      "metadata": {
        "id": "GJ8htC6zKdag"
      },
      "execution_count": null,
      "outputs": []
    },
    {
      "cell_type": "code",
      "source": [
        "id(a)"
      ],
      "metadata": {
        "colab": {
          "base_uri": "https://localhost:8080/"
        },
        "id": "UzxauuBaKjG3",
        "outputId": "15dd91fe-9e2e-453e-db62-284cf3c4a282"
      },
      "execution_count": null,
      "outputs": [
        {
          "output_type": "execute_result",
          "data": {
            "text/plain": [
              "140019652240272"
            ]
          },
          "metadata": {},
          "execution_count": 4
        }
      ]
    },
    {
      "cell_type": "code",
      "source": [
        "a[1]= 5"
      ],
      "metadata": {
        "id": "P6aU0gP0KlP4"
      },
      "execution_count": null,
      "outputs": []
    },
    {
      "cell_type": "code",
      "source": [
        "id(a)"
      ],
      "metadata": {
        "colab": {
          "base_uri": "https://localhost:8080/"
        },
        "id": "0ad6UPJKKoIw",
        "outputId": "59f50f77-b015-4bab-d85a-6f487bed63a2"
      },
      "execution_count": null,
      "outputs": [
        {
          "output_type": "execute_result",
          "data": {
            "text/plain": [
              "140019652240272"
            ]
          },
          "metadata": {},
          "execution_count": 6
        }
      ]
    },
    {
      "cell_type": "code",
      "source": [
        "list1 = [1,2,3]\n",
        "a = id(list1)\n",
        "list1.append([4,5])\n",
        "b = id(list1)\n",
        "\n",
        "print(a==b)"
      ],
      "metadata": {
        "colab": {
          "base_uri": "https://localhost:8080/"
        },
        "id": "VjYnAp-FKpDJ",
        "outputId": "9417d672-2e5e-4667-a1a5-acffabad8e6b"
      },
      "execution_count": null,
      "outputs": [
        {
          "output_type": "stream",
          "name": "stdout",
          "text": [
            "True\n"
          ]
        }
      ]
    },
    {
      "cell_type": "code",
      "source": [
        "list1 = [1,2,3]\n",
        "a = id(list1)\n",
        "list1.append(\"Hello\")\n",
        "b = id(list1)\n",
        "\n",
        "print(a==b)"
      ],
      "metadata": {
        "colab": {
          "base_uri": "https://localhost:8080/"
        },
        "id": "txSCyObRLEIM",
        "outputId": "098023b5-b448-4bb7-af30-f6f8f4f77bb6"
      },
      "execution_count": null,
      "outputs": [
        {
          "output_type": "stream",
          "name": "stdout",
          "text": [
            "True\n"
          ]
        }
      ]
    },
    {
      "cell_type": "code",
      "source": [
        "list1 = [1,2,3]\n",
        "list1.append(\"Hello\")\n",
        "a = id(list1)\n",
        "list1[-1] = list1[-1]+\"World\"\n",
        "b = id(list1)\n",
        "\n",
        "print(a==b)"
      ],
      "metadata": {
        "colab": {
          "base_uri": "https://localhost:8080/"
        },
        "id": "wdHSEcI_LZbc",
        "outputId": "a51c7e68-db3b-4688-d0ee-4259dbfc5cfa"
      },
      "execution_count": null,
      "outputs": [
        {
          "output_type": "stream",
          "name": "stdout",
          "text": [
            "True\n"
          ]
        }
      ]
    },
    {
      "cell_type": "code",
      "source": [
        "list1 = [1,2,3]\n",
        "list1.append(\"Hello\")\n",
        "a = id(list1[-1]) # id of hello: immutable\n",
        "list1[-1] = list1[-1]+\"World\" # modify hello\n",
        "b = id(list1[-1]) # id of hello changes?\n",
        "\n",
        "print(a==b)"
      ],
      "metadata": {
        "colab": {
          "base_uri": "https://localhost:8080/"
        },
        "id": "24TQchL1Lw5m",
        "outputId": "295e49ad-650f-4420-da29-af3732f3e6a4"
      },
      "execution_count": null,
      "outputs": [
        {
          "output_type": "stream",
          "name": "stdout",
          "text": [
            "False\n"
          ]
        }
      ]
    },
    {
      "cell_type": "code",
      "source": [
        "list1 = [1,2,3]\n",
        "list2 = [4,5]\n",
        "list1.append(list2)\n",
        "print(list1)\n"
      ],
      "metadata": {
        "colab": {
          "base_uri": "https://localhost:8080/"
        },
        "id": "z-IZhK-jMYz9",
        "outputId": "a1a53f43-16b8-4b2c-c128-466c9f71f0ca"
      },
      "execution_count": null,
      "outputs": [
        {
          "output_type": "stream",
          "name": "stdout",
          "text": [
            "[1, 2, 3, [4, 5]]\n"
          ]
        }
      ]
    },
    {
      "cell_type": "code",
      "source": [
        "[1,2,3,4,5]"
      ],
      "metadata": {
        "id": "dtcw4EpiMqeV"
      },
      "execution_count": null,
      "outputs": []
    },
    {
      "cell_type": "code",
      "source": [
        "list1 = [1,2,3]\n",
        "list2 = [4,5]\n",
        "list1.extend(list2)\n",
        "print(list1)"
      ],
      "metadata": {
        "colab": {
          "base_uri": "https://localhost:8080/"
        },
        "id": "ZH2A7YlBMxgs",
        "outputId": "705ecdb3-a61d-49dc-d56e-a911eaca5e76"
      },
      "execution_count": null,
      "outputs": [
        {
          "output_type": "stream",
          "name": "stdout",
          "text": [
            "[1, 2, 3, 4, 5]\n"
          ]
        }
      ]
    },
    {
      "cell_type": "code",
      "source": [
        "list1 = [1,2,3]\n",
        "list2 = [4,5]\n",
        "list1+list2"
      ],
      "metadata": {
        "colab": {
          "base_uri": "https://localhost:8080/"
        },
        "id": "szJNOeWBM1mA",
        "outputId": "e7f4e766-5d7a-454f-c0e7-aabc3ba01d91"
      },
      "execution_count": null,
      "outputs": [
        {
          "output_type": "execute_result",
          "data": {
            "text/plain": [
              "[1, 2, 3, 4, 5]"
            ]
          },
          "metadata": {},
          "execution_count": 14
        }
      ]
    },
    {
      "cell_type": "code",
      "source": [
        "list1 = [1,2,3]\n",
        "list2 = [4,5]\n",
        "print(id(list1))\n",
        "list1.extend(list2)\n",
        "print(id(list1))"
      ],
      "metadata": {
        "colab": {
          "base_uri": "https://localhost:8080/"
        },
        "id": "K47AhjI_NACS",
        "outputId": "e70e5967-35d5-4ed2-fd3b-6ea406d6323c"
      },
      "execution_count": null,
      "outputs": [
        {
          "output_type": "stream",
          "name": "stdout",
          "text": [
            "140019651321984\n",
            "140019651321984\n"
          ]
        }
      ]
    },
    {
      "cell_type": "code",
      "source": [
        "list1 = [1,2,3]\n",
        "list2 = [4,5]\n",
        "print(id(list2))\n",
        "list2.extend(list1)\n",
        "print(id(list2))"
      ],
      "metadata": {
        "colab": {
          "base_uri": "https://localhost:8080/"
        },
        "id": "4fCW-fF8NZUU",
        "outputId": "688733f8-7559-471a-b577-a4cca9190ca7"
      },
      "execution_count": null,
      "outputs": [
        {
          "output_type": "stream",
          "name": "stdout",
          "text": [
            "140020040584320\n",
            "140020040584320\n"
          ]
        }
      ]
    },
    {
      "cell_type": "code",
      "source": [
        "print(list2)"
      ],
      "metadata": {
        "colab": {
          "base_uri": "https://localhost:8080/"
        },
        "id": "TH6LaOHbNfVq",
        "outputId": "efbc06c6-8cbe-4893-a523-b37b5762adb7"
      },
      "execution_count": null,
      "outputs": [
        {
          "output_type": "stream",
          "name": "stdout",
          "text": [
            "[4, 5, 1, 2, 3]\n"
          ]
        }
      ]
    },
    {
      "cell_type": "code",
      "source": [
        "list1 = [1,2,3]\n",
        "a = id(list1)\n",
        "list2 = [4,5]\n",
        "list1 = list1+list2\n",
        "b = id(list1)\n",
        "print(a==b)"
      ],
      "metadata": {
        "colab": {
          "base_uri": "https://localhost:8080/"
        },
        "id": "JeECBZZRNiEJ",
        "outputId": "051d3d56-88d3-4c6f-a277-92bb6727527b"
      },
      "execution_count": null,
      "outputs": [
        {
          "output_type": "stream",
          "name": "stdout",
          "text": [
            "False\n"
          ]
        }
      ]
    },
    {
      "cell_type": "code",
      "source": [
        "print(a,b)"
      ],
      "metadata": {
        "colab": {
          "base_uri": "https://localhost:8080/"
        },
        "id": "PVEb79DgN65L",
        "outputId": "f0239cf2-c91c-4adf-b4cf-800f30d9c998"
      },
      "execution_count": null,
      "outputs": [
        {
          "output_type": "stream",
          "name": "stdout",
          "text": [
            "140019651776192 140019651775808\n"
          ]
        }
      ]
    },
    {
      "cell_type": "code",
      "source": [
        "max(list1)"
      ],
      "metadata": {
        "colab": {
          "base_uri": "https://localhost:8080/"
        },
        "id": "moiqB01-N9V9",
        "outputId": "28abc698-1773-4ad4-8014-a390bdca7fb9"
      },
      "execution_count": null,
      "outputs": [
        {
          "output_type": "execute_result",
          "data": {
            "text/plain": [
              "5"
            ]
          },
          "metadata": {},
          "execution_count": 20
        }
      ]
    },
    {
      "cell_type": "code",
      "source": [
        "min(list1)"
      ],
      "metadata": {
        "colab": {
          "base_uri": "https://localhost:8080/"
        },
        "id": "zLBF0uh7ORfh",
        "outputId": "88903191-06cf-4893-d734-086fcd576468"
      },
      "execution_count": null,
      "outputs": [
        {
          "output_type": "execute_result",
          "data": {
            "text/plain": [
              "1"
            ]
          },
          "metadata": {},
          "execution_count": 21
        }
      ]
    },
    {
      "cell_type": "code",
      "source": [
        "sum(list1)"
      ],
      "metadata": {
        "colab": {
          "base_uri": "https://localhost:8080/"
        },
        "id": "GdGgQLKfOS04",
        "outputId": "bbd85dc9-48a0-4da9-eb2b-6fd6549acdeb"
      },
      "execution_count": null,
      "outputs": [
        {
          "output_type": "execute_result",
          "data": {
            "text/plain": [
              "15"
            ]
          },
          "metadata": {},
          "execution_count": 22
        }
      ]
    },
    {
      "cell_type": "code",
      "source": [
        "### sorting\n",
        "list1 = [2,434,1,-1]\n",
        "list1.sort() # inplace operation, doesn't return\n",
        "print(list1)"
      ],
      "metadata": {
        "colab": {
          "base_uri": "https://localhost:8080/"
        },
        "id": "eYVFD7i9OUVx",
        "outputId": "d3ef14fb-d8be-477f-87e1-b1de1f7268c3"
      },
      "execution_count": null,
      "outputs": [
        {
          "output_type": "stream",
          "name": "stdout",
          "text": [
            "[-1, 1, 2, 434]\n"
          ]
        }
      ]
    },
    {
      "cell_type": "code",
      "source": [
        "list1 = [2,434,1,-1]\n",
        "list1 = sorted(list1)\n",
        "print(list1)"
      ],
      "metadata": {
        "colab": {
          "base_uri": "https://localhost:8080/"
        },
        "id": "l63sTVSIOfjF",
        "outputId": "354b36bf-e847-4e61-a766-be019b654073"
      },
      "execution_count": null,
      "outputs": [
        {
          "output_type": "stream",
          "name": "stdout",
          "text": [
            "[-1, 1, 2, 434]\n"
          ]
        }
      ]
    },
    {
      "cell_type": "code",
      "source": [
        "len(list1)"
      ],
      "metadata": {
        "colab": {
          "base_uri": "https://localhost:8080/"
        },
        "id": "6ZgczBNjOwVU",
        "outputId": "c3ece92b-e727-4ff8-ee0b-3f7be335d5ea"
      },
      "execution_count": null,
      "outputs": [
        {
          "output_type": "execute_result",
          "data": {
            "text/plain": [
              "4"
            ]
          },
          "metadata": {},
          "execution_count": 30
        }
      ]
    },
    {
      "cell_type": "code",
      "source": [
        "###\n",
        "list1 = [2,434,1,-1]\n",
        "list1 = sorted(list1)\n",
        "print(list1)"
      ],
      "metadata": {
        "colab": {
          "base_uri": "https://localhost:8080/"
        },
        "id": "DyUX2Am1PCZ-",
        "outputId": "0feea5d7-fc1d-4a61-a9dc-fa24e02b0bc7"
      },
      "execution_count": null,
      "outputs": [
        {
          "output_type": "stream",
          "name": "stdout",
          "text": [
            "[-1, 1, 2, 434]\n"
          ]
        }
      ]
    },
    {
      "cell_type": "code",
      "source": [
        "# approach 1\n",
        "list1 = [2,434,1,-1]\n",
        "list1 = sorted(list1, reverse = True)\n",
        "print(list1)"
      ],
      "metadata": {
        "colab": {
          "base_uri": "https://localhost:8080/"
        },
        "id": "YT2GmBV3PJwG",
        "outputId": "d46b52b4-c45d-42bd-a112-76ac78d0088b"
      },
      "execution_count": null,
      "outputs": [
        {
          "output_type": "stream",
          "name": "stdout",
          "text": [
            "[434, 2, 1, -1]\n"
          ]
        }
      ]
    },
    {
      "cell_type": "code",
      "source": [
        "# approach 2\n",
        "list1 = [2,434,1,-1]\n",
        "list1 = sorted(list1)\n",
        "list1.reverse()\n",
        "print(list1)"
      ],
      "metadata": {
        "colab": {
          "base_uri": "https://localhost:8080/"
        },
        "id": "seDg4fPEPVL5",
        "outputId": "36fa4bd3-90af-4e69-aacb-74c8c4503331"
      },
      "execution_count": null,
      "outputs": [
        {
          "output_type": "stream",
          "name": "stdout",
          "text": [
            "[434, 2, 1, -1]\n"
          ]
        }
      ]
    },
    {
      "cell_type": "code",
      "source": [
        "# approach 3: Slicing\n",
        "list1 = [2,434,1,-1]\n",
        "list1 = sorted(list1)\n",
        "print(list1[::-1])"
      ],
      "metadata": {
        "colab": {
          "base_uri": "https://localhost:8080/"
        },
        "id": "0Qut3IlcPb7p",
        "outputId": "972f2279-fafe-498a-980b-9b627349c5be"
      },
      "execution_count": null,
      "outputs": [
        {
          "output_type": "stream",
          "name": "stdout",
          "text": [
            "[434, 2, 1, -1]\n"
          ]
        }
      ]
    },
    {
      "cell_type": "code",
      "source": [
        "[1,2,3][0:100:-2]"
      ],
      "metadata": {
        "colab": {
          "base_uri": "https://localhost:8080/"
        },
        "id": "GQ-wp8DQPsbY",
        "outputId": "e612a136-6a17-4fdf-bbd0-44c6c452ae52"
      },
      "execution_count": null,
      "outputs": [
        {
          "output_type": "execute_result",
          "data": {
            "text/plain": [
              "[]"
            ]
          },
          "metadata": {},
          "execution_count": 36
        }
      ]
    },
    {
      "cell_type": "code",
      "source": [
        "[1,2,3][0::-2]"
      ],
      "metadata": {
        "colab": {
          "base_uri": "https://localhost:8080/"
        },
        "id": "piZidcy4R3Oa",
        "outputId": "ee27e3cc-df86-4b4c-d7fd-839d8f642740"
      },
      "execution_count": null,
      "outputs": [
        {
          "output_type": "execute_result",
          "data": {
            "text/plain": [
              "[1]"
            ]
          },
          "metadata": {},
          "execution_count": 37
        }
      ]
    },
    {
      "cell_type": "code",
      "source": [
        "a = [1,2,3,4,5,6,8,9]\n",
        "for i in range(0, 4):\n",
        "    print(a[i])"
      ],
      "metadata": {
        "colab": {
          "base_uri": "https://localhost:8080/"
        },
        "id": "pJS0rqvISGIX",
        "outputId": "6d1be780-f847-43b0-a267-b57c42ab80f9"
      },
      "execution_count": null,
      "outputs": [
        {
          "output_type": "stream",
          "name": "stdout",
          "text": [
            "1\n",
            "2\n",
            "3\n",
            "4\n"
          ]
        }
      ]
    },
    {
      "cell_type": "code",
      "source": [
        "for i in range(0, 4, 2): # use indexes to access elements\n",
        "    print(a[i])"
      ],
      "metadata": {
        "colab": {
          "base_uri": "https://localhost:8080/"
        },
        "id": "QaP4gWAlSysh",
        "outputId": "46ea8390-ef66-4913-8a73-9e2a0b0fab6c"
      },
      "execution_count": null,
      "outputs": [
        {
          "output_type": "stream",
          "name": "stdout",
          "text": [
            "1\n",
            "3\n"
          ]
        }
      ]
    },
    {
      "cell_type": "code",
      "source": [
        "for i in a: # directly access elements\n",
        "    print(i)"
      ],
      "metadata": {
        "colab": {
          "base_uri": "https://localhost:8080/"
        },
        "id": "VU0431pWS-C5",
        "outputId": "b143d0aa-c1ca-4316-9906-5a497670215f"
      },
      "execution_count": null,
      "outputs": [
        {
          "output_type": "stream",
          "name": "stdout",
          "text": [
            "1\n",
            "2\n",
            "3\n",
            "4\n",
            "5\n",
            "6\n",
            "8\n",
            "9\n"
          ]
        }
      ]
    },
    {
      "cell_type": "code",
      "source": [
        "for i,j in enumerate(a): # directly access elements\n",
        "    print(i, j)"
      ],
      "metadata": {
        "colab": {
          "base_uri": "https://localhost:8080/"
        },
        "id": "E3VjPsUxTFZD",
        "outputId": "8b3060c6-a4b7-4047-a894-f1ebc67bb890"
      },
      "execution_count": null,
      "outputs": [
        {
          "output_type": "stream",
          "name": "stdout",
          "text": [
            "0 1\n",
            "1 2\n",
            "2 3\n",
            "3 4\n",
            "4 5\n",
            "5 6\n",
            "6 8\n",
            "7 9\n"
          ]
        }
      ]
    },
    {
      "cell_type": "code",
      "source": [
        "list(enumerate(a))"
      ],
      "metadata": {
        "colab": {
          "base_uri": "https://localhost:8080/"
        },
        "id": "xKGJBeKuTWpC",
        "outputId": "21966bc2-a448-48e7-9e0a-fcf26f1aad24"
      },
      "execution_count": null,
      "outputs": [
        {
          "output_type": "execute_result",
          "data": {
            "text/plain": [
              "[(0, 1), (1, 2), (2, 3), (3, 4), (4, 5), (5, 6), (6, 8), (7, 9)]"
            ]
          },
          "metadata": {},
          "execution_count": 44
        }
      ]
    },
    {
      "cell_type": "code",
      "source": [
        "dict(enumerate(a))"
      ],
      "metadata": {
        "colab": {
          "base_uri": "https://localhost:8080/"
        },
        "id": "A3EWBsdmTW8j",
        "outputId": "719f6355-8450-4cbf-8452-ef684e34a370"
      },
      "execution_count": null,
      "outputs": [
        {
          "output_type": "execute_result",
          "data": {
            "text/plain": [
              "{0: 1, 1: 2, 2: 3, 3: 4, 4: 5, 5: 6, 6: 8, 7: 9}"
            ]
          },
          "metadata": {},
          "execution_count": 45
        }
      ]
    },
    {
      "cell_type": "code",
      "source": [
        "a= 1\n",
        "b = 2"
      ],
      "metadata": {
        "id": "7n1_jxTuTgDO"
      },
      "execution_count": null,
      "outputs": []
    },
    {
      "cell_type": "markdown",
      "source": [
        "# unpacking"
      ],
      "metadata": {
        "id": "2YZGbFa1T--W"
      }
    },
    {
      "cell_type": "code",
      "source": [
        "a,b = 1,2\n",
        "print(a)\n",
        "print(b)"
      ],
      "metadata": {
        "colab": {
          "base_uri": "https://localhost:8080/"
        },
        "id": "jHW0NTbKT6pT",
        "outputId": "ea65327e-e51d-4523-f89d-04ca1955f2d5"
      },
      "execution_count": null,
      "outputs": [
        {
          "output_type": "stream",
          "name": "stdout",
          "text": [
            "1\n",
            "2\n"
          ]
        }
      ]
    },
    {
      "cell_type": "code",
      "source": [
        "a,b,c = [1,2,3]"
      ],
      "metadata": {
        "id": "sAAsiWlAUAWO"
      },
      "execution_count": null,
      "outputs": []
    },
    {
      "cell_type": "code",
      "source": [
        "a = [1,2,3]\n",
        "for tup in enumerate(a): # directly access elements\n",
        "    print(tup)"
      ],
      "metadata": {
        "colab": {
          "base_uri": "https://localhost:8080/"
        },
        "id": "AU28oMkHUGiL",
        "outputId": "73d8d2af-b4e2-4378-b467-04e6cd729206"
      },
      "execution_count": null,
      "outputs": [
        {
          "output_type": "stream",
          "name": "stdout",
          "text": [
            "(0, 1)\n",
            "(1, 2)\n",
            "(2, 3)\n"
          ]
        }
      ]
    },
    {
      "cell_type": "code",
      "source": [
        "print(enumerate(a))"
      ],
      "metadata": {
        "colab": {
          "base_uri": "https://localhost:8080/"
        },
        "id": "ZC7tKFJnUeur",
        "outputId": "31be42b2-f694-489f-a9e3-dcfec5592901"
      },
      "execution_count": null,
      "outputs": [
        {
          "output_type": "stream",
          "name": "stdout",
          "text": [
            "<enumerate object at 0x7f58dd908f00>\n"
          ]
        }
      ]
    },
    {
      "cell_type": "code",
      "source": [
        "for i in range(len(a)): \n",
        "    print(i,a[i])"
      ],
      "metadata": {
        "colab": {
          "base_uri": "https://localhost:8080/"
        },
        "id": "2A2ThFsyUoBi",
        "outputId": "697b8237-4b46-426d-c97c-d17b3142fe11"
      },
      "execution_count": null,
      "outputs": [
        {
          "output_type": "stream",
          "name": "stdout",
          "text": [
            "0 1\n",
            "1 2\n",
            "2 3\n"
          ]
        }
      ]
    },
    {
      "cell_type": "code",
      "source": [
        "list1 = ['s', 'a','c', 'h', 'i', 'n']"
      ],
      "metadata": {
        "id": "mRu8Q1pmUzFq"
      },
      "execution_count": null,
      "outputs": []
    },
    {
      "cell_type": "code",
      "source": [
        "str1 = \"\"\n",
        "print(id(str1))\n",
        "for i in list1:\n",
        "    str1+=i\n",
        "print(id(str1))"
      ],
      "metadata": {
        "colab": {
          "base_uri": "https://localhost:8080/"
        },
        "id": "cd18eeI7VIlZ",
        "outputId": "a651a71c-0d0c-472c-a484-f13267a09afe"
      },
      "execution_count": null,
      "outputs": [
        {
          "output_type": "stream",
          "name": "stdout",
          "text": [
            "140020427974384\n",
            "140019161828208\n"
          ]
        }
      ]
    },
    {
      "cell_type": "code",
      "source": [
        "list1 = ['s', 'a','c', 'h', 'i', 'n']\n",
        "\"\".join(list1)"
      ],
      "metadata": {
        "colab": {
          "base_uri": "https://localhost:8080/",
          "height": 36
        },
        "id": "RB6UCxgtVPcW",
        "outputId": "be3ceabc-53b0-45bc-f2ca-a6a5be31f946"
      },
      "execution_count": null,
      "outputs": [
        {
          "output_type": "execute_result",
          "data": {
            "text/plain": [
              "'sachin'"
            ],
            "application/vnd.google.colaboratory.intrinsic+json": {
              "type": "string"
            }
          },
          "metadata": {},
          "execution_count": 66
        }
      ]
    },
    {
      "cell_type": "code",
      "source": [
        "list1 = ['s', 'a','c', 'h', 'i', 'n']\n",
        "\" \".join(list1)"
      ],
      "metadata": {
        "colab": {
          "base_uri": "https://localhost:8080/",
          "height": 36
        },
        "id": "nUEm5fWyVtUE",
        "outputId": "8b88fe26-4f43-4ce9-a4b3-303add1443c0"
      },
      "execution_count": null,
      "outputs": [
        {
          "output_type": "execute_result",
          "data": {
            "text/plain": [
              "'s a c h i n'"
            ],
            "application/vnd.google.colaboratory.intrinsic+json": {
              "type": "string"
            }
          },
          "metadata": {},
          "execution_count": 67
        }
      ]
    },
    {
      "cell_type": "markdown",
      "source": [],
      "metadata": {
        "id": "WTYdBZ2gV0-W"
      }
    },
    {
      "cell_type": "code",
      "source": [
        "str1 = \"\"\n",
        "list1 = [ 1,2,3,4]\n",
        "for i in list1:\n",
        "    str1+=i # change this only\n",
        "str1 # \"1 2 3 4\""
      ],
      "metadata": {
        "id": "J3PXYMYvVvvx"
      },
      "execution_count": null,
      "outputs": []
    },
    {
      "cell_type": "code",
      "source": [
        "list1 = [1,2,3,4]\n",
        "# list2 = [1, 4, 9, 16]"
      ],
      "metadata": {
        "id": "9w8fz97cWGbs"
      },
      "execution_count": null,
      "outputs": []
    },
    {
      "cell_type": "code",
      "source": [
        "list2 = []\n",
        "for i in list1:\n",
        "    list2.append(i**2)\n",
        "\n",
        "list2"
      ],
      "metadata": {
        "colab": {
          "base_uri": "https://localhost:8080/"
        },
        "id": "BHWhHgujWULt",
        "outputId": "ddd9a0fe-8024-422e-cfba-309a6f1e5cb6"
      },
      "execution_count": null,
      "outputs": [
        {
          "output_type": "execute_result",
          "data": {
            "text/plain": [
              "[1, 4, 9, 16]"
            ]
          },
          "metadata": {},
          "execution_count": 70
        }
      ]
    },
    {
      "cell_type": "code",
      "source": [],
      "metadata": {
        "id": "JnBwSpSEWfWa"
      },
      "execution_count": null,
      "outputs": []
    },
    {
      "cell_type": "markdown",
      "source": [
        "### To generate new list from existing list, we can use list comprehension"
      ],
      "metadata": {
        "id": "c3EppCtcWf6p"
      }
    },
    {
      "cell_type": "code",
      "source": [
        "[i**2 for i in list1]"
      ],
      "metadata": {
        "colab": {
          "base_uri": "https://localhost:8080/"
        },
        "id": "Onn5a0ouWaoC",
        "outputId": "743fede3-f6e1-4e38-abaa-52e53b6e498d"
      },
      "execution_count": null,
      "outputs": [
        {
          "output_type": "execute_result",
          "data": {
            "text/plain": [
              "[1, 4, 9, 16]"
            ]
          },
          "metadata": {},
          "execution_count": 71
        }
      ]
    },
    {
      "cell_type": "code",
      "source": [
        "# map: functional programming "
      ],
      "metadata": {
        "id": "g0D0IZmkWpfX"
      },
      "execution_count": null,
      "outputs": []
    },
    {
      "cell_type": "markdown",
      "source": [
        "###  HW: use list comprehension to output square of odd number of an input_list\n",
        "```\n",
        "[1,2,3,4,5,6,7]\n",
        "[1,9,25,49]\n",
        "\n",
        "```"
      ],
      "metadata": {
        "id": "V_ul49ILW7un"
      }
    },
    {
      "cell_type": "markdown",
      "source": [
        "Strings"
      ],
      "metadata": {
        "id": "aUHvrMiHagS6"
      }
    },
    {
      "cell_type": "code",
      "source": [
        "str1 = \"sachin\"\n",
        "list(str1)"
      ],
      "metadata": {
        "colab": {
          "base_uri": "https://localhost:8080/"
        },
        "id": "vx4eh5GPW58E",
        "outputId": "f52edd7e-8699-47a9-a958-4dd89f776f3f"
      },
      "execution_count": null,
      "outputs": [
        {
          "output_type": "execute_result",
          "data": {
            "text/plain": [
              "['s', 'a', 'c', 'h', 'i', 'n']"
            ]
          },
          "metadata": {},
          "execution_count": 72
        }
      ]
    },
    {
      "cell_type": "code",
      "source": [
        "str1.split()"
      ],
      "metadata": {
        "colab": {
          "base_uri": "https://localhost:8080/"
        },
        "id": "2CFNvcE7an3L",
        "outputId": "55651253-d07a-4f4a-eea9-f9dcde2dad8b"
      },
      "execution_count": null,
      "outputs": [
        {
          "output_type": "execute_result",
          "data": {
            "text/plain": [
              "['sachin']"
            ]
          },
          "metadata": {},
          "execution_count": 73
        }
      ]
    },
    {
      "cell_type": "code",
      "source": [
        "string = \"1,2,3,4,5\"\n",
        "#[ 1,2,3,4,5]\n",
        "list(string)"
      ],
      "metadata": {
        "colab": {
          "base_uri": "https://localhost:8080/"
        },
        "id": "RS43PVHuarbs",
        "outputId": "a8333707-baa7-4969-bc35-788a767e85d9"
      },
      "execution_count": null,
      "outputs": [
        {
          "output_type": "execute_result",
          "data": {
            "text/plain": [
              "['1', ',', '2', ',', '3', ',', '4', ',', '5']"
            ]
          },
          "metadata": {},
          "execution_count": 76
        }
      ]
    },
    {
      "cell_type": "code",
      "source": [
        "string.split(\",\")"
      ],
      "metadata": {
        "colab": {
          "base_uri": "https://localhost:8080/"
        },
        "id": "SXrOTBPYa4H_",
        "outputId": "5c64b75f-4873-4dd3-fd25-65ed40fbc4ac"
      },
      "execution_count": null,
      "outputs": [
        {
          "output_type": "execute_result",
          "data": {
            "text/plain": [
              "['1', '2', '3', '4', '5']"
            ]
          },
          "metadata": {},
          "execution_count": 77
        }
      ]
    },
    {
      "cell_type": "code",
      "source": [
        "[int(i) for i in string.split(\",\")]"
      ],
      "metadata": {
        "colab": {
          "base_uri": "https://localhost:8080/"
        },
        "id": "OICRQGpVbJt0",
        "outputId": "12b55b89-8f95-4ea4-dd0c-7f6981065d26"
      },
      "execution_count": null,
      "outputs": [
        {
          "output_type": "execute_result",
          "data": {
            "text/plain": [
              "[1, 2, 3, 4, 5]"
            ]
          },
          "metadata": {},
          "execution_count": 78
        }
      ]
    },
    {
      "cell_type": "markdown",
      "source": [
        "Dictionary:"
      ],
      "metadata": {
        "id": "pUje930QbaJT"
      }
    },
    {
      "cell_type": "code",
      "source": [
        "dict1  = {1:\"a\", 2:\"b\", 3: \"c\"}"
      ],
      "metadata": {
        "id": "ThNNGUaSbTU7"
      },
      "execution_count": null,
      "outputs": []
    },
    {
      "cell_type": "code",
      "source": [
        "dict1  = {1:\"a\", 2:\"b\", 1: \"c\"}\n",
        "dict1"
      ],
      "metadata": {
        "colab": {
          "base_uri": "https://localhost:8080/"
        },
        "id": "PnPMOTe2bl4M",
        "outputId": "1bdd995c-4b82-45a6-899d-01cb2d3b712e"
      },
      "execution_count": null,
      "outputs": [
        {
          "output_type": "execute_result",
          "data": {
            "text/plain": [
              "{1: 'c', 2: 'b'}"
            ]
          },
          "metadata": {},
          "execution_count": 82
        }
      ]
    },
    {
      "cell_type": "code",
      "source": [
        "dict1 = {(1,2): \"a\", \"b\":100}\n",
        "dict1"
      ],
      "metadata": {
        "colab": {
          "base_uri": "https://localhost:8080/"
        },
        "id": "YfBYDiecbpxg",
        "outputId": "ff11966e-047f-4859-a0e3-ec2a439c2003"
      },
      "execution_count": null,
      "outputs": [
        {
          "output_type": "execute_result",
          "data": {
            "text/plain": [
              "{(1, 2): 'a', 'b': 100}"
            ]
          },
          "metadata": {},
          "execution_count": 84
        }
      ]
    },
    {
      "cell_type": "code",
      "source": [
        "dict1 = {[1,2]: \"a\", \"b\":100}\n",
        "dict1"
      ],
      "metadata": {
        "colab": {
          "base_uri": "https://localhost:8080/",
          "height": 184
        },
        "id": "-Pv_fRg6b0fL",
        "outputId": "ff726845-3501-43cf-bfcd-0019c0534013"
      },
      "execution_count": null,
      "outputs": [
        {
          "output_type": "error",
          "ename": "TypeError",
          "evalue": "ignored",
          "traceback": [
            "\u001b[0;31m---------------------------------------------------------------------------\u001b[0m",
            "\u001b[0;31mTypeError\u001b[0m                                 Traceback (most recent call last)",
            "\u001b[0;32m<ipython-input-85-237eac5db1a8>\u001b[0m in \u001b[0;36m<cell line: 1>\u001b[0;34m()\u001b[0m\n\u001b[0;32m----> 1\u001b[0;31m \u001b[0mdict1\u001b[0m \u001b[0;34m=\u001b[0m \u001b[0;34m{\u001b[0m\u001b[0;34m[\u001b[0m\u001b[0;36m1\u001b[0m\u001b[0;34m,\u001b[0m\u001b[0;36m2\u001b[0m\u001b[0;34m]\u001b[0m\u001b[0;34m:\u001b[0m \u001b[0;34m\"a\"\u001b[0m\u001b[0;34m,\u001b[0m \u001b[0;34m\"b\"\u001b[0m\u001b[0;34m:\u001b[0m\u001b[0;36m100\u001b[0m\u001b[0;34m}\u001b[0m\u001b[0;34m\u001b[0m\u001b[0;34m\u001b[0m\u001b[0m\n\u001b[0m\u001b[1;32m      2\u001b[0m \u001b[0mdict1\u001b[0m\u001b[0;34m\u001b[0m\u001b[0;34m\u001b[0m\u001b[0m\n",
            "\u001b[0;31mTypeError\u001b[0m: unhashable type: 'list'"
          ]
        }
      ]
    },
    {
      "cell_type": "markdown",
      "source": [
        "#### Only IMMutables can be used as keys"
      ],
      "metadata": {
        "id": "eBS2AcdGb8Nk"
      }
    },
    {
      "cell_type": "code",
      "source": [
        "dict1 = {(1,2): \"a\", \"b\":(100,1)}\n",
        "dict1"
      ],
      "metadata": {
        "colab": {
          "base_uri": "https://localhost:8080/"
        },
        "id": "3IF3Fqymb7BP",
        "outputId": "1449bee0-08c9-4044-d051-80c2ac946259"
      },
      "execution_count": null,
      "outputs": [
        {
          "output_type": "execute_result",
          "data": {
            "text/plain": [
              "{(1, 2): 'a', 'b': (100, 1)}"
            ]
          },
          "metadata": {},
          "execution_count": 87
        }
      ]
    },
    {
      "cell_type": "code",
      "source": [
        "dict1 = {(1,2): \"a\", \"b\":[100,1]}\n",
        "dict1"
      ],
      "metadata": {
        "colab": {
          "base_uri": "https://localhost:8080/"
        },
        "id": "HPB4pe9dcF_Y",
        "outputId": "8e5067dc-00bc-46fd-87cb-98061b99f2c9"
      },
      "execution_count": null,
      "outputs": [
        {
          "output_type": "execute_result",
          "data": {
            "text/plain": [
              "{(1, 2): 'a', 'b': [100, 1]}"
            ]
          },
          "metadata": {},
          "execution_count": 88
        }
      ]
    },
    {
      "cell_type": "code",
      "source": [
        "for k in dict1:\n",
        "    print(k)"
      ],
      "metadata": {
        "colab": {
          "base_uri": "https://localhost:8080/"
        },
        "id": "dCZSGrr3cJij",
        "outputId": "e30f7425-7b32-483d-c2c2-4f387e4ed87d"
      },
      "execution_count": null,
      "outputs": [
        {
          "output_type": "stream",
          "name": "stdout",
          "text": [
            "(1, 2)\n",
            "b\n"
          ]
        }
      ]
    },
    {
      "cell_type": "code",
      "source": [
        "# method 1\n",
        "dict1 = dict(enumerate(range(1,5)))\n",
        "for k in dict1:\n",
        "    print(k, dict1[k])"
      ],
      "metadata": {
        "colab": {
          "base_uri": "https://localhost:8080/"
        },
        "id": "1SY8-ZapcQn_",
        "outputId": "dc452795-d787-4530-db07-103d3967fd34"
      },
      "execution_count": null,
      "outputs": [
        {
          "output_type": "stream",
          "name": "stdout",
          "text": [
            "0 1\n",
            "1 2\n",
            "2 3\n",
            "3 4\n"
          ]
        }
      ]
    },
    {
      "cell_type": "code",
      "source": [
        "dict1"
      ],
      "metadata": {
        "colab": {
          "base_uri": "https://localhost:8080/"
        },
        "id": "zj8BTDbmcX6M",
        "outputId": "f647c408-c0f5-430c-da31-7629fa4bc6cb"
      },
      "execution_count": null,
      "outputs": [
        {
          "output_type": "execute_result",
          "data": {
            "text/plain": [
              "{0: 1, 1: 2, 2: 3, 3: 4}"
            ]
          },
          "metadata": {},
          "execution_count": 99
        }
      ]
    },
    {
      "cell_type": "code",
      "source": [
        "# method 2\n",
        "for k,v in dict1.items():\n",
        "    print(k, v)"
      ],
      "metadata": {
        "colab": {
          "base_uri": "https://localhost:8080/"
        },
        "id": "JB25G2f4crVF",
        "outputId": "614f4519-98af-44ac-fa7d-d5534df8dc2a"
      },
      "execution_count": null,
      "outputs": [
        {
          "output_type": "stream",
          "name": "stdout",
          "text": [
            "0 1\n",
            "1 2\n",
            "2 3\n",
            "3 4\n"
          ]
        }
      ]
    },
    {
      "cell_type": "code",
      "source": [
        "dict1.keys()"
      ],
      "metadata": {
        "colab": {
          "base_uri": "https://localhost:8080/"
        },
        "id": "sYpercd2c8Eh",
        "outputId": "6340e1dd-6c28-4484-a4b1-14e6d2aa8791"
      },
      "execution_count": null,
      "outputs": [
        {
          "output_type": "execute_result",
          "data": {
            "text/plain": [
              "dict_keys([0, 1, 2, 3])"
            ]
          },
          "metadata": {},
          "execution_count": 101
        }
      ]
    },
    {
      "cell_type": "code",
      "source": [
        "dict1.values()"
      ],
      "metadata": {
        "colab": {
          "base_uri": "https://localhost:8080/"
        },
        "id": "FrxYX8lZdDc4",
        "outputId": "ad4ef83d-4bc8-4dcb-ca4e-6bc181085b0b"
      },
      "execution_count": null,
      "outputs": [
        {
          "output_type": "execute_result",
          "data": {
            "text/plain": [
              "dict_values([1, 2, 3, 4])"
            ]
          },
          "metadata": {},
          "execution_count": 102
        }
      ]
    },
    {
      "cell_type": "code",
      "source": [],
      "metadata": {
        "id": "V7241eIudE-m"
      },
      "execution_count": null,
      "outputs": []
    },
    {
      "cell_type": "markdown",
      "source": [
        "Question:"
      ],
      "metadata": {
        "id": "NFF_CusxdLq7"
      }
    },
    {
      "cell_type": "code",
      "source": [
        "a = 60\n",
        "if a > 50:\n",
        "    print(\"FIRST\")\n",
        "if a > 40:\n",
        "    print(\"SECOND\")"
      ],
      "metadata": {
        "colab": {
          "base_uri": "https://localhost:8080/"
        },
        "id": "h5Bgdaf0dMjg",
        "outputId": "2d66f57c-b51c-49b7-bf3e-fb14602400c1"
      },
      "execution_count": null,
      "outputs": [
        {
          "output_type": "stream",
          "name": "stdout",
          "text": [
            "FIRST\n",
            "SECOND\n"
          ]
        }
      ]
    },
    {
      "cell_type": "code",
      "source": [
        "if a > 50:\n",
        "    print(\"FIRST\")\n",
        "elif a > 40:\n",
        "    print(\"SECOND\")"
      ],
      "metadata": {
        "colab": {
          "base_uri": "https://localhost:8080/"
        },
        "id": "JYPkMeXodld-",
        "outputId": "b593e372-226c-49b1-9591-f8b3b68e790f"
      },
      "execution_count": null,
      "outputs": [
        {
          "output_type": "stream",
          "name": "stdout",
          "text": [
            "FIRST\n"
          ]
        }
      ]
    },
    {
      "cell_type": "code",
      "source": [
        "cust_dict = {\"Name\": \"Sachin\", {\"Order\": \"ID\":\"101\", \"Amount\": 100}:1 }"
      ],
      "metadata": {
        "colab": {
          "base_uri": "https://localhost:8080/",
          "height": 132
        },
        "id": "zyZYQomRdp3B",
        "outputId": "4e3406bb-184b-4ea6-bb96-1ba81acdc5d0"
      },
      "execution_count": null,
      "outputs": [
        {
          "output_type": "error",
          "ename": "SyntaxError",
          "evalue": "ignored",
          "traceback": [
            "\u001b[0;36m  File \u001b[0;32m\"<ipython-input-105-e9a2f5ac0e74>\"\u001b[0;36m, line \u001b[0;32m1\u001b[0m\n\u001b[0;31m    cust_dict = {\"Name\": \"Sachin\", {\"Order\": \"ID\":\"101\", \"Amount\": 100}:1 }\u001b[0m\n\u001b[0m                                                 ^\u001b[0m\n\u001b[0;31mSyntaxError\u001b[0m\u001b[0;31m:\u001b[0m invalid syntax\n"
          ]
        }
      ]
    },
    {
      "cell_type": "code",
      "source": [
        "cust_dict = {1: {\"Name\": \"Sachin\", \"Order\":{ \"ID\":\"101\", \"Amount\": 100} },\n",
        "             2: {\"Name\": \"Arun\", \"Order\":{ \"ID\":\"102\", \"Amount\": 200} }\n",
        "             }"
      ],
      "metadata": {
        "id": "O09mXfRDeOVj"
      },
      "execution_count": null,
      "outputs": []
    },
    {
      "cell_type": "code",
      "source": [
        "cust_dict.keys()"
      ],
      "metadata": {
        "colab": {
          "base_uri": "https://localhost:8080/"
        },
        "id": "um7aBxo0ehn4",
        "outputId": "cdfb3ad5-722f-417d-a24f-52ce35c3a7de"
      },
      "execution_count": null,
      "outputs": [
        {
          "output_type": "execute_result",
          "data": {
            "text/plain": [
              "dict_keys([1, 2])"
            ]
          },
          "metadata": {},
          "execution_count": 110
        }
      ]
    },
    {
      "cell_type": "code",
      "source": [
        "cust_dict[2]['Order'][\"Amount\"]"
      ],
      "metadata": {
        "colab": {
          "base_uri": "https://localhost:8080/"
        },
        "id": "OtZQgD9ne7gl",
        "outputId": "cc67dc1a-3f03-446d-e6b5-bc10068f3ac9"
      },
      "execution_count": null,
      "outputs": [
        {
          "output_type": "execute_result",
          "data": {
            "text/plain": [
              "200"
            ]
          },
          "metadata": {},
          "execution_count": 113
        }
      ]
    },
    {
      "cell_type": "markdown",
      "source": [
        "# check count of each element\n",
        "list1 = [1,2,2,4,4,1,1,3]\n"
      ],
      "metadata": {
        "id": "w33dHpn3fa1D"
      }
    },
    {
      "cell_type": "code",
      "source": [
        "list1 = [1,2,2,4,4,1,1,3]\n",
        "list_output=[]\n",
        "for i in list1: \n",
        "    list_output.append((i, list1.count(i)))\n",
        "set(list_output)"
      ],
      "metadata": {
        "colab": {
          "base_uri": "https://localhost:8080/"
        },
        "id": "cqb0BGwCfDDu",
        "outputId": "7305eae4-da80-4f2a-dd16-4cb00497888f"
      },
      "execution_count": null,
      "outputs": [
        {
          "output_type": "execute_result",
          "data": {
            "text/plain": [
              "{(1, 3), (2, 2), (3, 1), (4, 2)}"
            ]
          },
          "metadata": {},
          "execution_count": 120
        }
      ]
    },
    {
      "cell_type": "code",
      "source": [
        "# approach 1\n",
        "list1 = [1,2,2,4,4,1,1,3]\n",
        "list_output=[]\n",
        "for i in set(list1): \n",
        "    print(i, list1.count(i))\n"
      ],
      "metadata": {
        "colab": {
          "base_uri": "https://localhost:8080/"
        },
        "id": "RTztrAtDfwQ0",
        "outputId": "a7a13ccd-3c10-4479-add9-81d196e77a40"
      },
      "execution_count": null,
      "outputs": [
        {
          "output_type": "stream",
          "name": "stdout",
          "text": [
            "1 3\n",
            "2 2\n",
            "3 1\n",
            "4 2\n"
          ]
        }
      ]
    },
    {
      "cell_type": "code",
      "source": [
        "# 10 elements --> 100 iterations N-->N^2"
      ],
      "metadata": {
        "id": "QQsK0aX3gyLI"
      },
      "execution_count": null,
      "outputs": []
    },
    {
      "cell_type": "code",
      "source": [
        "# approach 2 \n",
        "dict1 = {}\n",
        "for i in list1:\n",
        "    if i not in dict1:\n",
        "        dict1[i]=1\n",
        "    else:\n",
        "        dict1[i]+=1\n",
        "dict1\n",
        "\n",
        "# 10 --> 10 iterations N->N"
      ],
      "metadata": {
        "colab": {
          "base_uri": "https://localhost:8080/"
        },
        "id": "zw7DiB-cgYqX",
        "outputId": "56a43c0e-18d8-4a41-843a-f9e0dc128263"
      },
      "execution_count": null,
      "outputs": [
        {
          "output_type": "execute_result",
          "data": {
            "text/plain": [
              "{1: 3, 2: 2, 4: 2, 3: 1}"
            ]
          },
          "metadata": {},
          "execution_count": 122
        }
      ]
    },
    {
      "cell_type": "code",
      "source": [
        "1000->10^6 \n"
      ],
      "metadata": {
        "id": "oPNt7RMXgnwf"
      },
      "execution_count": null,
      "outputs": []
    },
    {
      "cell_type": "code",
      "source": [
        "i = 1\n",
        "list1 = [1,2,2,4,4,1,1,3]\n",
        "\n",
        "def count(list1, i):\n",
        "    count1 = 0\n",
        "    for j in list1:\n",
        "        if i==j:\n",
        "            count1+=1\n",
        "    return count1\n",
        "count(list1, i)"
      ],
      "metadata": {
        "colab": {
          "base_uri": "https://localhost:8080/"
        },
        "id": "4uO5ETkkhoFE",
        "outputId": "39cf987a-b57f-488c-e427-1510390cb0a1"
      },
      "execution_count": null,
      "outputs": [
        {
          "output_type": "execute_result",
          "data": {
            "text/plain": [
              "3"
            ]
          },
          "metadata": {},
          "execution_count": 126
        }
      ]
    },
    {
      "cell_type": "code",
      "source": [
        "list1 = ['a','b', 'c']\n",
        "str1 = \"\"\n",
        "for i in range(len(list1)):\n",
        "    str1+=list1[i]+\" \"\n",
        "str1"
      ],
      "metadata": {
        "colab": {
          "base_uri": "https://localhost:8080/",
          "height": 36
        },
        "id": "lm4ARRd8h8fU",
        "outputId": "f872eee9-259f-4af1-8f17-02ae6cd3cf61"
      },
      "execution_count": null,
      "outputs": [
        {
          "output_type": "execute_result",
          "data": {
            "text/plain": [
              "'a b c '"
            ],
            "application/vnd.google.colaboratory.intrinsic+json": {
              "type": "string"
            }
          },
          "metadata": {},
          "execution_count": 144
        }
      ]
    },
    {
      "cell_type": "code",
      "source": [
        "str1[:-1]"
      ],
      "metadata": {
        "colab": {
          "base_uri": "https://localhost:8080/",
          "height": 36
        },
        "id": "rAeFKoJ2iSyB",
        "outputId": "6b89bcc4-9f30-409c-b3bd-cc72052f9ac1"
      },
      "execution_count": null,
      "outputs": [
        {
          "output_type": "execute_result",
          "data": {
            "text/plain": [
              "'a b c'"
            ],
            "application/vnd.google.colaboratory.intrinsic+json": {
              "type": "string"
            }
          },
          "metadata": {},
          "execution_count": 132
        }
      ]
    },
    {
      "cell_type": "code",
      "source": [
        "str1.strip()"
      ],
      "metadata": {
        "colab": {
          "base_uri": "https://localhost:8080/",
          "height": 36
        },
        "id": "xY8jeMbMizKI",
        "outputId": "5f686219-a65e-43fe-90ea-f805d65474f0"
      },
      "execution_count": null,
      "outputs": [
        {
          "output_type": "execute_result",
          "data": {
            "text/plain": [
              "'a b c'"
            ],
            "application/vnd.google.colaboratory.intrinsic+json": {
              "type": "string"
            }
          },
          "metadata": {},
          "execution_count": 133
        }
      ]
    },
    {
      "cell_type": "code",
      "source": [
        "list1 = [1,2,2,4,4,1,1,3]\n",
        "[i**2 for i in list1 if i%2!=0]"
      ],
      "metadata": {
        "colab": {
          "base_uri": "https://localhost:8080/"
        },
        "id": "bHznkpLIi1Hk",
        "outputId": "73061af9-01c5-4286-af60-0bac10b6c39d"
      },
      "execution_count": null,
      "outputs": [
        {
          "output_type": "execute_result",
          "data": {
            "text/plain": [
              "[1, 1, 1, 9]"
            ]
          },
          "metadata": {},
          "execution_count": 134
        }
      ]
    },
    {
      "cell_type": "code",
      "source": [
        "list1 = [1,2,2,4,4,1,1,3]\n",
        "# if odd perform square else perform cube\n",
        "[i**2 if i%2==0 else i**3 for i in list1]"
      ],
      "metadata": {
        "colab": {
          "base_uri": "https://localhost:8080/"
        },
        "id": "9xudTT5Ui_Db",
        "outputId": "3f7be87b-42b7-4abf-b6d3-0d8b7d8e1579"
      },
      "execution_count": null,
      "outputs": [
        {
          "output_type": "execute_result",
          "data": {
            "text/plain": [
              "[1, 4, 4, 16, 16, 1, 1, 27]"
            ]
          },
          "metadata": {},
          "execution_count": 136
        }
      ]
    },
    {
      "cell_type": "code",
      "source": [
        "a = [1,2]\n",
        "a.append(2) # inplace operation\n",
        "print(a)"
      ],
      "metadata": {
        "colab": {
          "base_uri": "https://localhost:8080/"
        },
        "id": "tV1730HsjH1R",
        "outputId": "4d24449a-9e87-4fa6-ea49-e2d26dc60f45"
      },
      "execution_count": null,
      "outputs": [
        {
          "output_type": "stream",
          "name": "stdout",
          "text": [
            "[1, 2, 2]\n"
          ]
        }
      ]
    },
    {
      "cell_type": "code",
      "source": [
        "a = [1,2].extend([2]) # inplace operation\n",
        "print(a)"
      ],
      "metadata": {
        "colab": {
          "base_uri": "https://localhost:8080/"
        },
        "id": "vWVmp6v8j0tb",
        "outputId": "25914a15-a205-4e10-feb2-920d82b19070"
      },
      "execution_count": null,
      "outputs": [
        {
          "output_type": "stream",
          "name": "stdout",
          "text": [
            "None\n"
          ]
        }
      ]
    },
    {
      "cell_type": "code",
      "source": [
        "a = [1,2] + [2] # inplace operation\n",
        "print(a)"
      ],
      "metadata": {
        "colab": {
          "base_uri": "https://localhost:8080/"
        },
        "id": "WkZkRESaj3G2",
        "outputId": "4f7cedd5-fa02-49b0-e962-d18be9613684"
      },
      "execution_count": null,
      "outputs": [
        {
          "output_type": "stream",
          "name": "stdout",
          "text": [
            "[1, 2, 2]\n"
          ]
        }
      ]
    },
    {
      "cell_type": "code",
      "source": [
        "def Reverse(lst):\n",
        "    return lst.reverse()\n",
        "print(Reverse([1,2,3,4]))"
      ],
      "metadata": {
        "colab": {
          "base_uri": "https://localhost:8080/"
        },
        "id": "ngXLI_vfj5wA",
        "outputId": "1b76dd0f-5e81-4daa-a57c-d83954887c42"
      },
      "execution_count": null,
      "outputs": [
        {
          "output_type": "stream",
          "name": "stdout",
          "text": [
            "None\n"
          ]
        }
      ]
    },
    {
      "cell_type": "code",
      "source": [
        "a = [1,2].append(2) # inplace operation\n",
        "print(a)"
      ],
      "metadata": {
        "id": "4f37uNANkIeq"
      },
      "execution_count": null,
      "outputs": []
    },
    {
      "cell_type": "code",
      "source": [
        "def Reverse(lst):\n",
        "    lst.reverse()\n",
        "    return lst\n",
        "print(Reverse([1,2,3,4]))"
      ],
      "metadata": {
        "colab": {
          "base_uri": "https://localhost:8080/"
        },
        "id": "SJ9yMzcFkPzg",
        "outputId": "5fc47e09-5f24-4c1f-b6bc-7df63af163bc"
      },
      "execution_count": null,
      "outputs": [
        {
          "output_type": "stream",
          "name": "stdout",
          "text": [
            "[4, 3, 2, 1]\n"
          ]
        }
      ]
    },
    {
      "cell_type": "code",
      "source": [
        "list1 = [1,2, 3]\n",
        "str1 = \"\"\n",
        "for i in range(len(list1)):\n",
        "    str1+=str(list1[i])+\" \"\n",
        "str1[:-1]"
      ],
      "metadata": {
        "colab": {
          "base_uri": "https://localhost:8080/",
          "height": 36
        },
        "id": "GawvJoIlkVC5",
        "outputId": "1fd85a68-284f-4ed1-f561-5ca6786c9c14"
      },
      "execution_count": null,
      "outputs": [
        {
          "output_type": "execute_result",
          "data": {
            "text/plain": [
              "'1 2 3'"
            ],
            "application/vnd.google.colaboratory.intrinsic+json": {
              "type": "string"
            }
          },
          "metadata": {},
          "execution_count": 148
        }
      ]
    },
    {
      "cell_type": "code",
      "source": [
        "list1 = [1,2, 3]\n",
        "a = list1.reverse()\n",
        "print(a)"
      ],
      "metadata": {
        "colab": {
          "base_uri": "https://localhost:8080/"
        },
        "id": "texVQWaNk0Lm",
        "outputId": "41ef3539-9c9f-4952-c691-7e0a6b8ae8ff"
      },
      "execution_count": null,
      "outputs": [
        {
          "output_type": "stream",
          "name": "stdout",
          "text": [
            "None\n"
          ]
        }
      ]
    },
    {
      "cell_type": "code",
      "source": [
        "list1"
      ],
      "metadata": {
        "colab": {
          "base_uri": "https://localhost:8080/"
        },
        "id": "pP8BhMiGlNPf",
        "outputId": "bd07b5b5-0e59-4aae-b156-ebde77474df9"
      },
      "execution_count": null,
      "outputs": [
        {
          "output_type": "execute_result",
          "data": {
            "text/plain": [
              "[3, 2, 1]"
            ]
          },
          "metadata": {},
          "execution_count": 150
        }
      ]
    },
    {
      "cell_type": "code",
      "source": [
        "def Reverse(lst):\n",
        "    lst.reverse()\n",
        "    return lst\n",
        "Reverse(list1)"
      ],
      "metadata": {
        "colab": {
          "base_uri": "https://localhost:8080/"
        },
        "id": "k3ZS1d42lQuk",
        "outputId": "600dd03f-c350-4a67-d716-06fe5740ccb4"
      },
      "execution_count": null,
      "outputs": [
        {
          "output_type": "execute_result",
          "data": {
            "text/plain": [
              "[3, 2, 1]"
            ]
          },
          "metadata": {},
          "execution_count": 152
        }
      ]
    },
    {
      "cell_type": "code",
      "source": [],
      "metadata": {
        "id": "4DDSc0yqmG9s"
      },
      "execution_count": null,
      "outputs": []
    }
  ]
}