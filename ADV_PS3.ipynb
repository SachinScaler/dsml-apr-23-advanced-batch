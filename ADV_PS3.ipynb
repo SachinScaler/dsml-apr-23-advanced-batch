{
  "nbformat": 4,
  "nbformat_minor": 0,
  "metadata": {
    "colab": {
      "provenance": [],
      "authorship_tag": "ABX9TyNWX/e58IrPh+K4oHlroLZD",
      "include_colab_link": true
    },
    "kernelspec": {
      "name": "python3",
      "display_name": "Python 3"
    },
    "language_info": {
      "name": "python"
    }
  },
  "cells": [
    {
      "cell_type": "markdown",
      "metadata": {
        "id": "view-in-github",
        "colab_type": "text"
      },
      "source": [
        "<a href=\"https://colab.research.google.com/github/SachinScaler/dsml-apr-23-advanced-batch/blob/main/ADV_PS3.ipynb\" target=\"_parent\"><img src=\"https://colab.research.google.com/assets/colab-badge.svg\" alt=\"Open In Colab\"/></a>"
      ]
    },
    {
      "cell_type": "markdown",
      "source": [
        "Problem Description\n",
        "Create a class Student and initialize it with the following class variables:\n",
        "\n",
        "\n",
        "marks in subject 1\n",
        "credit of subject 1\n",
        "marks in subject 2\n",
        "credit of subject 2\n",
        "\n",
        "Create a function gradepointaverage() for the Student class which computes the GPA rounded to two decimals, based on the following criteria of points in a subject :\n",
        "\n",
        "1. If marks>=90:10 points\n",
        "2. If 90>marks>=75: 9 points\n",
        "3. If 75>marks>=60: 8 points\n",
        "4. If 60>marks>=45: 7 points\n",
        "5. If marks<45: 0 points\n",
        "\n",
        "The points in a subject should be calculated according to the criteria mentioned in the question.\n",
        "Also, implement a special zero case to handle when credits of both subjects are 0, return \"Zero credits for both subjects\"."
      ],
      "metadata": {
        "id": "ZS8kj2r5xwPy"
      }
    },
    {
      "cell_type": "code",
      "execution_count": null,
      "metadata": {
        "id": "f8H8kwqYxr6Y",
        "colab": {
          "base_uri": "https://localhost:8080/"
        },
        "outputId": "85383f9b-d974-4317-9040-634a99d688bc"
      },
      "outputs": [
        {
          "output_type": "execute_result",
          "data": {
            "text/plain": [
              "9.0"
            ]
          },
          "metadata": {},
          "execution_count": 1
        }
      ],
      "source": [
        "class Student():\n",
        "    \n",
        "    def __init__(self, marks1,marks2,credits1, credits2):\n",
        "        #YOUR CODE GOES HERE\n",
        "        self.marks1 = marks1\n",
        "        self.marks2 = marks2\n",
        "        self.credits1 = credits1\n",
        "        self.credits2 = credits2\n",
        "\n",
        "    def get_points(self, marks):# given marks, calculate points::: I haven't used self.attribute\n",
        "        if marks>=90:\n",
        "            return 10 \n",
        "        elif marks>=75: \n",
        "            return 9  \n",
        "        elif marks>=60 : \n",
        "            return 8 \n",
        "        elif marks>=45: \n",
        "            return 7 \n",
        "        else:\n",
        "            return 0 \n",
        "    \n",
        "    def grade_point_average(self):\n",
        "        if self.credits1==0 and self.credits2==0:\n",
        "            return \"Zero credits for both subjects\"\n",
        "        \n",
        "        gpa=0\n",
        "\n",
        "        self.point1 = self.get_points(self.marks1)\n",
        "        self.point2 = self.get_points(self.marks2)\n",
        "\n",
        "        gpa = ((self.credits1*self.point1) + (self.credits2*self.point2))/(self.credits1+self.credits2)\n",
        "        \n",
        "        #YOUR CODE GOES HERE\n",
        "    \n",
        "        return gpa\n",
        "\n",
        "s1 = Student(85, 76, 3, 4)\n",
        "\n",
        "s1.grade_point_average()\n"
      ]
    },
    {
      "cell_type": "code",
      "source": [
        "class Student():\n",
        "    \n",
        "    def __init__(self, marks1,marks2,credits1, credits2):\n",
        "        #YOUR CODE GOES HERE\n",
        "        self.marks1 = marks1\n",
        "        self.marks2 = marks2\n",
        "        self.credits1 = credits1\n",
        "        self.credits2 = credits2\n",
        "\n",
        "    @staticmethod \n",
        "    def get_points(marks):# given marks, calculate points::: I haven't used self.attribute\n",
        "        if marks>=90:\n",
        "            return 10 \n",
        "        elif marks>=75: \n",
        "            return 9  \n",
        "        elif marks>=60 : \n",
        "            return 8 \n",
        "        elif marks>=45:  \n",
        "            return 7 \n",
        "        else:\n",
        "            return 0 \n",
        "    \n",
        "    def grade_point_average(self):\n",
        "        if self.credits1==0 and self.credits2==0:\n",
        "            return \"Zero credits for both subjects\"\n",
        "        \n",
        "        gpa=0\n",
        "\n",
        "        self.point1 = Student.get_points(self.marks1)\n",
        "        self.point2 = Student.get_points(self.marks2)\n",
        "\n",
        "        gpa = ((self.credits1*self.point1) + (self.credits2*self.point2))/(self.credits1+self.credits2)\n",
        "        \n",
        "        #YOUR CODE GOES HERE\n",
        "    \n",
        "        return gpa\n",
        "\n",
        "s1 = Student(85, 76, 3, 4)\n",
        "\n",
        "s1.grade_point_average()\n"
      ],
      "metadata": {
        "colab": {
          "base_uri": "https://localhost:8080/"
        },
        "id": "melM3lso0wyg",
        "outputId": "4c8ef6ed-d7de-4d13-a44c-6656edaa943f"
      },
      "execution_count": null,
      "outputs": [
        {
          "output_type": "execute_result",
          "data": {
            "text/plain": [
              "9.0"
            ]
          },
          "metadata": {},
          "execution_count": 9
        }
      ]
    },
    {
      "cell_type": "code",
      "source": [
        "def some_funct():\n",
        "    try:\n",
        "        print(a)\n",
        "        return (\"1\")\n",
        "    except: \n",
        "        print(2)\n",
        "        return (\"2\")\n",
        "\n",
        "    finally:\n",
        "        print(3)\n",
        "\n",
        "some_funct()"
      ],
      "metadata": {
        "colab": {
          "base_uri": "https://localhost:8080/",
          "height": 71
        },
        "id": "MvtLslm41Hmj",
        "outputId": "59c5a016-c52c-4637-f334-0f6763f6ea77"
      },
      "execution_count": null,
      "outputs": [
        {
          "output_type": "stream",
          "name": "stdout",
          "text": [
            "2\n",
            "3\n"
          ]
        },
        {
          "output_type": "execute_result",
          "data": {
            "text/plain": [
              "'2'"
            ],
            "application/vnd.google.colaboratory.intrinsic+json": {
              "type": "string"
            }
          },
          "metadata": {},
          "execution_count": 18
        }
      ]
    },
    {
      "cell_type": "markdown",
      "source": [
        "Write a program to calculate the mean and standard deviation of given data given in the form of a list and return them. Complete the functions sdcalc which returns standard deviation and avgcalc, which returns mean. Both mean and standarddeviation are rounded up to 3 decimal places.\n",
        "\n",
        "The mean of a list of numbers is given by: \n",
        "where N = number of elements, xi =ith element in the list.\n",
        "\n",
        "The standard deviation of a list of numbers is given by: \n",
        "where N = number of elements, μ = Mean of all elements, xi =ith element in the list."
      ],
      "metadata": {
        "id": "UzrBX4CT5jC_"
      }
    },
    {
      "cell_type": "code",
      "source": [
        "\n",
        "\n",
        "def avg_calc(data):\n",
        "    \"\"\"\n",
        "    data is list of integers\n",
        "    returns mean of the given list of numbers, rounded to three decimal.\n",
        "    \"\"\"\n",
        "    \n",
        "    #YOUR CODE GOES HERE\n",
        "    mean = sum(data)/len(data)\n",
        "    return round(mean,3)\n",
        "    \n",
        "def sd_calc(data):\n",
        "\n",
        "    \"\"\"\n",
        "    data is list of integers\n",
        "    returns standard deviation of the given list of numbers, rounded to three decimal.\n",
        "    \"\"\"\n",
        "    n = len(data)\n",
        "    mean = avg_calc(data)\n",
        "    #YOUR CODE GOES HERE\n",
        "    sd = 0\n",
        "    for i in data:\n",
        "        sd+=((i-mean)**2)\n",
        "\n",
        "    sd = (sd/(n-1))**0.5\n",
        "\n",
        "    return round(sd,3)\n",
        "\n",
        "input_list = [4, 2, 5, 8, 6] # sum(list)/len(list) # np.mean\n",
        "sd_calc(input_list)"
      ],
      "metadata": {
        "colab": {
          "base_uri": "https://localhost:8080/"
        },
        "id": "CJ1FMzRl3GyO",
        "outputId": "39a85d28-d765-44fe-ca35-63ef7039c227"
      },
      "execution_count": null,
      "outputs": [
        {
          "output_type": "execute_result",
          "data": {
            "text/plain": [
              "2.236"
            ]
          },
          "metadata": {},
          "execution_count": 37
        }
      ]
    },
    {
      "cell_type": "code",
      "source": [
        "avg_calc(input_list)"
      ],
      "metadata": {
        "colab": {
          "base_uri": "https://localhost:8080/"
        },
        "id": "wDg03kpQ68oW",
        "outputId": "f1768e2e-9e10-437d-f5e2-397fb438a7f5"
      },
      "execution_count": null,
      "outputs": [
        {
          "output_type": "execute_result",
          "data": {
            "text/plain": [
              "2.0"
            ]
          },
          "metadata": {},
          "execution_count": 30
        }
      ]
    },
    {
      "cell_type": "code",
      "source": [
        "input_list = [4, 2, 5, 8, 6] # sum(list)/len(list) # \n",
        "np.mean(input_list), sum(input_list)/len(input_list)"
      ],
      "metadata": {
        "colab": {
          "base_uri": "https://localhost:8080/"
        },
        "id": "crZ6EgUY6DuN",
        "outputId": "bcdfe860-85b1-498e-fdb1-85ca7bff30ed"
      },
      "execution_count": null,
      "outputs": [
        {
          "output_type": "execute_result",
          "data": {
            "text/plain": [
              "(5.0, 5.0)"
            ]
          },
          "metadata": {},
          "execution_count": 24
        }
      ]
    },
    {
      "cell_type": "code",
      "source": [
        "np.std(input_list)"
      ],
      "metadata": {
        "colab": {
          "base_uri": "https://localhost:8080/"
        },
        "id": "YOvPWING6Goi",
        "outputId": "3e88567e-74cf-463c-f740-2096ff054fc5"
      },
      "execution_count": null,
      "outputs": [
        {
          "output_type": "execute_result",
          "data": {
            "text/plain": [
              "2.0"
            ]
          },
          "metadata": {},
          "execution_count": 22
        }
      ]
    },
    {
      "cell_type": "code",
      "source": [
        "sum(xi - mean)**2/N # std dev: Population's std even\n",
        "sum(xi - mean)**2/(N-1) # std dev: Sample's std even"
      ],
      "metadata": {
        "id": "ch5PZRCs6Kla"
      },
      "execution_count": null,
      "outputs": []
    },
    {
      "cell_type": "code",
      "source": [
        "import math\n",
        "result = 1\n",
        "for i in range(1,7):\n",
        "     result += 1/math.factorial(i)#blank1\n",
        "print(round(result,2))"
      ],
      "metadata": {
        "colab": {
          "base_uri": "https://localhost:8080/"
        },
        "id": "FaFENJyD_1Vc",
        "outputId": "7b817fed-f6db-4ac2-b9b0-5d2217467d2f"
      },
      "execution_count": null,
      "outputs": [
        {
          "output_type": "stream",
          "name": "stdout",
          "text": [
            "2.72\n"
          ]
        }
      ]
    },
    {
      "cell_type": "code",
      "source": [
        "[1,2,3,4]\n",
        "a = lcm(1,2)\n",
        "lcm(1,2,3) = lcm(a,3)\n",
        "lcm(1,2,3, 4) = lcm(lcm(1,2,3),4)\n"
      ],
      "metadata": {
        "id": "y2Sexuw1ACma"
      },
      "execution_count": null,
      "outputs": []
    },
    {
      "cell_type": "code",
      "source": [
        "list1 = [1,2,3,4]\n",
        "import math\n",
        "def lcm(a,b):\n",
        "    return int((a*b)/math.gcd(a,b))\n",
        "lcm(1,2)\n",
        "result = lcm(list1[0],list1[1])\n",
        "for i in range(2, len(list1)):\n",
        "    result = lcm(result,list1[i])\n",
        "print(result)"
      ],
      "metadata": {
        "colab": {
          "base_uri": "https://localhost:8080/"
        },
        "id": "znHtB0zMAkBS",
        "outputId": "bae93ed2-60a6-4cf5-e9e5-168fd49452b2"
      },
      "execution_count": null,
      "outputs": [
        {
          "output_type": "stream",
          "name": "stdout",
          "text": [
            "12\n"
          ]
        }
      ]
    },
    {
      "cell_type": "code",
      "source": [
        "import os\n",
        "path = r\"C:\\Users\\leo\\Pictures\\book\"\n",
        "os.chdir(path)\n",
        "\n",
        "# Read text File \n",
        "def read_text_file(file_path):\n",
        "    ___________________ #blank1 (one line of code required)\n",
        "        print(f.read())\n",
        "\n",
        "for file in os.listdir(path):\n",
        "    # Check whether file is in text format or not and if it is then update the file_path\n",
        "\n",
        "    ______________________________ #blank2 (2 lines of code required)\n",
        "        read_text_file(file_path)"
      ],
      "metadata": {
        "id": "EgAZTHvSBAEC"
      },
      "execution_count": null,
      "outputs": []
    },
    {
      "cell_type": "code",
      "source": [
        "import os\n",
        "print(os.listdir())\n",
        "path = '/content/sample_data'\n",
        "os.chdir(path) # changes your working dir: Very rarely you do this\n",
        "print(os.listdir())\n"
      ],
      "metadata": {
        "colab": {
          "base_uri": "https://localhost:8080/"
        },
        "id": "JTcedz7_CKei",
        "outputId": "49b81db6-34f8-4f02-8ee4-9ad2fbdfd73d"
      },
      "execution_count": null,
      "outputs": [
        {
          "output_type": "stream",
          "name": "stdout",
          "text": [
            "['.config', 'untitled', 'sample_data']\n",
            "['README.md', 'anscombe.json', 'california_housing_train.csv', 'california_housing_test.csv', 'mnist_test.csv', 'mnist_train_small.csv']\n"
          ]
        }
      ]
    },
    {
      "cell_type": "code",
      "source": [
        "os.getcwd()"
      ],
      "metadata": {
        "colab": {
          "base_uri": "https://localhost:8080/",
          "height": 36
        },
        "id": "9y3gfBc7D64_",
        "outputId": "21a70901-4082-4413-8d0c-047dbed446f2"
      },
      "execution_count": null,
      "outputs": [
        {
          "output_type": "execute_result",
          "data": {
            "text/plain": [
              "'/content/sample_data'"
            ],
            "application/vnd.google.colaboratory.intrinsic+json": {
              "type": "string"
            }
          },
          "metadata": {},
          "execution_count": 60
        }
      ]
    },
    {
      "cell_type": "code",
      "source": [
        "os.chdir(path)\n",
        "\n",
        "\n",
        "# Read text File \n",
        "def read_text_file(file_path):\n",
        "    with open(file_path, 'r') as f: #blank1 (one line of code required)\n",
        "        out = (f.read())\n",
        "        print(out)\n",
        "        print(type(out))\n",
        "\n",
        "for filename in os.listdir(path):\n",
        "    if (filename).endswith(\".md\"):\n",
        "        read_text_file(filename)\n",
        "\n",
        "\n",
        "\n"
      ],
      "metadata": {
        "colab": {
          "base_uri": "https://localhost:8080/"
        },
        "id": "huuwBfo6CPLQ",
        "outputId": "29d20953-7614-4a1f-ba90-04b4b7d80b6b"
      },
      "execution_count": null,
      "outputs": [
        {
          "output_type": "stream",
          "name": "stdout",
          "text": [
            "This directory includes a few sample datasets to get you started.\n",
            "\n",
            "*   `california_housing_data*.csv` is California housing data from the 1990 US\n",
            "    Census; more information is available at:\n",
            "    https://developers.google.com/machine-learning/crash-course/california-housing-data-description\n",
            "\n",
            "*   `mnist_*.csv` is a small sample of the\n",
            "    [MNIST database](https://en.wikipedia.org/wiki/MNIST_database), which is\n",
            "    described at: http://yann.lecun.com/exdb/mnist/\n",
            "\n",
            "*   `anscombe.json` contains a copy of\n",
            "    [Anscombe's quartet](https://en.wikipedia.org/wiki/Anscombe%27s_quartet); it\n",
            "    was originally described in\n",
            "\n",
            "    Anscombe, F. J. (1973). 'Graphs in Statistical Analysis'. American\n",
            "    Statistician. 27 (1): 17-21. JSTOR 2682899.\n",
            "\n",
            "    and our copy was prepared by the\n",
            "    [vega_datasets library](https://github.com/altair-viz/vega_datasets/blob/4f67bdaad10f45e3549984e17e1b3088c731503d/vega_datasets/_data/anscombe.json).\n",
            "\n",
            "<class 'str'>\n"
          ]
        }
      ]
    },
    {
      "cell_type": "code",
      "source": [
        "os.chdir('/content/')\n",
        "os.listdir()"
      ],
      "metadata": {
        "colab": {
          "base_uri": "https://localhost:8080/"
        },
        "id": "tE0X3DyaGfk2",
        "outputId": "8a7d5e04-a353-4630-f86c-7cc406480863"
      },
      "execution_count": null,
      "outputs": [
        {
          "output_type": "execute_result",
          "data": {
            "text/plain": [
              "['.config', 'data.txt', '.ipynb_checkpoints', 'untitled', 'sample_data']"
            ]
          },
          "metadata": {},
          "execution_count": 67
        }
      ]
    },
    {
      "cell_type": "code",
      "source": [
        "with open('data.txt', 'r') as fr:\n",
        "  lines = fr.readlines()\n",
        "  print(lines)\n",
        "\n",
        "        "
      ],
      "metadata": {
        "colab": {
          "base_uri": "https://localhost:8080/"
        },
        "id": "9ONfSKgUCmR0",
        "outputId": "2a50d291-92c4-4b90-beb4-c418ddf00841"
      },
      "execution_count": null,
      "outputs": [
        {
          "output_type": "stream",
          "name": "stdout",
          "text": [
            "['a\\n', 'scalera\\n', 'b\\n', 'scalern']\n"
          ]
        }
      ]
    },
    {
      "cell_type": "code",
      "source": [
        "with open('new_data.txt', 'w') as fw:\n",
        "    for line in lines:\n",
        "        if 'scaler' in line:\n",
        "            fw.writelines(line)"
      ],
      "metadata": {
        "id": "Np9TmZMsGc9E"
      },
      "execution_count": null,
      "outputs": []
    },
    {
      "cell_type": "code",
      "source": [
        "lines = [\"a\", \"b\", \"c\"]\n",
        "with open('new_data.txt', 'w') as fw:\n",
        "        fw.write(lines)"
      ],
      "metadata": {
        "colab": {
          "base_uri": "https://localhost:8080/",
          "height": 204
        },
        "id": "6bIDlw5WGxPo",
        "outputId": "a0871804-d073-44e9-aa50-d8c844518eda"
      },
      "execution_count": null,
      "outputs": [
        {
          "output_type": "error",
          "ename": "TypeError",
          "evalue": "ignored",
          "traceback": [
            "\u001b[0;31m---------------------------------------------------------------------------\u001b[0m",
            "\u001b[0;31mTypeError\u001b[0m                                 Traceback (most recent call last)",
            "\u001b[0;32m<ipython-input-78-473de7d0ccd9>\u001b[0m in \u001b[0;36m<cell line: 2>\u001b[0;34m()\u001b[0m\n\u001b[1;32m      1\u001b[0m \u001b[0mlines\u001b[0m \u001b[0;34m=\u001b[0m \u001b[0;34m[\u001b[0m\u001b[0;34m\"a\"\u001b[0m\u001b[0;34m,\u001b[0m \u001b[0;34m\"b\"\u001b[0m\u001b[0;34m,\u001b[0m \u001b[0;34m\"c\"\u001b[0m\u001b[0;34m]\u001b[0m\u001b[0;34m\u001b[0m\u001b[0;34m\u001b[0m\u001b[0m\n\u001b[1;32m      2\u001b[0m \u001b[0;32mwith\u001b[0m \u001b[0mopen\u001b[0m\u001b[0;34m(\u001b[0m\u001b[0;34m'new_data.txt'\u001b[0m\u001b[0;34m,\u001b[0m \u001b[0;34m'w'\u001b[0m\u001b[0;34m)\u001b[0m \u001b[0;32mas\u001b[0m \u001b[0mfw\u001b[0m\u001b[0;34m:\u001b[0m\u001b[0;34m\u001b[0m\u001b[0;34m\u001b[0m\u001b[0m\n\u001b[0;32m----> 3\u001b[0;31m         \u001b[0mfw\u001b[0m\u001b[0;34m.\u001b[0m\u001b[0mwrite\u001b[0m\u001b[0;34m(\u001b[0m\u001b[0mlines\u001b[0m\u001b[0;34m)\u001b[0m\u001b[0;34m\u001b[0m\u001b[0;34m\u001b[0m\u001b[0m\n\u001b[0m",
            "\u001b[0;31mTypeError\u001b[0m: write() argument must be str, not list"
          ]
        }
      ]
    },
    {
      "cell_type": "code",
      "source": [
        "a = open('data.txt', 'r')\n",
        "print(a.read())\n",
        "a.close()\n",
        "a.closed"
      ],
      "metadata": {
        "colab": {
          "base_uri": "https://localhost:8080/"
        },
        "id": "18QAIgUTHeVy",
        "outputId": "a610ce59-99f0-43c1-ac19-f5e30406feac"
      },
      "execution_count": null,
      "outputs": [
        {
          "output_type": "stream",
          "name": "stdout",
          "text": [
            "a\n",
            "scalera\n",
            "b\n",
            "scalern\n"
          ]
        },
        {
          "output_type": "execute_result",
          "data": {
            "text/plain": [
              "True"
            ]
          },
          "metadata": {},
          "execution_count": 82
        }
      ]
    },
    {
      "cell_type": "code",
      "source": [
        "b = open('data.txt', 'r')\n",
        "print(b.read())\n",
        "b.close()\n"
      ],
      "metadata": {
        "colab": {
          "base_uri": "https://localhost:8080/"
        },
        "id": "I5-cK70uIINS",
        "outputId": "ebec8356-90f5-4a76-8e9d-e37c1d0439fb"
      },
      "execution_count": null,
      "outputs": [
        {
          "output_type": "stream",
          "name": "stdout",
          "text": [
            "a\n",
            "scalera\n",
            "b\n",
            "scalern\n"
          ]
        }
      ]
    },
    {
      "cell_type": "code",
      "source": [
        "try:\n",
        "    a = open('data.txt', 'r')\n",
        "    print(a.read())\n",
        "except:\n",
        "    pass\n",
        "finally:\n",
        "    a.close()\n",
        "\n",
        "print(a.closed)"
      ],
      "metadata": {
        "colab": {
          "base_uri": "https://localhost:8080/"
        },
        "id": "XQ2qwtAyIbmy",
        "outputId": "4e4ede14-eeef-4ae5-fa3c-5896a6d9a3ac"
      },
      "execution_count": null,
      "outputs": [
        {
          "output_type": "stream",
          "name": "stdout",
          "text": [
            "a\n",
            "scalera\n",
            "b\n",
            "scalern\n",
            "True\n"
          ]
        }
      ]
    },
    {
      "cell_type": "code",
      "source": [
        "with open('data.txt', 'r') as b:\n",
        "    print(b.read())\n",
        "    print(b.closed)\n",
        "b.closed"
      ],
      "metadata": {
        "colab": {
          "base_uri": "https://localhost:8080/"
        },
        "id": "n4EWKvefIvPr",
        "outputId": "d80170a3-0c1d-4bec-d909-6793bfd4b0a1"
      },
      "execution_count": null,
      "outputs": [
        {
          "output_type": "stream",
          "name": "stdout",
          "text": [
            "a\n",
            "scalera\n",
            "b\n",
            "scalern\n",
            "False\n"
          ]
        },
        {
          "output_type": "execute_result",
          "data": {
            "text/plain": [
              "True"
            ]
          },
          "metadata": {},
          "execution_count": 88
        }
      ]
    },
    {
      "cell_type": "code",
      "source": [
        "[1,2,3]\n",
        "\n",
        "\n",
        "\n",
        "# susequence : using for\n",
        "# substring # recursion: DP, B"
      ],
      "metadata": {
        "id": "5wzSiwctI3Xb"
      },
      "execution_count": null,
      "outputs": []
    }
  ]
}