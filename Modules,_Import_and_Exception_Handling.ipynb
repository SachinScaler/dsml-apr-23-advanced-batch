{
  "nbformat": 4,
  "nbformat_minor": 0,
  "metadata": {
    "colab": {
      "provenance": [],
      "authorship_tag": "ABX9TyNcXD3InLlGMHUubrlg+xbj",
      "include_colab_link": true
    },
    "kernelspec": {
      "name": "python3",
      "display_name": "Python 3"
    },
    "language_info": {
      "name": "python"
    }
  },
  "cells": [
    {
      "cell_type": "markdown",
      "metadata": {
        "id": "view-in-github",
        "colab_type": "text"
      },
      "source": [
        "<a href=\"https://colab.research.google.com/github/SachinScaler/dsml-apr-23-advanced-batch/blob/main/Modules%2C_Import_and_Exception_Handling.ipynb\" target=\"_parent\"><img src=\"https://colab.research.google.com/assets/colab-badge.svg\" alt=\"Open In Colab\"/></a>"
      ]
    },
    {
      "cell_type": "markdown",
      "source": [
        "###: Agenda for Today's session:\n",
        "- Modules in python\n",
        "- How to import modules\n",
        "- How to create custom modules\n",
        "- Error and Exception Handling\n",
        "- Creating and Raising Custom Exceptions"
      ],
      "metadata": {
        "id": "KK4pvqeI_V6K"
      }
    },
    {
      "cell_type": "code",
      "execution_count": 1,
      "metadata": {
        "id": "o0YhtbTx-qVo"
      },
      "outputs": [],
      "source": [
        "# importing an inbuilt module\n",
        "import math"
      ]
    },
    {
      "cell_type": "code",
      "source": [
        "math.pow(2,3) # pow is function present inside my math module"
      ],
      "metadata": {
        "colab": {
          "base_uri": "https://localhost:8080/"
        },
        "id": "9KW5aARTAaf7",
        "outputId": "1efbeaf0-27ac-41e8-c156-25c4938b5954"
      },
      "execution_count": 2,
      "outputs": [
        {
          "output_type": "execute_result",
          "data": {
            "text/plain": [
              "8.0"
            ]
          },
          "metadata": {},
          "execution_count": 2
        }
      ]
    },
    {
      "cell_type": "code",
      "source": [
        "print(math.pi) # in this line the value will get resetted to 3.14"
      ],
      "metadata": {
        "colab": {
          "base_uri": "https://localhost:8080/"
        },
        "id": "C3R3igJLAnmf",
        "outputId": "56ed3dcb-c122-4541-d206-3a6753200566"
      },
      "execution_count": 3,
      "outputs": [
        {
          "output_type": "stream",
          "name": "stdout",
          "text": [
            "3.141592653589793\n"
          ]
        }
      ]
    },
    {
      "cell_type": "code",
      "source": [
        "math.pi = 1000"
      ],
      "metadata": {
        "id": "CoMzUKO1A9hC"
      },
      "execution_count": 4,
      "outputs": []
    },
    {
      "cell_type": "code",
      "source": [
        "print(math.pi)"
      ],
      "metadata": {
        "colab": {
          "base_uri": "https://localhost:8080/"
        },
        "id": "V7RMHdjaBB7I",
        "outputId": "14ac4396-cf14-4ac9-833e-e46e8541ccc6"
      },
      "execution_count": 5,
      "outputs": [
        {
          "output_type": "stream",
          "name": "stdout",
          "text": [
            "1000\n"
          ]
        }
      ]
    },
    {
      "cell_type": "markdown",
      "source": [],
      "metadata": {
        "id": "b5P7tkQ8_U4p"
      }
    },
    {
      "cell_type": "code",
      "source": [
        "# shows all the files present in current working dir\n",
        "import os\n",
        "os.listdir()"
      ],
      "metadata": {
        "colab": {
          "base_uri": "https://localhost:8080/"
        },
        "id": "HVRwIV8X-zF4",
        "outputId": "5755fe14-5f42-4fdd-f3cc-658a37ff92d4"
      },
      "execution_count": 6,
      "outputs": [
        {
          "output_type": "execute_result",
          "data": {
            "text/plain": [
              "['.config',\n",
              " 'untitled',\n",
              " 'mymod.py',\n",
              " 'custommath.py',\n",
              " '__pycache__',\n",
              " '.ipynb_checkpoints',\n",
              " 'sample_data']"
            ]
          },
          "metadata": {},
          "execution_count": 6
        }
      ]
    },
    {
      "cell_type": "code",
      "source": [
        "import custommath #python caches your first import so restart if you do any changes after importing"
      ],
      "metadata": {
        "id": "ioRIV3b_DB7P"
      },
      "execution_count": 7,
      "outputs": []
    },
    {
      "cell_type": "code",
      "source": [
        "custommath.pi"
      ],
      "metadata": {
        "colab": {
          "base_uri": "https://localhost:8080/"
        },
        "id": "bu16zHBCDnYp",
        "outputId": "ee8d9c94-2724-4270-fff4-473a9752b97d"
      },
      "execution_count": 8,
      "outputs": [
        {
          "output_type": "execute_result",
          "data": {
            "text/plain": [
              "3.17"
            ]
          },
          "metadata": {},
          "execution_count": 8
        }
      ]
    },
    {
      "cell_type": "code",
      "source": [
        "custommath.add(1,2)"
      ],
      "metadata": {
        "colab": {
          "base_uri": "https://localhost:8080/"
        },
        "id": "XI5y-wlIDpaA",
        "outputId": "c64f2ba1-a559-4714-ebec-636333de56b0"
      },
      "execution_count": 9,
      "outputs": [
        {
          "output_type": "execute_result",
          "data": {
            "text/plain": [
              "3"
            ]
          },
          "metadata": {},
          "execution_count": 9
        }
      ]
    },
    {
      "cell_type": "code",
      "source": [
        "custommath.sub(1,2)"
      ],
      "metadata": {
        "colab": {
          "base_uri": "https://localhost:8080/"
        },
        "id": "FidNn2dsDr3Z",
        "outputId": "22ba29c9-6167-48fa-8a8e-b9c573a64e68"
      },
      "execution_count": 10,
      "outputs": [
        {
          "output_type": "execute_result",
          "data": {
            "text/plain": [
              "-1"
            ]
          },
          "metadata": {},
          "execution_count": 10
        }
      ]
    },
    {
      "cell_type": "code",
      "source": [
        "import custommath\n",
        "print(custommath.pi)"
      ],
      "metadata": {
        "colab": {
          "base_uri": "https://localhost:8080/"
        },
        "id": "5vSYjGRMEAF8",
        "outputId": "111cb477-1af5-4e67-df01-69eb33dd2a82"
      },
      "execution_count": 11,
      "outputs": [
        {
          "output_type": "stream",
          "name": "stdout",
          "text": [
            "3.17\n"
          ]
        }
      ]
    },
    {
      "cell_type": "code",
      "source": [
        "print(custommath.msg)"
      ],
      "metadata": {
        "colab": {
          "base_uri": "https://localhost:8080/"
        },
        "id": "wcpo08rJE3H-",
        "outputId": "d3ae5479-7194-42d3-ec45-fd2c4950f110"
      },
      "execution_count": 12,
      "outputs": [
        {
          "output_type": "stream",
          "name": "stdout",
          "text": [
            "World\n"
          ]
        }
      ]
    },
    {
      "cell_type": "code",
      "source": [
        "custommath.sub1(1,2)"
      ],
      "metadata": {
        "colab": {
          "base_uri": "https://localhost:8080/",
          "height": 164
        },
        "id": "Xg_bg2GgE9gb",
        "outputId": "fdc365ac-c896-4d0d-d922-68d974976451"
      },
      "execution_count": 13,
      "outputs": [
        {
          "output_type": "error",
          "ename": "AttributeError",
          "evalue": "ignored",
          "traceback": [
            "\u001b[0;31m---------------------------------------------------------------------------\u001b[0m",
            "\u001b[0;31mAttributeError\u001b[0m                            Traceback (most recent call last)",
            "\u001b[0;32m<ipython-input-13-61f3ff09458f>\u001b[0m in \u001b[0;36m<cell line: 1>\u001b[0;34m()\u001b[0m\n\u001b[0;32m----> 1\u001b[0;31m \u001b[0mcustommath\u001b[0m\u001b[0;34m.\u001b[0m\u001b[0msub1\u001b[0m\u001b[0;34m(\u001b[0m\u001b[0;36m1\u001b[0m\u001b[0;34m,\u001b[0m\u001b[0;36m2\u001b[0m\u001b[0;34m)\u001b[0m\u001b[0;34m\u001b[0m\u001b[0;34m\u001b[0m\u001b[0m\n\u001b[0m",
            "\u001b[0;31mAttributeError\u001b[0m: module 'custommath' has no attribute 'sub1'"
          ]
        }
      ]
    },
    {
      "cell_type": "code",
      "source": [
        "help(math)"
      ],
      "metadata": {
        "id": "x7NmuM6IFUwU"
      },
      "execution_count": null,
      "outputs": []
    },
    {
      "cell_type": "code",
      "source": [
        "help(custommath)"
      ],
      "metadata": {
        "id": "Hu1ECleqFtJq"
      },
      "execution_count": null,
      "outputs": []
    },
    {
      "cell_type": "code",
      "source": [
        "dir(custommath)"
      ],
      "metadata": {
        "id": "Ph4ll13IF1mq"
      },
      "execution_count": null,
      "outputs": []
    },
    {
      "cell_type": "code",
      "source": [
        "## pi is present in math as well as custommath"
      ],
      "metadata": {
        "id": "Zj6Qc5PeGDFy"
      },
      "execution_count": null,
      "outputs": []
    },
    {
      "cell_type": "code",
      "source": [
        "from math import pi, sqrt \n",
        "print(pi)"
      ],
      "metadata": {
        "id": "7MA8EOxfGPA2"
      },
      "execution_count": null,
      "outputs": []
    },
    {
      "cell_type": "code",
      "source": [
        "from math import pi\n",
        "from custommath import pi\n",
        " \n",
        "print(pi)"
      ],
      "metadata": {
        "id": "N4BuiPRxGcLk"
      },
      "execution_count": null,
      "outputs": []
    },
    {
      "cell_type": "code",
      "source": [
        "from custommath import pi\n",
        "from math import pi\n",
        "\n",
        "print(pi)"
      ],
      "metadata": {
        "id": "Tym2mPe4GzIo"
      },
      "execution_count": null,
      "outputs": []
    },
    {
      "cell_type": "code",
      "source": [
        "import custommath \n",
        "import math \n",
        "\n",
        "print(math.pi)\n",
        "print(custommath.pi)"
      ],
      "metadata": {
        "id": "eOIJztJgG33D"
      },
      "execution_count": null,
      "outputs": []
    },
    {
      "cell_type": "code",
      "source": [
        "from custommath  import pi as custpi\n",
        "from math import pi as mpi\n",
        "\n",
        "print(mpi)\n",
        "print(custpi)"
      ],
      "metadata": {
        "id": "lrXIsXZMHHet"
      },
      "execution_count": null,
      "outputs": []
    },
    {
      "cell_type": "code",
      "source": [
        "import custommath as cm\n",
        "\n",
        "print(cm.pi)\n",
        "print(cm.add(1,2))"
      ],
      "metadata": {
        "id": "C8CxsZahHcfi"
      },
      "execution_count": null,
      "outputs": []
    },
    {
      "cell_type": "code",
      "source": [
        "import numpy as np"
      ],
      "metadata": {
        "id": "L0vTXLDQHo_8"
      },
      "execution_count": null,
      "outputs": []
    },
    {
      "cell_type": "code",
      "source": [
        "# random module\n",
        "import random \n",
        "\n",
        "help(random)"
      ],
      "metadata": {
        "id": "Q4wDKgS0HsJ1"
      },
      "execution_count": null,
      "outputs": []
    },
    {
      "cell_type": "code",
      "source": [
        "help(random.randint)"
      ],
      "metadata": {
        "id": "wg5iECCCIOhT"
      },
      "execution_count": null,
      "outputs": []
    },
    {
      "cell_type": "code",
      "source": [
        "random.randint(1,10)"
      ],
      "metadata": {
        "id": "YuOjJVEdIB1W"
      },
      "execution_count": null,
      "outputs": []
    },
    {
      "cell_type": "code",
      "source": [
        "random.randint(1,10)"
      ],
      "metadata": {
        "id": "JKbEi-7yIVsv"
      },
      "execution_count": null,
      "outputs": []
    },
    {
      "cell_type": "code",
      "source": [
        "random.randint(1,10)"
      ],
      "metadata": {
        "id": "MdZX1LmCIa-z"
      },
      "execution_count": null,
      "outputs": []
    },
    {
      "cell_type": "code",
      "source": [
        "random.seed(100)\n",
        "\n",
        "print(random.randint(1,10))\n",
        "print(random.randint(1,10))\n",
        "print(random.randint(1,10))"
      ],
      "metadata": {
        "id": "469DUKkEIfvk"
      },
      "execution_count": null,
      "outputs": []
    },
    {
      "cell_type": "code",
      "source": [
        "random.seed(100)\n",
        "\n",
        "print(random.randint(1,10))\n",
        "print(random.randint(1,10))\n",
        "print(random.randint(1,10))"
      ],
      "metadata": {
        "id": "yyhmEO6QJZ5i"
      },
      "execution_count": null,
      "outputs": []
    },
    {
      "cell_type": "code",
      "source": [
        "random.seed(42)\n",
        "\n",
        "print(random.randint(1,10))\n",
        "print(random.randint(1,10))\n",
        "print(random.randint(1,10))"
      ],
      "metadata": {
        "id": "wVLm10EMJb5x"
      },
      "execution_count": null,
      "outputs": []
    },
    {
      "cell_type": "code",
      "source": [
        "random.seed(42)\n",
        "\n",
        "print(random.randint(1,10))\n",
        "print(random.randint(1,10))\n",
        "print(random.randint(1,10))"
      ],
      "metadata": {
        "id": "rzLlQHuhJfaL"
      },
      "execution_count": null,
      "outputs": []
    },
    {
      "cell_type": "markdown",
      "source": [
        "- Various ways of importing"
      ],
      "metadata": {
        "id": "tGL1rRYgKB56"
      }
    },
    {
      "cell_type": "code",
      "source": [
        "import math # directly import module\n",
        "import math as m # directly import module and assigning alias\n",
        "from math import pi, pow # import specific attribs from module\n",
        "from math import pi as mpi # import specific attribs from module and assign them alias\n",
        "\n",
        "from math import * # import everything directly into current environtment : Not Recommended"
      ],
      "metadata": {
        "id": "SbdxpTMLJg3c"
      },
      "execution_count": null,
      "outputs": []
    },
    {
      "cell_type": "code",
      "source": [
        "sqrt = 10\n",
        "from math import * # import everything directly into current environtment : Not Recommended"
      ],
      "metadata": {
        "id": "EXKWsCR3KfFa"
      },
      "execution_count": null,
      "outputs": []
    },
    {
      "cell_type": "code",
      "source": [
        "print(sqrt)"
      ],
      "metadata": {
        "id": "6ztSUAPAKp_w"
      },
      "execution_count": null,
      "outputs": []
    },
    {
      "cell_type": "code",
      "source": [
        "sqrt = 10\n",
        "import math \n",
        "print(sqrt)"
      ],
      "metadata": {
        "id": "X_1wcnoeKwJ8"
      },
      "execution_count": null,
      "outputs": []
    },
    {
      "cell_type": "code",
      "source": [
        "ceil(11.1)"
      ],
      "metadata": {
        "id": "0jYK2sebK3wy"
      },
      "execution_count": null,
      "outputs": []
    },
    {
      "cell_type": "code",
      "source": [
        "import math\n",
        "print(isinstance(math, object))"
      ],
      "metadata": {
        "id": "shhexbGKLECR"
      },
      "execution_count": null,
      "outputs": []
    },
    {
      "cell_type": "markdown",
      "source": [
        "File main.py\n",
        "```\n",
        "import arithmetic\n",
        "\n",
        "def calculate(number):\n",
        "    return number - 2\n",
        "\n",
        "print(calculate(1)) # current module\n",
        "print(arithmetic.calculate(1)) #artitmatic module function \n",
        "```\n",
        "\n",
        "File arithmetic.py\n",
        "```\n",
        "def calculate(number):\n",
        "    return number + 2\n",
        "\n",
        "```\n",
        "output of running main.py"
      ],
      "metadata": {
        "id": "mb08gVXgO2gj"
      }
    },
    {
      "cell_type": "markdown",
      "source": [
        "File main.py\n",
        "```\n",
        "import arithmetic import calculate\n",
        "\n",
        "def calculate(number):\n",
        "    return number - 2\n",
        "\n",
        "# import here\n",
        "print(calculate(1)) # current module\n",
        "print(calculate(1)) #Current module function \n",
        "```\n",
        "\n",
        "File arithmetic.py\n",
        "```\n",
        "def calculate(number):\n",
        "    return number + 2\n",
        "\n",
        "```\n",
        "output of running main.py"
      ],
      "metadata": {
        "id": "hIBgF8lcPiLZ"
      }
    },
    {
      "cell_type": "markdown",
      "source": [
        "- 3\n",
        "- -1\n",
        "- 3 3 \n",
        "- -1 -1\n",
        "- Error: Can't overwrite"
      ],
      "metadata": {
        "id": "87Eden5qPt9k"
      }
    },
    {
      "cell_type": "markdown",
      "source": [
        "ERROR and Exception Handling"
      ],
      "metadata": {
        "id": "vam7s3kAQT0x"
      }
    },
    {
      "cell_type": "code",
      "source": [
        "from math import add"
      ],
      "metadata": {
        "id": "1rjRlxvCOqwv"
      },
      "execution_count": null,
      "outputs": []
    },
    {
      "cell_type": "code",
      "source": [
        "a = int(input())\n",
        "b = int(input())\n",
        "\n",
        "print(a/b)"
      ],
      "metadata": {
        "id": "tcx3cfjCQcaP"
      },
      "execution_count": null,
      "outputs": []
    },
    {
      "cell_type": "code",
      "source": [
        "print(a_not_defined)"
      ],
      "metadata": {
        "id": "ImKZO1QARRio"
      },
      "execution_count": null,
      "outputs": []
    },
    {
      "cell_type": "code",
      "source": [
        "if 574:\n",
        "    print(\"Hello\")\n",
        "        print(\"World\")"
      ],
      "metadata": {
        "id": "M4OX_KGfRnd9"
      },
      "execution_count": null,
      "outputs": []
    },
    {
      "cell_type": "code",
      "source": [
        "if 574:\n",
        "    "
      ],
      "metadata": {
        "id": "6NMb4DkwRwUz"
      },
      "execution_count": null,
      "outputs": []
    },
    {
      "cell_type": "code",
      "source": [
        "a = 1\n",
        "b = 2\n",
        "\n",
        "try:\n",
        "    print(a/b)\n",
        "except: # default exception block\n",
        "    print(\"Why are you dividing by Zero\")"
      ],
      "metadata": {
        "id": "OXyg6SkhR1iq"
      },
      "execution_count": null,
      "outputs": []
    },
    {
      "cell_type": "code",
      "source": [
        "a = 1\n",
        "b = \"A\"\n",
        "print(a/b)"
      ],
      "metadata": {
        "id": "3RBPic_SSc2n"
      },
      "execution_count": null,
      "outputs": []
    },
    {
      "cell_type": "code",
      "source": [
        "a = 1\n",
        "b = \"A\"\n",
        "\n",
        "try:\n",
        "    print(a/b)\n",
        "except: # default exception block\n",
        "    print(\"Why are you dividing by Zero\")"
      ],
      "metadata": {
        "id": "PLzyIolUSCP-"
      },
      "execution_count": null,
      "outputs": []
    },
    {
      "cell_type": "code",
      "source": [
        "a = 1\n",
        "\n",
        "\n",
        "try:\n",
        "    b = int(input())\n",
        "    print(a/b)\n",
        "except: # default exception block\n",
        "    print(\"Why are you dividing by Zero\")"
      ],
      "metadata": {
        "id": "-ukbXNjPSmSc"
      },
      "execution_count": null,
      "outputs": []
    },
    {
      "cell_type": "code",
      "source": [
        "a = 1\n",
        "\n",
        "try:\n",
        "    b = 'A'\n",
        "    print(a/b)\n",
        "except ZeroDivisionError: # default exception block\n",
        "    print(\"Why are you dividing by Zero\")\n",
        "except:\n",
        "    print(\"Some Error\")"
      ],
      "metadata": {
        "id": "LIGF3PLdSshh"
      },
      "execution_count": null,
      "outputs": []
    },
    {
      "cell_type": "code",
      "source": [
        "a = 1\n",
        "\n",
        "try:\n",
        "    b = int('A')\n",
        "    print(a/b)\n",
        "except ZeroDivisionError: # default exception block\n",
        "    print(\"Why are you dividing by Zero\")\n",
        "except Exception as e:\n",
        "    print(\"Some Error\", str(e))"
      ],
      "metadata": {
        "id": "2ltSCtveS7vp"
      },
      "execution_count": null,
      "outputs": []
    },
    {
      "cell_type": "code",
      "source": [
        "dir(__builtins__)"
      ],
      "metadata": {
        "id": "uyHbZqbxTv9a"
      },
      "execution_count": null,
      "outputs": []
    },
    {
      "cell_type": "code",
      "source": [
        "def funct(arg):\n",
        "    return 1/arg\n",
        "\n",
        "try:\n",
        "    print(arg)\n",
        "    print(funct())\n",
        "\n",
        "except ZeroDivisionError:\n",
        "    print(\"A can't be zero\")\n",
        "\n",
        "except ValueError:\n",
        "    print(\"Value Error occured. Not Supperted: \",type(a) )\n",
        "\n",
        "except TypeError:\n",
        "\n",
        "    print(\"A should be integer. Not\",type(a) )\n",
        "\n",
        "except:\n",
        "    print(\"Some error Occured\")\n",
        "\n"
      ],
      "metadata": {
        "id": "2w9jIPKvUOSD"
      },
      "execution_count": null,
      "outputs": []
    },
    {
      "cell_type": "code",
      "source": [
        "def funct(arg):\n",
        "    return 1/arg\n",
        "\n",
        "funct(1,2)   "
      ],
      "metadata": {
        "id": "cy1hZEDhU2He"
      },
      "execution_count": null,
      "outputs": []
    },
    {
      "cell_type": "code",
      "source": [
        "l1 = [2, 0, \"hello\", None]\n",
        "\n",
        "for e in l1:\n",
        "    try:\n",
        "        result = 5 / int(e) # NEEE \n",
        "        print(\"N\")\n",
        "    except Exception as ex:\n",
        "        print(\"E\")\n",
        "    except ZeroDivisionError as z:\n",
        "        print(\"Z\")"
      ],
      "metadata": {
        "id": "ukios5H2WBSs"
      },
      "execution_count": null,
      "outputs": []
    },
    {
      "cell_type": "code",
      "source": [
        "l1 = [2, 0, \"hello\", None]\n",
        "\n",
        "for e in l1:\n",
        "    try:\n",
        "        result = 5 / int(e) # NEEE \n",
        "        print(\"N\")\n",
        "    except Exception as e:\n",
        "        print(\"E\")\n",
        "    except ZeroDivisionError as z:\n",
        "        print(\"Z\")"
      ],
      "metadata": {
        "id": "Ev75F1LYW-1P"
      },
      "execution_count": null,
      "outputs": []
    },
    {
      "cell_type": "code",
      "source": [
        "class MyCustomException(Exception):\n",
        "    print(\"Custom Error\")\n",
        "\n",
        "\n",
        "raise MyCustomException"
      ],
      "metadata": {
        "id": "3UvY5FQZX33K"
      },
      "execution_count": null,
      "outputs": []
    },
    {
      "cell_type": "code",
      "source": [
        "a = 10\n",
        "b = 0\n",
        "\n",
        "try:\n",
        "    if b>0:\n",
        "        print(a/b)\n",
        "    else:\n",
        "        raise MyCustomException(\"Arg for my custom Error\") # print this message using init \n",
        "\n",
        "except MyCustomException:\n",
        "    print(\"CustomExcpetion\")\n"
      ],
      "metadata": {
        "id": "Vfvi0KncXaoz"
      },
      "execution_count": null,
      "outputs": []
    },
    {
      "cell_type": "markdown",
      "source": [
        "Finally Block:\n",
        "Code Inside finally will get executed irrespective of whether the Error Occurs"
      ],
      "metadata": {
        "id": "qGaUuEsTY7jc"
      }
    },
    {
      "cell_type": "code",
      "source": [
        "a= 10\n",
        "b = 0\n",
        "\n",
        "try: \n",
        "    print(a/b) # 1\n",
        "except:\n",
        "    print(\"Some Error\") # 2\n",
        "\n",
        "finally:\n",
        "    print(\"inside Finally\") # 3"
      ],
      "metadata": {
        "id": "Hm3lhyRVYPB_"
      },
      "execution_count": null,
      "outputs": []
    },
    {
      "cell_type": "code",
      "source": [
        "a= 10\n",
        "b = 10\n",
        "\n",
        "try: \n",
        "    print(a/b) # 1\n",
        "except:\n",
        "    print(\"Some Error\") # 2\n",
        "\n",
        "print(\"inside Finally\") # 3"
      ],
      "metadata": {
        "id": "wsdp_yNRZu-f"
      },
      "execution_count": null,
      "outputs": []
    },
    {
      "cell_type": "code",
      "source": [
        "a= 10\n",
        "b = 'a'\n",
        "try: \n",
        "    print(a/b) # 1\n",
        "except ZeroDivisionError:\n",
        "    print(\"Some Error\") # 2\n",
        "\n",
        "finally:\n",
        "    print(\"inside Finally\") # 3"
      ],
      "metadata": {
        "id": "y4PRD5Q6Z6oe"
      },
      "execution_count": null,
      "outputs": []
    },
    {
      "cell_type": "code",
      "source": [
        "if __name__==\"__main__\":\n",
        "    print(\"Do Something\")"
      ],
      "metadata": {
        "id": "g3z3YcSWamEy"
      },
      "execution_count": null,
      "outputs": []
    },
    {
      "cell_type": "code",
      "source": [
        "!python mymod.py # run this inside termial without !"
      ],
      "metadata": {
        "colab": {
          "base_uri": "https://localhost:8080/"
        },
        "id": "WJvG-mtZbyib",
        "outputId": "7587a2ae-5ba3-4a58-8353-418cb2f01210"
      },
      "execution_count": 15,
      "outputs": [
        {
          "output_type": "stream",
          "name": "stdout",
          "text": [
            "HelloWorld\n",
            "Some Random Thing\n"
          ]
        }
      ]
    },
    {
      "cell_type": "code",
      "source": [
        "import mymod"
      ],
      "metadata": {
        "id": "70xX0GlJcd-x"
      },
      "execution_count": 16,
      "outputs": []
    },
    {
      "cell_type": "markdown",
      "source": [
        "- To avoid execution while import we can add code inside: \n",
        "\n",
        "```\n",
        "if __name__== '__main__':\n",
        "    code that needs to be executed only when the script is being run directly from console\n",
        "```"
      ],
      "metadata": {
        "id": "DK9gb_K9doaz"
      }
    },
    {
      "cell_type": "code",
      "source": [],
      "metadata": {
        "id": "cAM7nSa6doJS"
      },
      "execution_count": null,
      "outputs": []
    },
    {
      "cell_type": "code",
      "source": [
        "mymod.hello_world()"
      ],
      "metadata": {
        "id": "Jw9W86spdCj_"
      },
      "execution_count": null,
      "outputs": []
    },
    {
      "cell_type": "code",
      "source": [],
      "metadata": {
        "id": "WAkZmK0JdIMt"
      },
      "execution_count": null,
      "outputs": []
    },
    {
      "cell_type": "code",
      "source": [
        "import os\n",
        "os.listdir('my_folder')"
      ],
      "metadata": {
        "id": "bbprjqGzdJuZ",
        "colab": {
          "base_uri": "https://localhost:8080/"
        },
        "outputId": "1918625f-9c60-4082-c53b-9e7689b8ea4e"
      },
      "execution_count": 19,
      "outputs": [
        {
          "output_type": "execute_result",
          "data": {
            "text/plain": [
              "['myfile.py', '.ipynb_checkpoints', 'Untitled Folder']"
            ]
          },
          "metadata": {},
          "execution_count": 19
        }
      ]
    },
    {
      "cell_type": "code",
      "source": [
        "import my_folder.myfile # foldername.modulename"
      ],
      "metadata": {
        "id": "aIhgW9LIe4ne"
      },
      "execution_count": 21,
      "outputs": []
    },
    {
      "cell_type": "code",
      "source": [],
      "metadata": {
        "id": "dwF9G3WrfKuT"
      },
      "execution_count": null,
      "outputs": []
    }
  ]
}