{
  "nbformat": 4,
  "nbformat_minor": 0,
  "metadata": {
    "colab": {
      "provenance": []
    },
    "kernelspec": {
      "name": "python3",
      "display_name": "Python 3"
    },
    "language_info": {
      "name": "python"
    }
  },
  "cells": [
    {
      "cell_type": "code",
      "execution_count": 4,
      "metadata": {
        "id": "A7TWQ5vjJAj7"
      },
      "outputs": [],
      "source": []
    },
    {
      "cell_type": "code",
      "source": [],
      "metadata": {
        "id": "4ZYvniptJSRE"
      },
      "execution_count": 4,
      "outputs": []
    },
    {
      "cell_type": "markdown",
      "source": [
        "- Lambda Functions is also called Anonymous\n",
        "- Lambda Functions can't be stored in Variable (Not Correct)\n",
        "- Lambda function takes a set of inputs and returns one or more outputs\n",
        "- Lambda function is a way to achieve Functional programming in python"
      ],
      "metadata": {
        "id": "Yef8k7akQajf"
      }
    },
    {
      "cell_type": "code",
      "source": [
        "a,b = (lambda x,y: (x+y, x-y))(2,10)\n",
        "print(a)"
      ],
      "metadata": {
        "colab": {
          "base_uri": "https://localhost:8080/"
        },
        "id": "F-eIraabKLvE",
        "outputId": "6eba151b-df85-42c9-cd88-db1c5907f6a7"
      },
      "execution_count": 8,
      "outputs": [
        {
          "output_type": "stream",
          "name": "stdout",
          "text": [
            "12\n"
          ]
        }
      ]
    },
    {
      "cell_type": "code",
      "source": [
        "print(b)"
      ],
      "metadata": {
        "colab": {
          "base_uri": "https://localhost:8080/"
        },
        "id": "69e2DE-lQqmX",
        "outputId": "3b39166f-19fc-4e48-9e04-2134c2b9f779"
      },
      "execution_count": 9,
      "outputs": [
        {
          "output_type": "stream",
          "name": "stdout",
          "text": [
            "-8\n"
          ]
        }
      ]
    },
    {
      "cell_type": "code",
      "source": [
        "list1 = [\"Heeello\", \"eeeel\", \"Voweels\", \"Kausach\", \"Elephant\" ]\n",
        "sorted(list1, key = lambda x: x.count('e')) # case sensitive"
      ],
      "metadata": {
        "colab": {
          "base_uri": "https://localhost:8080/"
        },
        "id": "BGEpOVixQ1cy",
        "outputId": "6001c26c-43cd-45ff-d644-0b74d7fd7044"
      },
      "execution_count": 13,
      "outputs": [
        {
          "output_type": "execute_result",
          "data": {
            "text/plain": [
              "['Kausach', 'Elephant', 'Voweels', 'Heeello', 'eeeel']"
            ]
          },
          "metadata": {},
          "execution_count": 13
        }
      ]
    },
    {
      "cell_type": "code",
      "source": [
        "list1 = [\"Heeello\", \"eeeel\", \"Voweels\", \"Kausach\", \"Elephant\" ]\n",
        "sorted(list1, key = lambda x: x.lower().count('e')) # case insensitive"
      ],
      "metadata": {
        "colab": {
          "base_uri": "https://localhost:8080/"
        },
        "id": "DS9s2uPiSLSP",
        "outputId": "ff333e34-77c1-4eab-9fdc-25803e4114dc"
      },
      "execution_count": 14,
      "outputs": [
        {
          "output_type": "execute_result",
          "data": {
            "text/plain": [
              "['Kausach', 'Voweels', 'Elephant', 'Heeello', 'eeeel']"
            ]
          },
          "metadata": {},
          "execution_count": 14
        }
      ]
    },
    {
      "cell_type": "markdown",
      "source": [
        "- map(func, iterable)\n",
        "- filter(func, iterable)"
      ],
      "metadata": {
        "id": "WemG3kTqTMWr"
      }
    },
    {
      "cell_type": "code",
      "source": [
        "from functools import reduce\n",
        "\n",
        "a = range(1, 11) # sum natural till 10: 1+2+3+..10\n",
        "res = reduce(lambda x, y: x + y, a)\n",
        "print(res)"
      ],
      "metadata": {
        "id": "SDNALO5bSN0Y"
      },
      "execution_count": null,
      "outputs": []
    },
    {
      "cell_type": "code",
      "source": [
        "a = range(1, 11)\n",
        "print(a)"
      ],
      "metadata": {
        "colab": {
          "base_uri": "https://localhost:8080/"
        },
        "id": "LsD7opCLWgW7",
        "outputId": "70c294cb-e744-4204-a6c5-b4e93c2ad839"
      },
      "execution_count": 18,
      "outputs": [
        {
          "output_type": "stream",
          "name": "stdout",
          "text": [
            "range(1, 11)\n"
          ]
        }
      ]
    },
    {
      "cell_type": "code",
      "source": [
        "map(lambda x: x*x, reduce(lambda x,y: x*y,  filter(lambda x: x%5==0 or x%2==0, [1,2,3,4,5])))"
      ],
      "metadata": {
        "colab": {
          "base_uri": "https://localhost:8080/",
          "height": 168
        },
        "id": "exiYyPunWxun",
        "outputId": "ea183cfa-6e23-4bd0-e525-48f2d174d601"
      },
      "execution_count": 27,
      "outputs": [
        {
          "output_type": "error",
          "ename": "TypeError",
          "evalue": "ignored",
          "traceback": [
            "\u001b[0;31m---------------------------------------------------------------------------\u001b[0m",
            "\u001b[0;31mTypeError\u001b[0m                                 Traceback (most recent call last)",
            "\u001b[0;32m<ipython-input-27-1fe0a35b3973>\u001b[0m in \u001b[0;36m<cell line: 1>\u001b[0;34m()\u001b[0m\n\u001b[0;32m----> 1\u001b[0;31m \u001b[0mmap\u001b[0m\u001b[0;34m(\u001b[0m\u001b[0;32mlambda\u001b[0m \u001b[0mx\u001b[0m\u001b[0;34m:\u001b[0m \u001b[0mx\u001b[0m\u001b[0;34m*\u001b[0m\u001b[0mx\u001b[0m\u001b[0;34m,\u001b[0m \u001b[0mreduce\u001b[0m\u001b[0;34m(\u001b[0m\u001b[0;32mlambda\u001b[0m \u001b[0mx\u001b[0m\u001b[0;34m,\u001b[0m\u001b[0my\u001b[0m\u001b[0;34m:\u001b[0m \u001b[0mx\u001b[0m\u001b[0;34m*\u001b[0m\u001b[0my\u001b[0m\u001b[0;34m,\u001b[0m  \u001b[0mfilter\u001b[0m\u001b[0;34m(\u001b[0m\u001b[0;32mlambda\u001b[0m \u001b[0mx\u001b[0m\u001b[0;34m:\u001b[0m \u001b[0mx\u001b[0m\u001b[0;34m%\u001b[0m\u001b[0;36m5\u001b[0m\u001b[0;34m==\u001b[0m\u001b[0;36m0\u001b[0m \u001b[0;32mor\u001b[0m \u001b[0mx\u001b[0m\u001b[0;34m%\u001b[0m\u001b[0;36m2\u001b[0m\u001b[0;34m==\u001b[0m\u001b[0;36m0\u001b[0m\u001b[0;34m,\u001b[0m \u001b[0;34m[\u001b[0m\u001b[0;36m1\u001b[0m\u001b[0;34m,\u001b[0m\u001b[0;36m2\u001b[0m\u001b[0;34m,\u001b[0m\u001b[0;36m3\u001b[0m\u001b[0;34m,\u001b[0m\u001b[0;36m4\u001b[0m\u001b[0;34m,\u001b[0m\u001b[0;36m5\u001b[0m\u001b[0;34m]\u001b[0m\u001b[0;34m)\u001b[0m\u001b[0;34m)\u001b[0m\u001b[0;34m)\u001b[0m\u001b[0;34m\u001b[0m\u001b[0;34m\u001b[0m\u001b[0m\n\u001b[0m",
            "\u001b[0;31mTypeError\u001b[0m: 'int' object is not iterable"
          ]
        }
      ]
    },
    {
      "cell_type": "code",
      "source": [
        "a = filter(lambda x: x%5==0 or x%2==0, [1,2,3,4,5])"
      ],
      "metadata": {
        "id": "U37iUWPsW0Wy"
      },
      "execution_count": 23,
      "outputs": []
    },
    {
      "cell_type": "code",
      "source": [
        "for i in a:\n",
        "    print(i)"
      ],
      "metadata": {
        "colab": {
          "base_uri": "https://localhost:8080/"
        },
        "id": "xY5AkS5hYPTp",
        "outputId": "0979bad8-cab6-4ebd-cd49-d5641e8db5ab"
      },
      "execution_count": 24,
      "outputs": [
        {
          "output_type": "stream",
          "name": "stdout",
          "text": [
            "2\n",
            "4\n",
            "5\n"
          ]
        }
      ]
    },
    {
      "cell_type": "code",
      "source": [
        "2*4*5"
      ],
      "metadata": {
        "colab": {
          "base_uri": "https://localhost:8080/"
        },
        "id": "IXwJRXfNYWj0",
        "outputId": "e8109ecf-bae5-4dc0-f994-98b0916d3b41"
      },
      "execution_count": 25,
      "outputs": [
        {
          "output_type": "execute_result",
          "data": {
            "text/plain": [
              "40"
            ]
          },
          "metadata": {},
          "execution_count": 25
        }
      ]
    },
    {
      "cell_type": "markdown",
      "source": [
        "HW: Explore possible scenarios where value of arg isn't going to throw error for the below Code:"
      ],
      "metadata": {
        "id": "CtSL1IIwZMea"
      }
    },
    {
      "cell_type": "code",
      "source": [
        "arg = [1,2,3,4,5] # replace this\n",
        "map(lambda x: x*x, reduce(lambda x,y: x*y, arg))"
      ],
      "metadata": {
        "colab": {
          "base_uri": "https://localhost:8080/",
          "height": 186
        },
        "id": "bgMSJ_JgYiJ_",
        "outputId": "f016afdf-f19d-4a49-8ba2-1d1f8d92f4d1"
      },
      "execution_count": 28,
      "outputs": [
        {
          "output_type": "error",
          "ename": "TypeError",
          "evalue": "ignored",
          "traceback": [
            "\u001b[0;31m---------------------------------------------------------------------------\u001b[0m",
            "\u001b[0;31mTypeError\u001b[0m                                 Traceback (most recent call last)",
            "\u001b[0;32m<ipython-input-28-ccdf2614cac3>\u001b[0m in \u001b[0;36m<cell line: 2>\u001b[0;34m()\u001b[0m\n\u001b[1;32m      1\u001b[0m \u001b[0marg\u001b[0m \u001b[0;34m=\u001b[0m \u001b[0;34m[\u001b[0m\u001b[0;36m1\u001b[0m\u001b[0;34m,\u001b[0m\u001b[0;36m2\u001b[0m\u001b[0;34m,\u001b[0m\u001b[0;36m3\u001b[0m\u001b[0;34m,\u001b[0m\u001b[0;36m4\u001b[0m\u001b[0;34m,\u001b[0m\u001b[0;36m5\u001b[0m\u001b[0;34m]\u001b[0m\u001b[0;34m\u001b[0m\u001b[0;34m\u001b[0m\u001b[0m\n\u001b[0;32m----> 2\u001b[0;31m \u001b[0mmap\u001b[0m\u001b[0;34m(\u001b[0m\u001b[0;32mlambda\u001b[0m \u001b[0mx\u001b[0m\u001b[0;34m:\u001b[0m \u001b[0mx\u001b[0m\u001b[0;34m*\u001b[0m\u001b[0mx\u001b[0m\u001b[0;34m,\u001b[0m \u001b[0mreduce\u001b[0m\u001b[0;34m(\u001b[0m\u001b[0;32mlambda\u001b[0m \u001b[0mx\u001b[0m\u001b[0;34m,\u001b[0m\u001b[0my\u001b[0m\u001b[0;34m:\u001b[0m \u001b[0mx\u001b[0m\u001b[0;34m*\u001b[0m\u001b[0my\u001b[0m\u001b[0;34m,\u001b[0m \u001b[0marg\u001b[0m\u001b[0;34m)\u001b[0m\u001b[0;34m)\u001b[0m\u001b[0;34m\u001b[0m\u001b[0;34m\u001b[0m\u001b[0m\n\u001b[0m",
            "\u001b[0;31mTypeError\u001b[0m: 'int' object is not iterable"
          ]
        }
      ]
    },
    {
      "cell_type": "markdown",
      "source": [
        "## ZIP:\n",
        "- used to zip multiple *iterables*\n",
        "- size of output depends on min length among all iterables"
      ],
      "metadata": {
        "id": "GSxhYQ1DZfAf"
      }
    },
    {
      "cell_type": "code",
      "source": [
        "list1 = ['a', 'b', 'c']\n",
        "list2 = [1,2,3]\n",
        "list(zip(list1, list2)) # [ (list1[0], list2[0]), (list1[1], list2[1]), (list1[2], list2[2])...N]"
      ],
      "metadata": {
        "colab": {
          "base_uri": "https://localhost:8080/"
        },
        "id": "lA_q53g2ZVYk",
        "outputId": "fcdf2c39-0360-40c9-e895-44af8b4c533e"
      },
      "execution_count": 30,
      "outputs": [
        {
          "output_type": "execute_result",
          "data": {
            "text/plain": [
              "[('a', 1), ('b', 2), ('c', 3)]"
            ]
          },
          "metadata": {},
          "execution_count": 30
        }
      ]
    },
    {
      "cell_type": "code",
      "source": [
        "dict(zip(list1, list2))"
      ],
      "metadata": {
        "colab": {
          "base_uri": "https://localhost:8080/"
        },
        "id": "8OV-bCrrZriB",
        "outputId": "e917aef3-c7fa-417e-9124-7040cc9fdf75"
      },
      "execution_count": 31,
      "outputs": [
        {
          "output_type": "execute_result",
          "data": {
            "text/plain": [
              "{'a': 1, 'b': 2, 'c': 3}"
            ]
          },
          "metadata": {},
          "execution_count": 31
        }
      ]
    },
    {
      "cell_type": "code",
      "source": [
        "tuple(zip(list1, list2))"
      ],
      "metadata": {
        "colab": {
          "base_uri": "https://localhost:8080/"
        },
        "id": "gcA8zdJ7ZxGA",
        "outputId": "3d540378-0366-4012-d8eb-797c3153b492"
      },
      "execution_count": 32,
      "outputs": [
        {
          "output_type": "execute_result",
          "data": {
            "text/plain": [
              "(('a', 1), ('b', 2), ('c', 3))"
            ]
          },
          "metadata": {},
          "execution_count": 32
        }
      ]
    },
    {
      "cell_type": "code",
      "source": [
        "list1 = ['a', 'b', 'c'] # 3\n",
        "list2 = [1,2,3, 4,5] # 5\n",
        "list(zip(list1, list2)) # [ (list1[0], list2[0]), (list1[1], list2[1]), (list1[2], list2[2])...N]\n"
      ],
      "metadata": {
        "colab": {
          "base_uri": "https://localhost:8080/"
        },
        "id": "UG69PcFnZ1EI",
        "outputId": "fa4b8500-5c12-4eba-8dbc-a4d5ba868e9c"
      },
      "execution_count": 33,
      "outputs": [
        {
          "output_type": "execute_result",
          "data": {
            "text/plain": [
              "[('a', 1), ('b', 2), ('c', 3)]"
            ]
          },
          "metadata": {},
          "execution_count": 33
        }
      ]
    },
    {
      "cell_type": "code",
      "source": [
        "list1 = [\"A\", \"B\", \"C\"] # length 3\n",
        "list2 = [1,2,3,4] # length 4\n",
        "list3 = [\"!\", \"@\", \"#\", \"$\", \"%\"] # length 5\n",
        "list(zip(list1,list2 ,list3)) # list of tuples where each tup is len 3"
      ],
      "metadata": {
        "colab": {
          "base_uri": "https://localhost:8080/"
        },
        "id": "j-Rm_RFfajSq",
        "outputId": "0fad9a2d-a719-42bf-ed3e-d15a57224261"
      },
      "execution_count": 34,
      "outputs": [
        {
          "output_type": "execute_result",
          "data": {
            "text/plain": [
              "[('A', 1, '!'), ('B', 2, '@'), ('C', 3, '#')]"
            ]
          },
          "metadata": {},
          "execution_count": 34
        }
      ]
    },
    {
      "cell_type": "code",
      "source": [
        "list1 = [\"A\", \"B\", \"C\"] # length 3\n",
        "list2 = [1,2,3,4] # length 4\n",
        "list3 = [\"!\", \"@\", \"#\", \"$\", \"%\"] # length 5\n",
        "list4 = ['l']\n",
        "list(zip(list1,list2 ,list3, list4))"
      ],
      "metadata": {
        "colab": {
          "base_uri": "https://localhost:8080/"
        },
        "id": "WwsThpWpbOhH",
        "outputId": "330ed943-30f9-41a4-d809-52055bdbffae"
      },
      "execution_count": 35,
      "outputs": [
        {
          "output_type": "execute_result",
          "data": {
            "text/plain": [
              "[('A', 1, '!', 'l')]"
            ]
          },
          "metadata": {},
          "execution_count": 35
        }
      ]
    },
    {
      "cell_type": "markdown",
      "source": [
        "### Packing and unpacking"
      ],
      "metadata": {
        "id": "ZhyApoJXbi-o"
      }
    },
    {
      "cell_type": "code",
      "source": [
        "a = 1\n",
        "b = 2\n",
        "c = 3\n",
        "print(a, b,c)"
      ],
      "metadata": {
        "colab": {
          "base_uri": "https://localhost:8080/"
        },
        "id": "PACBRSQYbfgX",
        "outputId": "d89f9a79-c8ee-4fee-8b9c-54a620256eee"
      },
      "execution_count": 37,
      "outputs": [
        {
          "output_type": "stream",
          "name": "stdout",
          "text": [
            "1 2 3\n"
          ]
        }
      ]
    },
    {
      "cell_type": "code",
      "source": [
        "# unpacking (1,2,3) into a,b,c\n",
        "a,b,c = 1,2,3\n",
        "print(a,b,c)"
      ],
      "metadata": {
        "colab": {
          "base_uri": "https://localhost:8080/"
        },
        "id": "o55gN23UbpAd",
        "outputId": "717b45be-6c2d-474a-8e0d-75f75d51b9c1"
      },
      "execution_count": 39,
      "outputs": [
        {
          "output_type": "stream",
          "name": "stdout",
          "text": [
            "1 2 3\n"
          ]
        }
      ]
    },
    {
      "cell_type": "code",
      "source": [
        "a,b,c = [1,2,3]\n",
        "print(a,b,c)"
      ],
      "metadata": {
        "colab": {
          "base_uri": "https://localhost:8080/"
        },
        "id": "eS-ZNX7qbz8w",
        "outputId": "f53af5cd-8758-422d-cfd3-9d4ca177506e"
      },
      "execution_count": 40,
      "outputs": [
        {
          "output_type": "stream",
          "name": "stdout",
          "text": [
            "1 2 3\n"
          ]
        }
      ]
    },
    {
      "cell_type": "code",
      "source": [
        "a,b,c, d = [1,2,3]\n",
        "print(a,b,c,d)"
      ],
      "metadata": {
        "colab": {
          "base_uri": "https://localhost:8080/",
          "height": 186
        },
        "id": "rBdrWBWjb49n",
        "outputId": "9c5fbd79-49c9-4158-8546-f8b445477761"
      },
      "execution_count": 41,
      "outputs": [
        {
          "output_type": "error",
          "ename": "ValueError",
          "evalue": "ignored",
          "traceback": [
            "\u001b[0;31m---------------------------------------------------------------------------\u001b[0m",
            "\u001b[0;31mValueError\u001b[0m                                Traceback (most recent call last)",
            "\u001b[0;32m<ipython-input-41-78e387375a23>\u001b[0m in \u001b[0;36m<cell line: 1>\u001b[0;34m()\u001b[0m\n\u001b[0;32m----> 1\u001b[0;31m \u001b[0ma\u001b[0m\u001b[0;34m,\u001b[0m\u001b[0mb\u001b[0m\u001b[0;34m,\u001b[0m\u001b[0mc\u001b[0m\u001b[0;34m,\u001b[0m \u001b[0md\u001b[0m \u001b[0;34m=\u001b[0m \u001b[0;34m[\u001b[0m\u001b[0;36m1\u001b[0m\u001b[0;34m,\u001b[0m\u001b[0;36m2\u001b[0m\u001b[0;34m,\u001b[0m\u001b[0;36m3\u001b[0m\u001b[0;34m]\u001b[0m\u001b[0;34m\u001b[0m\u001b[0;34m\u001b[0m\u001b[0m\n\u001b[0m\u001b[1;32m      2\u001b[0m \u001b[0mprint\u001b[0m\u001b[0;34m(\u001b[0m\u001b[0ma\u001b[0m\u001b[0;34m,\u001b[0m\u001b[0mb\u001b[0m\u001b[0;34m,\u001b[0m\u001b[0mc\u001b[0m\u001b[0;34m,\u001b[0m\u001b[0md\u001b[0m\u001b[0;34m)\u001b[0m\u001b[0;34m\u001b[0m\u001b[0;34m\u001b[0m\u001b[0m\n",
            "\u001b[0;31mValueError\u001b[0m: not enough values to unpack (expected 4, got 3)"
          ]
        }
      ]
    },
    {
      "cell_type": "code",
      "source": [
        "a,b,c = [1,2,3, 4]\n",
        "print(a,b,c)"
      ],
      "metadata": {
        "colab": {
          "base_uri": "https://localhost:8080/",
          "height": 186
        },
        "id": "Ho14Y2Scb-Lh",
        "outputId": "44526b75-7c6b-4330-ab46-428c0e4fef4e"
      },
      "execution_count": 42,
      "outputs": [
        {
          "output_type": "error",
          "ename": "ValueError",
          "evalue": "ignored",
          "traceback": [
            "\u001b[0;31m---------------------------------------------------------------------------\u001b[0m",
            "\u001b[0;31mValueError\u001b[0m                                Traceback (most recent call last)",
            "\u001b[0;32m<ipython-input-42-9f8d4d9809d1>\u001b[0m in \u001b[0;36m<cell line: 1>\u001b[0;34m()\u001b[0m\n\u001b[0;32m----> 1\u001b[0;31m \u001b[0ma\u001b[0m\u001b[0;34m,\u001b[0m\u001b[0mb\u001b[0m\u001b[0;34m,\u001b[0m\u001b[0mc\u001b[0m \u001b[0;34m=\u001b[0m \u001b[0;34m[\u001b[0m\u001b[0;36m1\u001b[0m\u001b[0;34m,\u001b[0m\u001b[0;36m2\u001b[0m\u001b[0;34m,\u001b[0m\u001b[0;36m3\u001b[0m\u001b[0;34m,\u001b[0m \u001b[0;36m4\u001b[0m\u001b[0;34m]\u001b[0m\u001b[0;34m\u001b[0m\u001b[0;34m\u001b[0m\u001b[0m\n\u001b[0m\u001b[1;32m      2\u001b[0m \u001b[0mprint\u001b[0m\u001b[0;34m(\u001b[0m\u001b[0ma\u001b[0m\u001b[0;34m,\u001b[0m\u001b[0mb\u001b[0m\u001b[0;34m,\u001b[0m\u001b[0mc\u001b[0m\u001b[0;34m)\u001b[0m\u001b[0;34m\u001b[0m\u001b[0;34m\u001b[0m\u001b[0m\n",
            "\u001b[0;31mValueError\u001b[0m: too many values to unpack (expected 3)"
          ]
        }
      ]
    },
    {
      "cell_type": "code",
      "source": [
        "# packing a,b,c into args\n",
        "args = a,b,c"
      ],
      "metadata": {
        "id": "PRlfoGHtcEOU"
      },
      "execution_count": 44,
      "outputs": []
    },
    {
      "cell_type": "code",
      "source": [
        "args"
      ],
      "metadata": {
        "colab": {
          "base_uri": "https://localhost:8080/"
        },
        "id": "ZII_GivocNuL",
        "outputId": "a0887b82-1aa1-4b7d-f7a2-9375321325e5"
      },
      "execution_count": 45,
      "outputs": [
        {
          "output_type": "execute_result",
          "data": {
            "text/plain": [
              "(1, 2, 3)"
            ]
          },
          "metadata": {},
          "execution_count": 45
        }
      ]
    },
    {
      "cell_type": "code",
      "source": [
        "def add_func(a,b):\n",
        "    sum = (a+b)\n",
        "    return sum\n",
        "add_func(1,2)"
      ],
      "metadata": {
        "colab": {
          "base_uri": "https://localhost:8080/"
        },
        "id": "Zv3QfJoucSad",
        "outputId": "93f88d78-651d-412c-e766-00513e0722fc"
      },
      "execution_count": 46,
      "outputs": [
        {
          "output_type": "execute_result",
          "data": {
            "text/plain": [
              "3"
            ]
          },
          "metadata": {},
          "execution_count": 46
        }
      ]
    },
    {
      "cell_type": "code",
      "source": [
        "def add_func(a,b, *c):\n",
        "    sum = (a+b)\n",
        "    for i in c:\n",
        "        sum+=i\n",
        "    return sum\n",
        "add_func(1,2,3)"
      ],
      "metadata": {
        "colab": {
          "base_uri": "https://localhost:8080/"
        },
        "id": "_evJAjeTcl2Y",
        "outputId": "a6862f14-92d8-4d59-b455-483150caedcb"
      },
      "execution_count": 51,
      "outputs": [
        {
          "output_type": "execute_result",
          "data": {
            "text/plain": [
              "6"
            ]
          },
          "metadata": {},
          "execution_count": 51
        }
      ]
    },
    {
      "cell_type": "code",
      "source": [
        "def add_func(a,b, *args):\n",
        "    sum = (a+b)\n",
        "    for i in args:\n",
        "        sum+=i\n",
        "    return sum\n",
        "add_func(1,2,3)"
      ],
      "metadata": {
        "colab": {
          "base_uri": "https://localhost:8080/"
        },
        "id": "h3A_gJV7c0GP",
        "outputId": "c6020813-323c-4fe2-c01f-6f401b2eb86f"
      },
      "execution_count": 52,
      "outputs": [
        {
          "output_type": "execute_result",
          "data": {
            "text/plain": [
              "6"
            ]
          },
          "metadata": {},
          "execution_count": 52
        }
      ]
    },
    {
      "cell_type": "code",
      "source": [
        "def add_func(a,b, *args):\n",
        "    sum = (a+b)\n",
        "    for i in args:\n",
        "        sum+=i\n",
        "    return sum\n",
        "\n",
        "add_func(1)"
      ],
      "metadata": {
        "colab": {
          "base_uri": "https://localhost:8080/",
          "height": 204
        },
        "id": "ypcnbs3TdVR5",
        "outputId": "4f0aef58-5d13-428a-8172-182f01b0b7d7"
      },
      "execution_count": 53,
      "outputs": [
        {
          "output_type": "error",
          "ename": "TypeError",
          "evalue": "ignored",
          "traceback": [
            "\u001b[0;31m---------------------------------------------------------------------------\u001b[0m",
            "\u001b[0;31mTypeError\u001b[0m                                 Traceback (most recent call last)",
            "\u001b[0;32m<ipython-input-53-bf2f416790e3>\u001b[0m in \u001b[0;36m<cell line: 7>\u001b[0;34m()\u001b[0m\n\u001b[1;32m      5\u001b[0m     \u001b[0;32mreturn\u001b[0m \u001b[0msum\u001b[0m\u001b[0;34m\u001b[0m\u001b[0;34m\u001b[0m\u001b[0m\n\u001b[1;32m      6\u001b[0m \u001b[0;34m\u001b[0m\u001b[0m\n\u001b[0;32m----> 7\u001b[0;31m \u001b[0madd_func\u001b[0m\u001b[0;34m(\u001b[0m\u001b[0;36m1\u001b[0m\u001b[0;34m)\u001b[0m\u001b[0;34m\u001b[0m\u001b[0;34m\u001b[0m\u001b[0m\n\u001b[0m",
            "\u001b[0;31mTypeError\u001b[0m: add_func() missing 1 required positional argument: 'b'"
          ]
        }
      ]
    },
    {
      "cell_type": "code",
      "source": [
        "def add_func(a,b = 2, *args):\n",
        "    sum = a+b\n",
        "    for i in args:\n",
        "        sum+=i\n",
        "    return sum\n",
        "\n",
        "add_func(1,2)"
      ],
      "metadata": {
        "colab": {
          "base_uri": "https://localhost:8080/"
        },
        "id": "LTL0_SL3dnOM",
        "outputId": "15697764-c4eb-462c-e6fd-e644cc60f003"
      },
      "execution_count": 58,
      "outputs": [
        {
          "output_type": "stream",
          "name": "stdout",
          "text": [
            "()\n"
          ]
        },
        {
          "output_type": "execute_result",
          "data": {
            "text/plain": [
              "3"
            ]
          },
          "metadata": {},
          "execution_count": 58
        }
      ]
    },
    {
      "cell_type": "code",
      "source": [
        "def add_func(a,*args,b= 2):\n",
        "    sum = a+b\n",
        "    for i in args:\n",
        "        sum+=i\n",
        "    return sum\n",
        "\n",
        "add_func(1,2,3,4) "
      ],
      "metadata": {
        "colab": {
          "base_uri": "https://localhost:8080/"
        },
        "id": "Qv8bLduLdufm",
        "outputId": "f6ad310e-2499-4cda-e37d-090ba542f174"
      },
      "execution_count": 61,
      "outputs": [
        {
          "output_type": "execute_result",
          "data": {
            "text/plain": [
              "12"
            ]
          },
          "metadata": {},
          "execution_count": 61
        }
      ]
    },
    {
      "cell_type": "code",
      "source": [
        "def add_func(a,*args):\n",
        "    sum = a+b\n",
        "    for i in args:\n",
        "        sum+=i\n",
        "    return sum\n",
        "\n",
        "add_func(1,2,3,4)"
      ],
      "metadata": {
        "id": "oWMUBWpdeXxm"
      },
      "execution_count": null,
      "outputs": []
    },
    {
      "cell_type": "code",
      "source": [],
      "metadata": {
        "id": "Qbalmz47e9uW"
      },
      "execution_count": null,
      "outputs": []
    },
    {
      "cell_type": "markdown",
      "source": [
        "**kwargs:"
      ],
      "metadata": {
        "id": "gXNIJgZ9fAea"
      }
    },
    {
      "cell_type": "code",
      "source": [
        "def add_func(a,**kwargs):\n",
        "    \n",
        "    print(a)\n",
        "    print(kwargs)\n",
        "\n",
        "add_func(1, b= 2,c= 3,d= 4) "
      ],
      "metadata": {
        "colab": {
          "base_uri": "https://localhost:8080/"
        },
        "id": "s31kHVd_fBDl",
        "outputId": "71a44997-bf4e-4dce-ef61-149ef62b43b1"
      },
      "execution_count": 64,
      "outputs": [
        {
          "output_type": "stream",
          "name": "stdout",
          "text": [
            "1\n",
            "{'b': 2, 'c': 3, 'd': 4}\n"
          ]
        }
      ]
    },
    {
      "cell_type": "code",
      "source": [
        "def add_func(a,*args,**kwargs):\n",
        "    \n",
        "    print(a)\n",
        "    print(args)\n",
        "    print(kwargs)\n",
        "\n",
        "add_func(1,2,3,b= 2,c= 3,d= 4) "
      ],
      "metadata": {
        "colab": {
          "base_uri": "https://localhost:8080/"
        },
        "id": "lIWLpob6fRal",
        "outputId": "dec7ca8b-8915-4008-db16-e6d98288cd56"
      },
      "execution_count": 66,
      "outputs": [
        {
          "output_type": "stream",
          "name": "stdout",
          "text": [
            "1\n",
            "(2, 3)\n",
            "{'b': 2, 'c': 3, 'd': 4}\n"
          ]
        }
      ]
    },
    {
      "cell_type": "markdown",
      "source": [
        "- Implement ZIP FUNCTION FROM SCRATCH"
      ],
      "metadata": {
        "id": "MoETJjtNfy97"
      }
    },
    {
      "cell_type": "code",
      "source": [
        "def ourZIP(many_iterables):\n",
        "    # zips based on max length and keeps others as NONE\n",
        "    pass"
      ],
      "metadata": {
        "id": "PoTrJg75fnwr"
      },
      "execution_count": null,
      "outputs": []
    },
    {
      "cell_type": "code",
      "source": [
        "l1 = [1,2]\n",
        "l2 = ['a', 'b', 'c']\n",
        "l3 = ['!', '#']\n",
        "\n",
        "\n",
        "# output = [(1,a,\"!\"), (2, 'b',#), (None,'c',None) ]"
      ],
      "metadata": {
        "id": "uMLAAYaLgGBE"
      },
      "execution_count": null,
      "outputs": []
    },
    {
      "cell_type": "code",
      "source": [],
      "metadata": {
        "id": "ENdXLQ5MiTFW"
      },
      "execution_count": null,
      "outputs": []
    },
    {
      "cell_type": "markdown",
      "source": [
        "### Higher Order Functions: A function that returns another function is known as Higher Order Function"
      ],
      "metadata": {
        "id": "4TI4FmjmiWJB"
      }
    },
    {
      "cell_type": "code",
      "source": [
        "def outer(x):\n",
        "    def inner(y):\n",
        "        return x + y\n",
        "    return inner # returning inner function\n",
        "\n",
        "add_10 = outer(10)\n",
        "print(type(add_10))"
      ],
      "metadata": {
        "colab": {
          "base_uri": "https://localhost:8080/"
        },
        "id": "ud2FFQzYiYoY",
        "outputId": "1baac101-4e60-40cf-f407-a547ff3aec50"
      },
      "execution_count": 67,
      "outputs": [
        {
          "output_type": "stream",
          "name": "stdout",
          "text": [
            "<class 'function'>\n"
          ]
        }
      ]
    },
    {
      "cell_type": "code",
      "source": [
        "def function():\n",
        "    def func2():\n",
        "        return (\"hello\")\n",
        "    return func2() # calls func2 and returns output\n",
        "print(type(function()))"
      ],
      "metadata": {
        "colab": {
          "base_uri": "https://localhost:8080/"
        },
        "id": "hy0y5SIpitmc",
        "outputId": "cd5fe7c6-acbb-4dd4-daa3-e98ecb810e1b"
      },
      "execution_count": 73,
      "outputs": [
        {
          "output_type": "stream",
          "name": "stdout",
          "text": [
            "<class 'function'>\n"
          ]
        }
      ]
    },
    {
      "cell_type": "code",
      "source": [
        "function()"
      ],
      "metadata": {
        "colab": {
          "base_uri": "https://localhost:8080/",
          "height": 36
        },
        "id": "75E3bsavjqvq",
        "outputId": "d3881e95-7697-4651-d69e-45cd3dc4a5c9"
      },
      "execution_count": 72,
      "outputs": [
        {
          "output_type": "execute_result",
          "data": {
            "text/plain": [
              "'hello'"
            ],
            "application/vnd.google.colaboratory.intrinsic+json": {
              "type": "string"
            }
          },
          "metadata": {},
          "execution_count": 72
        }
      ]
    },
    {
      "cell_type": "code",
      "source": [
        "def print_msg(str1):\n",
        "    print(str1)\n",
        "\n",
        "a = print_msg"
      ],
      "metadata": {
        "id": "8qjgmlTij95W"
      },
      "execution_count": 74,
      "outputs": []
    },
    {
      "cell_type": "code",
      "source": [
        "a(\"hello\")"
      ],
      "metadata": {
        "colab": {
          "base_uri": "https://localhost:8080/"
        },
        "id": "TpJ-FdKXlp0Y",
        "outputId": "1d6698df-dfd8-43c0-d237-46404e6c55c6"
      },
      "execution_count": 75,
      "outputs": [
        {
          "output_type": "stream",
          "name": "stdout",
          "text": [
            "hello\n"
          ]
        }
      ]
    },
    {
      "cell_type": "code",
      "source": [
        "print_msg(\"Hello\")"
      ],
      "metadata": {
        "colab": {
          "base_uri": "https://localhost:8080/"
        },
        "id": "1Nl8Qh9elskE",
        "outputId": "c5f067ae-3d2d-4c6e-b91a-d09611b5dcb8"
      },
      "execution_count": 76,
      "outputs": [
        {
          "output_type": "stream",
          "name": "stdout",
          "text": [
            "Hello\n"
          ]
        }
      ]
    },
    {
      "cell_type": "code",
      "source": [
        "def exp(x,n):\n",
        "    return x**n\n"
      ],
      "metadata": {
        "id": "RNZ6hdCmlucM"
      },
      "execution_count": null,
      "outputs": []
    },
    {
      "cell_type": "markdown",
      "source": [
        "Decorators:\n",
        "- HOF which takes a function as argument and adds extra functionality to the existing function"
      ],
      "metadata": {
        "id": "W99K-5NamrTP"
      }
    },
    {
      "cell_type": "code",
      "source": [
        "def foo():\n",
        "    print(\"hello Learners of April Batch\")\n",
        "\n",
        "def bar():\n",
        "    print(\"hello Learners of Dec Batch\")\n",
        "\n",
        "foo()"
      ],
      "metadata": {
        "colab": {
          "base_uri": "https://localhost:8080/"
        },
        "id": "zn2m7vrpm0UE",
        "outputId": "16184f43-0907-479b-9f03-71811d0fcccb"
      },
      "execution_count": 77,
      "outputs": [
        {
          "output_type": "stream",
          "name": "stdout",
          "text": [
            "hello Learners of April Batch\n"
          ]
        }
      ]
    },
    {
      "cell_type": "code",
      "source": [
        "foo()\n",
        "bar()"
      ],
      "metadata": {
        "colab": {
          "base_uri": "https://localhost:8080/"
        },
        "id": "ar7wU766nHHT",
        "outputId": "e8f4fe5b-f753-40f1-a951-af2546a79d0c"
      },
      "execution_count": 79,
      "outputs": [
        {
          "output_type": "stream",
          "name": "stdout",
          "text": [
            "hello Learners of April Batch\n",
            "hello Learners of Dec Batch\n"
          ]
        }
      ]
    },
    {
      "cell_type": "markdown",
      "source": [],
      "metadata": {
        "id": "HxlPDI7knEez"
      }
    },
    {
      "cell_type": "code",
      "source": [
        "def foo():\n",
        "    print(\"-\"*50)\n",
        "    print(\"hello Learners of April Batch\")\n",
        "    print(\"-\"*50)\n",
        "foo()"
      ],
      "metadata": {
        "colab": {
          "base_uri": "https://localhost:8080/"
        },
        "id": "YpDfgZ5EnT1W",
        "outputId": "5805f972-6b60-4576-d218-36ad9817278b"
      },
      "execution_count": 81,
      "outputs": [
        {
          "output_type": "stream",
          "name": "stdout",
          "text": [
            "--------------------------------------------------\n",
            "hello Learners of April Batch\n",
            "--------------------------------------------------\n"
          ]
        }
      ]
    },
    {
      "cell_type": "code",
      "source": [
        "\n",
        "def bar():\n",
        "    print(\"-\"*50)\n",
        "    print(\"hello Learners of Dec Batch\")\n",
        "    print(\"-\"*50)\n",
        "\n",
        "\n",
        "bar()"
      ],
      "metadata": {
        "colab": {
          "base_uri": "https://localhost:8080/"
        },
        "id": "OzaNqN-VnYF-",
        "outputId": "6396c0ef-7fc4-415f-e942-ac050769e491"
      },
      "execution_count": 82,
      "outputs": [
        {
          "output_type": "stream",
          "name": "stdout",
          "text": [
            "--------------------------------------------------\n",
            "hello Learners of Dec Batch\n",
            "--------------------------------------------------\n"
          ]
        }
      ]
    },
    {
      "cell_type": "markdown",
      "source": [
        "### Decorators:"
      ],
      "metadata": {
        "id": "vIN4cUvxn1sr"
      }
    },
    {
      "cell_type": "code",
      "source": [
        "# a decorator function which decorates input functions\n",
        "def pretty(func):\n",
        "    def inner():\n",
        "        print(\"-\"*50)\n",
        "        func()\n",
        "        print(\"-\"*50)\n",
        "    return inner\n",
        "\n",
        "@pretty # ---> foo = pretty(foo)\n",
        "def foo():\n",
        "    print(\"hello Learners of April Batch\")\n",
        "\n",
        "\n",
        "@pretty\n",
        "def bar():\n",
        "    print(\"hello Learners of Dec Batch\")\n",
        "\n",
        "bar()"
      ],
      "metadata": {
        "colab": {
          "base_uri": "https://localhost:8080/"
        },
        "id": "rODvQbkQnsAM",
        "outputId": "cb16ffdd-223c-4011-9b78-05dceb13264f"
      },
      "execution_count": 90,
      "outputs": [
        {
          "output_type": "stream",
          "name": "stdout",
          "text": [
            "--------------------------------------------------\n",
            "hello Learners of Dec Batch\n",
            "--------------------------------------------------\n"
          ]
        }
      ]
    },
    {
      "cell_type": "code",
      "source": [
        "new_foo = pretty(foo)\n",
        "new_foo()"
      ],
      "metadata": {
        "colab": {
          "base_uri": "https://localhost:8080/"
        },
        "id": "RXLpz8UDoQW7",
        "outputId": "d6df2163-b525-4021-fb09-2aac4b34da71"
      },
      "execution_count": 84,
      "outputs": [
        {
          "output_type": "stream",
          "name": "stdout",
          "text": [
            "--------------------------------------------------\n",
            "hello Learners of April Batch\n",
            "--------------------------------------------------\n"
          ]
        }
      ]
    },
    {
      "cell_type": "code",
      "source": [
        "new_bar = pretty(bar)\n",
        "new_bar()"
      ],
      "metadata": {
        "colab": {
          "base_uri": "https://localhost:8080/"
        },
        "id": "1ehLIi0ooaB7",
        "outputId": "8c198ef9-c70d-4eb7-ad92-75534c2b9efa"
      },
      "execution_count": 85,
      "outputs": [
        {
          "output_type": "stream",
          "name": "stdout",
          "text": [
            "--------------------------------------------------\n",
            "hello Learners of Dec Batch\n",
            "--------------------------------------------------\n"
          ]
        }
      ]
    },
    {
      "cell_type": "code",
      "source": [
        "@pretty # @ annotation to decorate this function\n",
        "def hello():\n",
        "    print(\"hello Learners of June Batch\")\n",
        "\n",
        "hello()"
      ],
      "metadata": {
        "colab": {
          "base_uri": "https://localhost:8080/"
        },
        "id": "p4QBYyE7ofIB",
        "outputId": "21d4cbb8-a7f3-482f-9a08-7cee058b8829"
      },
      "execution_count": 87,
      "outputs": [
        {
          "output_type": "stream",
          "name": "stdout",
          "text": [
            "--------------------------------------------------\n",
            "hello Learners of June Batch\n",
            "--------------------------------------------------\n"
          ]
        }
      ]
    },
    {
      "cell_type": "code",
      "source": [
        "@pretty # ---> foo = pretty(foo)\n",
        "@pretty # ---> foo = pretty(foo)\n",
        "def foo():\n",
        "    print(\"hello Learners of April Batch\")"
      ],
      "metadata": {
        "id": "ZH07dxeRo4CR"
      },
      "execution_count": 91,
      "outputs": []
    },
    {
      "cell_type": "code",
      "source": [
        "foo()"
      ],
      "metadata": {
        "colab": {
          "base_uri": "https://localhost:8080/"
        },
        "id": "2FkANkzHpoqs",
        "outputId": "5d57a8f1-f8d2-4c4b-ed50-264bfae2bd09"
      },
      "execution_count": 92,
      "outputs": [
        {
          "output_type": "stream",
          "name": "stdout",
          "text": [
            "--------------------------------------------------\n",
            "--------------------------------------------------\n",
            "hello Learners of April Batch\n",
            "--------------------------------------------------\n",
            "--------------------------------------------------\n"
          ]
        }
      ]
    },
    {
      "cell_type": "markdown",
      "source": [
        "### create a decorator which calculates time taken by each of the following approach:"
      ],
      "metadata": {
        "id": "-L8xs4VSpxV1"
      }
    },
    {
      "cell_type": "code",
      "source": [
        "def comprehension():\n",
        "    return [i**2 for i in range(1,1000)]\n",
        "\n",
        "def mapper():\n",
        "    return list(map(lambda x :x**2, range(1,1000)))\n",
        "\n",
        "def traditonal():\n",
        "    list1 = []\n",
        "    for i in range(1,1000):\n",
        "        list1.append(i**2)\n",
        "    return list1\n",
        "\n",
        "import numpy as np\n",
        "def vectorized():\n",
        "    return np.array(range(1,1000))**2"
      ],
      "metadata": {
        "id": "U-p_ZcRbpqSk"
      },
      "execution_count": 98,
      "outputs": []
    },
    {
      "cell_type": "code",
      "source": [
        "import time\n",
        "\n",
        "start = time.time()\n",
        "# custom logic comprehension()\n",
        "end = time.time()\n",
        "print(end-start)"
      ],
      "metadata": {
        "colab": {
          "base_uri": "https://localhost:8080/"
        },
        "id": "wAqKh155qjLm",
        "outputId": "780eecc0-2973-4012-ccc9-0c1491ab1e0c"
      },
      "execution_count": 97,
      "outputs": [
        {
          "output_type": "stream",
          "name": "stdout",
          "text": [
            "4.8160552978515625e-05\n"
          ]
        }
      ]
    },
    {
      "cell_type": "markdown",
      "source": [
        "- Pass last number i.e. 1000 as Arg"
      ],
      "metadata": {
        "id": "WjBuNHMPq4GA"
      }
    },
    {
      "cell_type": "code",
      "source": [
        "def comprehension(num):\n",
        "    return [i**2 for i in range(1,num)]\n",
        "\n",
        "def mapper(num):\n",
        "    return list(map(lambda x :x**2, range(1,num)))\n",
        "\n",
        "def traditonal(num):\n",
        "    list1 = []\n",
        "    for i in range(1,num):\n",
        "        list1.append(i**2)\n",
        "    return list1\n",
        "\n",
        "import numpy as np\n",
        "def vectorized(num):\n",
        "    return np.array(range(1,num))**2"
      ],
      "metadata": {
        "id": "5eMztYUlqrHB"
      },
      "execution_count": null,
      "outputs": []
    }
  ]
}