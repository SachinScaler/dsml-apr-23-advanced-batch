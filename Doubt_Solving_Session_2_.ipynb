{
  "nbformat": 4,
  "nbformat_minor": 0,
  "metadata": {
    "colab": {
      "provenance": [],
      "authorship_tag": "ABX9TyNNe7q7tGIakRjsYCIOAznj",
      "include_colab_link": true
    },
    "kernelspec": {
      "name": "python3",
      "display_name": "Python 3"
    },
    "language_info": {
      "name": "python"
    }
  },
  "cells": [
    {
      "cell_type": "markdown",
      "metadata": {
        "id": "view-in-github",
        "colab_type": "text"
      },
      "source": [
        "<a href=\"https://colab.research.google.com/github/SachinScaler/dsml-apr-23-advanced-batch/blob/main/Doubt_Solving_Session_2_.ipynb\" target=\"_parent\"><img src=\"https://colab.research.google.com/assets/colab-badge.svg\" alt=\"Open In Colab\"/></a>"
      ]
    },
    {
      "cell_type": "code",
      "execution_count": 4,
      "metadata": {
        "colab": {
          "base_uri": "https://localhost:8080/"
        },
        "id": "NAklk0g9e-_R",
        "outputId": "b3de2a08-82d7-4b56-b894-23da46f3db68"
      },
      "outputs": [
        {
          "output_type": "stream",
          "name": "stdout",
          "text": [
            "I was supposed to create object by allocating memory\n",
            "inside Initializer\n"
          ]
        }
      ],
      "source": [
        "class SomeClass:\n",
        "    def __init__(self):\n",
        "        print(\"inside Initializer\")\n",
        "\n",
        "    def __new__(self):\n",
        "        print(\"I was supposed to create object by allocating memory\")\n",
        "        # return object.__new__(SomeClass)\n",
        "\n",
        "s1 = SomeClass()"
      ]
    },
    {
      "cell_type": "code",
      "source": [
        "# Decorator to check execution speed various methods of createing squared list\n",
        "def comprehension(num): #1\n",
        "    return [i**2 for i in range(num)]\n",
        "\n",
        "# comprehension(1000)"
      ],
      "metadata": {
        "id": "Nyu26lw-jGC0"
      },
      "execution_count": 7,
      "outputs": []
    },
    {
      "cell_type": "code",
      "source": [
        "def mapper(num): #2\n",
        "    return list(map(lambda x:x**2, range(num)))\n",
        "# mapper(1000)  "
      ],
      "metadata": {
        "id": "QHoBS0N5lX4-"
      },
      "execution_count": 9,
      "outputs": []
    },
    {
      "cell_type": "code",
      "source": [
        "def tradional(num): #3\n",
        "    out = []\n",
        "    for  i in range(num):\n",
        "        out.append(i**2)\n",
        "    return out\n",
        "# tradional(1000)  "
      ],
      "metadata": {
        "id": "TfJ3pLPWlw43"
      },
      "execution_count": 12,
      "outputs": []
    },
    {
      "cell_type": "code",
      "source": [
        "import numpy as np\n",
        "\n",
        "def numpy_sq(num): # method 4\n",
        "    return np.arange(1000)**2\n",
        "\n",
        "# numpy_sq(1000)  "
      ],
      "metadata": {
        "id": "0hGRFlqwmBln"
      },
      "execution_count": 16,
      "outputs": []
    },
    {
      "cell_type": "code",
      "source": [
        "# fastest at last"
      ],
      "metadata": {
        "id": "G7ePKJZtmRKX"
      },
      "execution_count": 17,
      "outputs": []
    },
    {
      "cell_type": "code",
      "source": [
        "import time\n",
        "\n",
        "def speed_test(func):\n",
        "    def wrapper(num): # if function expects argument pass it inside wrapper\n",
        "        s = time.time()\n",
        "        func(num)\n",
        "        e = time.time()\n",
        "        print(\"Time Taken: \", e-s)\n",
        "\n",
        "    return wrapper\n",
        "\n"
      ],
      "metadata": {
        "id": "dYD-WjhMmVOl"
      },
      "execution_count": 18,
      "outputs": []
    },
    {
      "cell_type": "code",
      "source": [
        "@speed_test\n",
        "def comprehension(num): #1\n",
        "    return [i**2 for i in range(num)]\n",
        "\n",
        "@speed_test\n",
        "def mapper(num): #2\n",
        "    return list(map(lambda x:x**2, range(num)))\n",
        "\n",
        "@speed_test\n",
        "def tradional(num): #3\n",
        "    out = []\n",
        "    for  i in range(num):\n",
        "        out.append(i**2)\n",
        "    return out\n",
        "\n",
        "@speed_test\n",
        "def numpy_sq(num): # method 4\n",
        "    return list(np.arange(1000)**2)"
      ],
      "metadata": {
        "id": "CqKN4jO2nldx"
      },
      "execution_count": 24,
      "outputs": []
    },
    {
      "cell_type": "code",
      "source": [
        "num = 1000000\n",
        "\n",
        "comprehension(num)\n",
        "\n",
        "mapper(num)\n",
        "\n",
        "tradional(num)\n",
        "\n",
        "numpy_sq(num)"
      ],
      "metadata": {
        "colab": {
          "base_uri": "https://localhost:8080/"
        },
        "id": "zJuTFkM2nvPE",
        "outputId": "964c8f47-5422-4e23-b28b-db3ecf322096"
      },
      "execution_count": 26,
      "outputs": [
        {
          "output_type": "stream",
          "name": "stdout",
          "text": [
            "Time Taken:  0.32688403129577637\n",
            "Time Taken:  0.340411901473999\n",
            "Time Taken:  0.4313809871673584\n",
            "Time Taken:  0.00011157989501953125\n"
          ]
        }
      ]
    },
    {
      "cell_type": "code",
      "source": [
        "str1 = \"The world has changed and none of us can go back all we can do is our best and sometimes the best that we can do is to start over\"\n",
        "length = 5"
      ],
      "metadata": {
        "id": "X3gWdD1inyyg"
      },
      "execution_count": 28,
      "outputs": []
    },
    {
      "cell_type": "code",
      "source": [
        "# filter \n",
        "list(filter(lambda x:len(x)==length, str1.split(\" \")))"
      ],
      "metadata": {
        "colab": {
          "base_uri": "https://localhost:8080/"
        },
        "id": "dxVeN2VjqSFF",
        "outputId": "1893de24-7707-4166-9251-6ace3370b540"
      },
      "execution_count": 31,
      "outputs": [
        {
          "output_type": "execute_result",
          "data": {
            "text/plain": [
              "['world', 'start']"
            ]
          },
          "metadata": {},
          "execution_count": 31
        }
      ]
    },
    {
      "cell_type": "code",
      "source": [
        "list1 = [[1,2,3],[4,5,6],[7,8,9]]\n",
        "list2 = [[9,8,7],[6,5,4],[3,2,1]]\n",
        "ls11,ls12,ls13=list1\n",
        "ls21,ls22,ls23=list2\n",
        "print(list(zip(ls11,ls12,ls13,ls21,ls22,ls23)))"
      ],
      "metadata": {
        "colab": {
          "base_uri": "https://localhost:8080/"
        },
        "id": "xpK8R1IJqh2j",
        "outputId": "87333492-8261-445a-9f99-e718de8f0283"
      },
      "execution_count": 34,
      "outputs": [
        {
          "output_type": "stream",
          "name": "stdout",
          "text": [
            "[(1, 4, 7, 9, 6, 3), (2, 5, 8, 8, 5, 2), (3, 6, 9, 7, 4, 1)]\n"
          ]
        }
      ]
    },
    {
      "cell_type": "code",
      "source": [
        "# 3 rows * 6 columns"
      ],
      "metadata": {
        "id": "gVwyR88eq6XM"
      },
      "execution_count": 35,
      "outputs": []
    },
    {
      "cell_type": "code",
      "source": [
        "ids=[\"Sam@gmail.com\", \"Ram@gmail.com\", \"Sam@gmail.com\", \"samJohnson@iit.com\", \"SAM@harvard.com\"]\n",
        "name=\"sam\"\n",
        "result = list(filter(lambda x : (name.lower() in x or name.upper() in x) , ids))\n",
        "print(result)"
      ],
      "metadata": {
        "colab": {
          "base_uri": "https://localhost:8080/"
        },
        "id": "ZVKpeKZTq8jP",
        "outputId": "5df54a4a-e5ce-4246-b7bc-531caa315211"
      },
      "execution_count": 41,
      "outputs": [
        {
          "output_type": "stream",
          "name": "stdout",
          "text": [
            "['samJohnson@iit.com', 'SAM@harvard.com']\n"
          ]
        }
      ]
    },
    {
      "cell_type": "code",
      "source": [
        "# sam or SAM"
      ],
      "metadata": {
        "id": "gveb46aVryUc"
      },
      "execution_count": null,
      "outputs": []
    },
    {
      "cell_type": "code",
      "source": [
        "name = \"sachin\"\n",
        "(name.upper() or name.lower())  in \"sachin\""
      ],
      "metadata": {
        "colab": {
          "base_uri": "https://localhost:8080/"
        },
        "id": "-pBcOSjJrwTj",
        "outputId": "46324241-a8fe-4185-add5-f333d546eeb1"
      },
      "execution_count": 40,
      "outputs": [
        {
          "output_type": "execute_result",
          "data": {
            "text/plain": [
              "False"
            ]
          },
          "metadata": {},
          "execution_count": 40
        }
      ]
    },
    {
      "cell_type": "code",
      "source": [
        "(name.lower() in x or name.upper() in x)"
      ],
      "metadata": {
        "id": "GMoRU9l5slXe"
      },
      "execution_count": null,
      "outputs": []
    },
    {
      "cell_type": "code",
      "source": [
        "array = [ [1, [ [ 2 ] ], [ [ [ 3 ] ] ], [ [ 4 ], 5 ] ]]\n",
        "result = lambda x: sum(map(result, x), [ ] ) if isinstance(x, list) else [x]\n",
        "print(result(array))"
      ],
      "metadata": {
        "colab": {
          "base_uri": "https://localhost:8080/"
        },
        "id": "O0OHl3S7tyhw",
        "outputId": "25a43594-5c0f-481a-979e-ed3ac94c22e5"
      },
      "execution_count": 42,
      "outputs": [
        {
          "output_type": "stream",
          "name": "stdout",
          "text": [
            "[1, 2, 3, 4, 5]\n"
          ]
        }
      ]
    },
    {
      "cell_type": "code",
      "source": [
        "def result_fun(x):\n",
        "    if isinstance(x, list):\n",
        "        return sum(map(result_fun, x), []) # [4] + [2]--> [4,2] + [1]\n",
        "    else:\n",
        "        print(x)\n",
        "        return [x] #  [1]\n",
        "\n",
        "print(result_fun(array))"
      ],
      "metadata": {
        "colab": {
          "base_uri": "https://localhost:8080/"
        },
        "id": "U3YjvZZCt1jt",
        "outputId": "be130fb6-9784-42ac-ae8a-6cfb0f680156"
      },
      "execution_count": 48,
      "outputs": [
        {
          "output_type": "stream",
          "name": "stdout",
          "text": [
            "1\n",
            "2\n",
            "3\n",
            "4\n",
            "5\n",
            "[1, 2, 3, 4, 5]\n"
          ]
        }
      ]
    },
    {
      "cell_type": "code",
      "source": [
        "def result_fun(x):\n",
        "    if isinstance(x, list):\n",
        "        return sum(map(result_fun, x), []) # [] +[1] ,[1] + [2]--> [1,2] + [3] --> [ 1,2,3] + [4]--> [1,2,3,4]+[5]\n",
        "    else:\n",
        "        print(x)\n",
        "        return [x] #  [1]\n",
        "\n",
        "print(result_fun(array))"
      ],
      "metadata": {
        "colab": {
          "base_uri": "https://localhost:8080/"
        },
        "id": "kLtC8zjaujfA",
        "outputId": "26f3235b-d8a2-4dec-d60d-0451437fd0fe"
      },
      "execution_count": 51,
      "outputs": [
        {
          "output_type": "stream",
          "name": "stdout",
          "text": [
            "1\n",
            "2\n",
            "3\n",
            "4\n",
            "5\n",
            "[1, 2, 3, 4, 5]\n"
          ]
        }
      ]
    },
    {
      "cell_type": "code",
      "source": [
        "class A:\n",
        "    def __init__(self):\n",
        "        print(\"parent Initializer\")\n",
        "\n",
        "\n",
        "class B(A):\n",
        "    def __init__(self):\n",
        "        print(\"Child's Initializer\")\n",
        "        A.__init__(self) # super().__init__()\n",
        "\n",
        "b = B()"
      ],
      "metadata": {
        "colab": {
          "base_uri": "https://localhost:8080/"
        },
        "id": "EwJnxcH7vyO0",
        "outputId": "80db3198-3b3e-42b9-cb99-82c649f8de5d"
      },
      "execution_count": 57,
      "outputs": [
        {
          "output_type": "stream",
          "name": "stdout",
          "text": [
            "Child's Initializer\n",
            "parent Initializer\n"
          ]
        }
      ]
    },
    {
      "cell_type": "markdown",
      "source": [
        "Write a program to store the first N Fibonacci numbers in a list using Recursion.\n",
        "\n",
        "Also, create a second list which is a copy of the first one, to store the same elements but with the following conditions:\n",
        "\n",
        "a. if the number is a prime number, replace it with its factorial\n",
        "\n",
        "- fibonacci\n",
        "- prime- numer\n",
        "- factorail\n",
        "\n",
        "b. else keep the number as it is"
      ],
      "metadata": {
        "id": "lkcnKtZ0zVVM"
      }
    },
    {
      "cell_type": "code",
      "source": [
        "def getFIB(n):\n",
        "    if n<=1:\n",
        "        return n \n",
        "    else:\n",
        "        return getFIB(n-1)+getFIB(n-2)\n",
        "\n",
        "getFIB(8) # 8th term"
      ],
      "metadata": {
        "colab": {
          "base_uri": "https://localhost:8080/"
        },
        "id": "gOTM9j4-ypCF",
        "outputId": "de9307fd-85f2-4a77-88c7-12ee0aea34f6"
      },
      "execution_count": 58,
      "outputs": [
        {
          "output_type": "execute_result",
          "data": {
            "text/plain": [
              "21"
            ]
          },
          "metadata": {},
          "execution_count": 58
        }
      ]
    },
    {
      "cell_type": "code",
      "source": [
        "lambda_fib = lambda x: x if x<=1 else lambda_fib(x-1) + lambda_fib(x-2)\n",
        "lambda_fib(8)"
      ],
      "metadata": {
        "colab": {
          "base_uri": "https://localhost:8080/"
        },
        "id": "sK6szALE2A6V",
        "outputId": "cc52c323-ed7e-4cda-a2f6-9709ab713e31"
      },
      "execution_count": 65,
      "outputs": [
        {
          "output_type": "execute_result",
          "data": {
            "text/plain": [
              "21"
            ]
          },
          "metadata": {},
          "execution_count": 65
        }
      ]
    },
    {
      "cell_type": "code",
      "source": [
        "# first n fibo number\n",
        "\n",
        "n = 9\n",
        "output = list(map( lambda_fib, range(0,n)))\n",
        "output"
      ],
      "metadata": {
        "colab": {
          "base_uri": "https://localhost:8080/"
        },
        "id": "DdzrZIIOzy79",
        "outputId": "6caf8001-4531-4140-8219-abe2abbc4a5c"
      },
      "execution_count": 66,
      "outputs": [
        {
          "output_type": "execute_result",
          "data": {
            "text/plain": [
              "[0, 1, 1, 2, 3, 5, 8, 13, 21]"
            ]
          },
          "metadata": {},
          "execution_count": 66
        }
      ]
    },
    {
      "cell_type": "code",
      "source": [
        "# convert this into functional programming\n",
        "def factorial(x):\n",
        "    if x<=1:\n",
        "        return 1\n",
        "    else:\n",
        "        return x*factorial(x-1)\n",
        "factorial(5)\n"
      ],
      "metadata": {
        "colab": {
          "base_uri": "https://localhost:8080/"
        },
        "id": "Cr01qegF1rqL",
        "outputId": "ed5c868f-3aa4-4eba-9c5d-a36ca5bb367f"
      },
      "execution_count": 67,
      "outputs": [
        {
          "output_type": "execute_result",
          "data": {
            "text/plain": [
              "120"
            ]
          },
          "metadata": {},
          "execution_count": 67
        }
      ]
    },
    {
      "cell_type": "code",
      "source": [
        "# convert this into functional programming and optimize and recursive format\n",
        "def prime_number(num):\n",
        "    if num<=1:\n",
        "        return False\n",
        "    else:\n",
        "        for i in range(2,num):\n",
        "            if num%i==0:\n",
        "                return False\n",
        "    return True\n",
        "prime_number(4)"
      ],
      "metadata": {
        "colab": {
          "base_uri": "https://localhost:8080/"
        },
        "id": "jrQy8PDT2ptU",
        "outputId": "44aae2d5-6141-4ce8-df6d-6f106a31380d"
      },
      "execution_count": 70,
      "outputs": [
        {
          "output_type": "execute_result",
          "data": {
            "text/plain": [
              "False"
            ]
          },
          "metadata": {},
          "execution_count": 70
        }
      ]
    },
    {
      "cell_type": "code",
      "source": [
        "output = list(map( lambda_fib, range(0,n)))\n",
        "\n",
        "list(map(lambda x: factorial(x) if prime_number(x) else x ,output))"
      ],
      "metadata": {
        "colab": {
          "base_uri": "https://localhost:8080/"
        },
        "id": "hkFhjnMH3num",
        "outputId": "f1238676-e092-4f5c-9f91-9f95ee35e185"
      },
      "execution_count": 74,
      "outputs": [
        {
          "output_type": "execute_result",
          "data": {
            "text/plain": [
              "[0, 1, 1, 2, 6, 120, 8, 6227020800, 21]"
            ]
          },
          "metadata": {},
          "execution_count": 74
        }
      ]
    },
    {
      "cell_type": "code",
      "source": [
        "def getFIB(n):\n",
        "    if n<=1:\n",
        "        return n \n",
        "    else:\n",
        "        return getFIB(n-1)+getFIB(n-2)\n",
        "\n",
        "getFIB(8) # 8th term  # 2^n\n",
        "\n",
        "\n",
        "list(map( lambda_fib, range(0,n-1))) # n*2^n "
      ],
      "metadata": {
        "colab": {
          "base_uri": "https://localhost:8080/"
        },
        "id": "0skhlm9N3v9-",
        "outputId": "dbffab2b-22ba-4c8c-cc7f-b30d3c3d8394"
      },
      "execution_count": 78,
      "outputs": [
        {
          "output_type": "execute_result",
          "data": {
            "text/plain": [
              "[0, 1, 1, 2, 3, 5, 8, 13]"
            ]
          },
          "metadata": {},
          "execution_count": 78
        }
      ]
    },
    {
      "cell_type": "code",
      "source": [
        "# Functonal Programming\n",
        "@speed_test\n",
        "def getFIBDP(n , out = [0,1]):\n",
        "    for i in range(n-2):\n",
        "        out.append(out[-1]+out[-2])\n",
        "    return out\n",
        "\n",
        "# dynamic programming: Tabulation\n",
        "getFIBDP(10000) # n vs n*2^n"
      ],
      "metadata": {
        "colab": {
          "base_uri": "https://localhost:8080/"
        },
        "id": "A3Gu7cOr5HgB",
        "outputId": "1f1fb235-b21b-4b81-baf2-4f2a68ba081a"
      },
      "execution_count": 81,
      "outputs": [
        {
          "output_type": "stream",
          "name": "stdout",
          "text": [
            "Time Taken:  0.0049893856048583984\n"
          ]
        }
      ]
    },
    {
      "cell_type": "code",
      "source": [
        "@speed_test\n",
        "def getFIB(n):\n",
        "    if n<=1:\n",
        "        return n \n",
        "    else:\n",
        "        return getFIB(n-1)+getFIB(n-2)\n",
        "getFIB(1000)"
      ],
      "metadata": {
        "colab": {
          "base_uri": "https://localhost:8080/",
          "height": 382
        },
        "id": "VLkcHPEb525V",
        "outputId": "669b48a7-83fe-4fde-bad4-e663d66a2066"
      },
      "execution_count": 85,
      "outputs": [
        {
          "output_type": "error",
          "ename": "RecursionError",
          "evalue": "ignored",
          "traceback": [
            "\u001b[0;31m---------------------------------------------------------------------------\u001b[0m",
            "\u001b[0;31mRecursionError\u001b[0m                            Traceback (most recent call last)",
            "\u001b[0;32m<ipython-input-85-ed092b4f05db>\u001b[0m in \u001b[0;36m<cell line: 7>\u001b[0;34m()\u001b[0m\n\u001b[1;32m      5\u001b[0m     \u001b[0;32melse\u001b[0m\u001b[0;34m:\u001b[0m\u001b[0;34m\u001b[0m\u001b[0;34m\u001b[0m\u001b[0m\n\u001b[1;32m      6\u001b[0m         \u001b[0;32mreturn\u001b[0m \u001b[0mgetFIB\u001b[0m\u001b[0;34m(\u001b[0m\u001b[0mn\u001b[0m\u001b[0;34m-\u001b[0m\u001b[0;36m1\u001b[0m\u001b[0;34m)\u001b[0m\u001b[0;34m+\u001b[0m\u001b[0mgetFIB\u001b[0m\u001b[0;34m(\u001b[0m\u001b[0mn\u001b[0m\u001b[0;34m-\u001b[0m\u001b[0;36m2\u001b[0m\u001b[0;34m)\u001b[0m\u001b[0;34m\u001b[0m\u001b[0;34m\u001b[0m\u001b[0m\n\u001b[0;32m----> 7\u001b[0;31m \u001b[0mgetFIB\u001b[0m\u001b[0;34m(\u001b[0m\u001b[0;36m1000\u001b[0m\u001b[0;34m)\u001b[0m\u001b[0;34m\u001b[0m\u001b[0;34m\u001b[0m\u001b[0m\n\u001b[0m",
            "\u001b[0;32m<ipython-input-18-c67a86ec458a>\u001b[0m in \u001b[0;36mwrapper\u001b[0;34m(num)\u001b[0m\n\u001b[1;32m      4\u001b[0m     \u001b[0;32mdef\u001b[0m \u001b[0mwrapper\u001b[0m\u001b[0;34m(\u001b[0m\u001b[0mnum\u001b[0m\u001b[0;34m)\u001b[0m\u001b[0;34m:\u001b[0m \u001b[0;31m# if function expects argument pass it inside wrapper\u001b[0m\u001b[0;34m\u001b[0m\u001b[0;34m\u001b[0m\u001b[0m\n\u001b[1;32m      5\u001b[0m         \u001b[0ms\u001b[0m \u001b[0;34m=\u001b[0m \u001b[0mtime\u001b[0m\u001b[0;34m.\u001b[0m\u001b[0mtime\u001b[0m\u001b[0;34m(\u001b[0m\u001b[0;34m)\u001b[0m\u001b[0;34m\u001b[0m\u001b[0;34m\u001b[0m\u001b[0m\n\u001b[0;32m----> 6\u001b[0;31m         \u001b[0mfunc\u001b[0m\u001b[0;34m(\u001b[0m\u001b[0mnum\u001b[0m\u001b[0;34m)\u001b[0m\u001b[0;34m\u001b[0m\u001b[0;34m\u001b[0m\u001b[0m\n\u001b[0m\u001b[1;32m      7\u001b[0m         \u001b[0me\u001b[0m \u001b[0;34m=\u001b[0m \u001b[0mtime\u001b[0m\u001b[0;34m.\u001b[0m\u001b[0mtime\u001b[0m\u001b[0;34m(\u001b[0m\u001b[0;34m)\u001b[0m\u001b[0;34m\u001b[0m\u001b[0;34m\u001b[0m\u001b[0m\n\u001b[1;32m      8\u001b[0m         \u001b[0mprint\u001b[0m\u001b[0;34m(\u001b[0m\u001b[0;34m\"Time Taken: \"\u001b[0m\u001b[0;34m,\u001b[0m \u001b[0me\u001b[0m\u001b[0;34m-\u001b[0m\u001b[0ms\u001b[0m\u001b[0;34m)\u001b[0m\u001b[0;34m\u001b[0m\u001b[0;34m\u001b[0m\u001b[0m\n",
            "\u001b[0;32m<ipython-input-85-ed092b4f05db>\u001b[0m in \u001b[0;36mgetFIB\u001b[0;34m(n)\u001b[0m\n\u001b[1;32m      4\u001b[0m         \u001b[0;32mreturn\u001b[0m \u001b[0mn\u001b[0m\u001b[0;34m\u001b[0m\u001b[0;34m\u001b[0m\u001b[0m\n\u001b[1;32m      5\u001b[0m     \u001b[0;32melse\u001b[0m\u001b[0;34m:\u001b[0m\u001b[0;34m\u001b[0m\u001b[0;34m\u001b[0m\u001b[0m\n\u001b[0;32m----> 6\u001b[0;31m         \u001b[0;32mreturn\u001b[0m \u001b[0mgetFIB\u001b[0m\u001b[0;34m(\u001b[0m\u001b[0mn\u001b[0m\u001b[0;34m-\u001b[0m\u001b[0;36m1\u001b[0m\u001b[0;34m)\u001b[0m\u001b[0;34m+\u001b[0m\u001b[0mgetFIB\u001b[0m\u001b[0;34m(\u001b[0m\u001b[0mn\u001b[0m\u001b[0;34m-\u001b[0m\u001b[0;36m2\u001b[0m\u001b[0;34m)\u001b[0m\u001b[0;34m\u001b[0m\u001b[0;34m\u001b[0m\u001b[0m\n\u001b[0m\u001b[1;32m      7\u001b[0m \u001b[0mgetFIB\u001b[0m\u001b[0;34m(\u001b[0m\u001b[0;36m1000\u001b[0m\u001b[0;34m)\u001b[0m\u001b[0;34m\u001b[0m\u001b[0;34m\u001b[0m\u001b[0m\n",
            "... last 2 frames repeated, from the frame below ...\n",
            "\u001b[0;32m<ipython-input-18-c67a86ec458a>\u001b[0m in \u001b[0;36mwrapper\u001b[0;34m(num)\u001b[0m\n\u001b[1;32m      4\u001b[0m     \u001b[0;32mdef\u001b[0m \u001b[0mwrapper\u001b[0m\u001b[0;34m(\u001b[0m\u001b[0mnum\u001b[0m\u001b[0;34m)\u001b[0m\u001b[0;34m:\u001b[0m \u001b[0;31m# if function expects argument pass it inside wrapper\u001b[0m\u001b[0;34m\u001b[0m\u001b[0;34m\u001b[0m\u001b[0m\n\u001b[1;32m      5\u001b[0m         \u001b[0ms\u001b[0m \u001b[0;34m=\u001b[0m \u001b[0mtime\u001b[0m\u001b[0;34m.\u001b[0m\u001b[0mtime\u001b[0m\u001b[0;34m(\u001b[0m\u001b[0;34m)\u001b[0m\u001b[0;34m\u001b[0m\u001b[0;34m\u001b[0m\u001b[0m\n\u001b[0;32m----> 6\u001b[0;31m         \u001b[0mfunc\u001b[0m\u001b[0;34m(\u001b[0m\u001b[0mnum\u001b[0m\u001b[0;34m)\u001b[0m\u001b[0;34m\u001b[0m\u001b[0;34m\u001b[0m\u001b[0m\n\u001b[0m\u001b[1;32m      7\u001b[0m         \u001b[0me\u001b[0m \u001b[0;34m=\u001b[0m \u001b[0mtime\u001b[0m\u001b[0;34m.\u001b[0m\u001b[0mtime\u001b[0m\u001b[0;34m(\u001b[0m\u001b[0;34m)\u001b[0m\u001b[0;34m\u001b[0m\u001b[0;34m\u001b[0m\u001b[0m\n\u001b[1;32m      8\u001b[0m         \u001b[0mprint\u001b[0m\u001b[0;34m(\u001b[0m\u001b[0;34m\"Time Taken: \"\u001b[0m\u001b[0;34m,\u001b[0m \u001b[0me\u001b[0m\u001b[0;34m-\u001b[0m\u001b[0ms\u001b[0m\u001b[0;34m)\u001b[0m\u001b[0;34m\u001b[0m\u001b[0;34m\u001b[0m\u001b[0m\n",
            "\u001b[0;31mRecursionError\u001b[0m: maximum recursion depth exceeded in comparison"
          ]
        }
      ]
    },
    {
      "cell_type": "code",
      "source": [
        "def func(N):\n",
        "\n",
        "    fibonacci_list=[]\n",
        "    factorial_list=[]\n",
        "    \n",
        "    # YOUR CODE GOES HERE\n",
        "    def factorial(x):\n",
        "        if x<=1:\n",
        "            return 1\n",
        "        else:\n",
        "            return x*factorial(x-1)\n",
        "        \n",
        "    def get_prime(num):\n",
        "        if num<=1:\n",
        "            return False\n",
        "        else:\n",
        "            for i in range(2,num):\n",
        "                if num%i==0:\n",
        "                    return False\n",
        "        return True\n",
        "    \n",
        "    \n",
        "    def getfibonacci(n):\n",
        "        if n<=0:\n",
        "            return 0\n",
        "    \n",
        "        if (n == 1):\n",
        "            return 1\n",
        "        else:\n",
        "            return getfibonacci(n-1) + getfibonacci(n-2)\n",
        "    \n",
        "    fibonacci_list = list(map(getfibonacci, range(0,N)))\n",
        "    factorial_list = list(map(lambda x: factorial(x) if get_prime(x)==True else x,fibonacci_list ))\n",
        "\n",
        "    return fibonacci_list, factorial_list\n",
        "\n",
        "func(9)"
      ],
      "metadata": {
        "colab": {
          "base_uri": "https://localhost:8080/"
        },
        "id": "NO5k2yQr6hsf",
        "outputId": "c67b3c5b-a64c-4112-ab17-6345dc2522fc"
      },
      "execution_count": 89,
      "outputs": [
        {
          "output_type": "execute_result",
          "data": {
            "text/plain": [
              "([0, 1, 1, 2, 3, 5, 8, 13, 21], [0, 1, 1, 2, 6, 120, 8, 6227020800, 21])"
            ]
          },
          "metadata": {},
          "execution_count": 89
        }
      ]
    },
    {
      "cell_type": "code",
      "source": [],
      "metadata": {
        "id": "euX3DqF47HXj"
      },
      "execution_count": 99,
      "outputs": []
    },
    {
      "cell_type": "code",
      "source": [
        "# approach 1\n",
        "str1 = \"race a car\"\n",
        "\n",
        "str1 = list(map(lambda x: x.lower(), (filter(lambda x: x.isalnum(), str1))))\n",
        "str1== str1[::-1]"
      ],
      "metadata": {
        "colab": {
          "base_uri": "https://localhost:8080/"
        },
        "id": "1caMQNXu74nq",
        "outputId": "b686601d-e9b6-4e64-da6d-9b2a30661015"
      },
      "execution_count": 108,
      "outputs": [
        {
          "output_type": "execute_result",
          "data": {
            "text/plain": [
              "False"
            ]
          },
          "metadata": {},
          "execution_count": 108
        }
      ]
    },
    {
      "cell_type": "code",
      "source": [
        "# approach 2\n",
        "# str1 = \"race a car\"\n",
        "\n",
        "str1 = \"A man, a plan, a canal: Panama\"\n",
        "str1 = \"\".join(filter(lambda x: x.isalnum(), str1)).lower()\n",
        "str1==str1[::-1]"
      ],
      "metadata": {
        "colab": {
          "base_uri": "https://localhost:8080/"
        },
        "id": "1kH3QBs89qln",
        "outputId": "43ba136a-f6e3-4982-df75-da50c4b8962b"
      },
      "execution_count": 113,
      "outputs": [
        {
          "output_type": "execute_result",
          "data": {
            "text/plain": [
              "True"
            ]
          },
          "metadata": {},
          "execution_count": 113
        }
      ]
    },
    {
      "cell_type": "code",
      "source": [
        "str1 = \"madama\"\n",
        "\n",
        "str1 == str1[::-1]"
      ],
      "metadata": {
        "colab": {
          "base_uri": "https://localhost:8080/"
        },
        "id": "yc3hOwCa78xN",
        "outputId": "b235c677-f350-4991-84c4-8ef49452234e"
      },
      "execution_count": 94,
      "outputs": [
        {
          "output_type": "execute_result",
          "data": {
            "text/plain": [
              "False"
            ]
          },
          "metadata": {},
          "execution_count": 94
        }
      ]
    },
    {
      "cell_type": "code",
      "source": [
        "# isalnum alternative\n",
        "lambda x: x.lower() if x.lower() in 'qwertyuiopasdfghjklzxcvbnm123456789' else \"\"\n"
      ],
      "metadata": {
        "id": "NI4Y0kYk8DHa"
      },
      "execution_count": null,
      "outputs": []
    },
    {
      "cell_type": "code",
      "source": [
        "# statics method"
      ],
      "metadata": {
        "id": "XS9oLfjO_k5J"
      },
      "execution_count": 114,
      "outputs": []
    },
    {
      "cell_type": "code",
      "source": [
        "def getSubset(list1, subset = [], output = []):\n",
        "    if len(list1)==0:\n",
        "        output.append(subset)\n",
        "        return\n",
        "    else:\n",
        "        getSubset(list1[1:], subset +[list1[0]],output )\n",
        "        getSubset(list1[1:], subset, output )\n",
        "    return output\n",
        "\n",
        "getSubset([1,2,3], subset = [], output = [])"
      ],
      "metadata": {
        "colab": {
          "base_uri": "https://localhost:8080/"
        },
        "id": "T-kVpY7s_oiE",
        "outputId": "ac54e722-58d8-4a75-922f-5458a9361451"
      },
      "execution_count": 119,
      "outputs": [
        {
          "output_type": "execute_result",
          "data": {
            "text/plain": [
              "[[1, 2, 3], [1, 2], [1, 3], [1], [2, 3], [2], [3], []]"
            ]
          },
          "metadata": {},
          "execution_count": 119
        }
      ]
    },
    {
      "cell_type": "code",
      "source": [],
      "metadata": {
        "id": "AnSYqIPaAF71"
      },
      "execution_count": null,
      "outputs": []
    }
  ]
}