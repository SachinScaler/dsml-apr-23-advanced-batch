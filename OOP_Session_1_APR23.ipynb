{
  "nbformat": 4,
  "nbformat_minor": 0,
  "metadata": {
    "colab": {
      "provenance": [],
      "authorship_tag": "ABX9TyPeJqb/PFYFL8p27GaJhE+P",
      "include_colab_link": true
    },
    "kernelspec": {
      "name": "python3",
      "display_name": "Python 3"
    },
    "language_info": {
      "name": "python"
    }
  },
  "cells": [
    {
      "cell_type": "markdown",
      "metadata": {
        "id": "view-in-github",
        "colab_type": "text"
      },
      "source": [
        "<a href=\"https://colab.research.google.com/github/SachinScaler/dsml-apr-23-advanced-batch/blob/main/OOP_Session_1_APR23.ipynb\" target=\"_parent\"><img src=\"https://colab.research.google.com/assets/colab-badge.svg\" alt=\"Open In Colab\"/></a>"
      ]
    },
    {
      "cell_type": "code",
      "execution_count": null,
      "metadata": {
        "id": "jwyXBL94LVKq"
      },
      "outputs": [],
      "source": [
        "stud1= \"S\"\n",
        "stud1_batch = \"APR23\"\n",
        "stud1_module = \"Python Advanced\"\n"
      ]
    },
    {
      "cell_type": "code",
      "source": [
        "stud2= \"A\"\n",
        "stud2_batch = \"Dec22\"\n",
        "stud2_module = \"Python Advanced\"\n",
        "\n",
        "def gives_test(name, module):\n",
        "    return \"Student \" + name + \" completed: \" + module\n",
        "\n",
        "print(gives_test(stud1, stud1_module)) "
      ],
      "metadata": {
        "colab": {
          "base_uri": "https://localhost:8080/"
        },
        "id": "hZX6MHYbOE7G",
        "outputId": "02ee556f-15ae-4525-eb0b-8cfea0f4080a"
      },
      "execution_count": null,
      "outputs": [
        {
          "output_type": "stream",
          "name": "stdout",
          "text": [
            "Student S completed: Python Advanced\n"
          ]
        }
      ]
    },
    {
      "cell_type": "code",
      "source": [
        "print(gives_test(stud2, stud2_module)) "
      ],
      "metadata": {
        "colab": {
          "base_uri": "https://localhost:8080/"
        },
        "id": "ASdwqlKEOecT",
        "outputId": "01e81caf-7fcb-46d2-cbf9-5f579725c525"
      },
      "execution_count": null,
      "outputs": [
        {
          "output_type": "stream",
          "name": "stdout",
          "text": [
            "Student A completed: Python Advanced\n"
          ]
        }
      ]
    },
    {
      "cell_type": "code",
      "source": [
        "class Student: # empty class\n",
        "    pass  \n",
        "\n"
      ],
      "metadata": {
        "id": "Uq6cj062OtLF"
      },
      "execution_count": null,
      "outputs": []
    },
    {
      "cell_type": "code",
      "source": [
        "s1 = Student() # instatiation of student class"
      ],
      "metadata": {
        "id": "JxDC07_PPDRw"
      },
      "execution_count": null,
      "outputs": []
    },
    {
      "cell_type": "code",
      "source": [
        "s1.name=\"S\"\n",
        "s1.batch=\"APR23\"\n",
        "s1.module = \"Python Advanced\""
      ],
      "metadata": {
        "id": "-FbGIowzPMIQ"
      },
      "execution_count": null,
      "outputs": []
    },
    {
      "cell_type": "code",
      "source": [
        "s2 = Student() # instatiation of student class\n",
        "s2.name=\"A\"\n",
        "s2.batch=\"Dec22\"\n",
        "s2.module = \"Python Advanced\""
      ],
      "metadata": {
        "id": "_1id7KpKPXKl"
      },
      "execution_count": null,
      "outputs": []
    },
    {
      "cell_type": "code",
      "source": [
        "s1.__dict__ # we can print all attributes that belong to s1"
      ],
      "metadata": {
        "colab": {
          "base_uri": "https://localhost:8080/"
        },
        "id": "wU8kDYkjPiwv",
        "outputId": "fc0b390f-019f-41bb-e49c-e803ad41b59d"
      },
      "execution_count": null,
      "outputs": [
        {
          "output_type": "execute_result",
          "data": {
            "text/plain": [
              "{'name': 'S', 'batch': 'APR23', 'module': 'Python Advanced'}"
            ]
          },
          "metadata": {},
          "execution_count": 11
        }
      ]
    },
    {
      "cell_type": "code",
      "source": [
        "s2.__dict__ # we can print all attributes that belong to s1"
      ],
      "metadata": {
        "colab": {
          "base_uri": "https://localhost:8080/"
        },
        "id": "ecMK6zhWPlnl",
        "outputId": "aad3d28f-e897-4a18-f2a4-dad0acf623b9"
      },
      "execution_count": null,
      "outputs": [
        {
          "output_type": "execute_result",
          "data": {
            "text/plain": [
              "{'name': 'A', 'batch': 'Dec22', 'module': 'Python Advanced'}"
            ]
          },
          "metadata": {},
          "execution_count": 12
        }
      ]
    },
    {
      "cell_type": "code",
      "source": [
        "class Student:\n",
        "\n",
        "    # method\n",
        "    def gives_test(self):\n",
        "        return \"Student \" + self.name + \" completed: \" + self.module\n",
        "\n",
        "\n",
        "s1 = Student() \n",
        "s1.name=\"S\"\n",
        "s1.batch=\"APR23\"\n",
        "s1.module = \"Python Advanced\"\n",
        "\n",
        "s2 = Student() # instatiation of student class\n",
        "s2.name=\"A\"\n",
        "s2.batch=\"Dec22\"\n",
        "s2.module = \"Python Advanced\""
      ],
      "metadata": {
        "id": "DNpoQQ26Pxky"
      },
      "execution_count": null,
      "outputs": []
    },
    {
      "cell_type": "code",
      "source": [
        "s1.gives_test()"
      ],
      "metadata": {
        "colab": {
          "base_uri": "https://localhost:8080/",
          "height": 36
        },
        "id": "_ts5gqnlQUt5",
        "outputId": "828d4355-d152-4f31-b850-daf0bf929909"
      },
      "execution_count": null,
      "outputs": [
        {
          "output_type": "execute_result",
          "data": {
            "text/plain": [
              "'Student S completed: Python Advanced'"
            ],
            "application/vnd.google.colaboratory.intrinsic+json": {
              "type": "string"
            }
          },
          "metadata": {},
          "execution_count": 14
        }
      ]
    },
    {
      "cell_type": "code",
      "source": [
        "s2.gives_test()"
      ],
      "metadata": {
        "colab": {
          "base_uri": "https://localhost:8080/",
          "height": 36
        },
        "id": "PfLpDYzmQY3z",
        "outputId": "7c6f7567-c9a0-4acf-c4d7-d5dd27b2fb96"
      },
      "execution_count": null,
      "outputs": [
        {
          "output_type": "execute_result",
          "data": {
            "text/plain": [
              "'Student A completed: Python Advanced'"
            ],
            "application/vnd.google.colaboratory.intrinsic+json": {
              "type": "string"
            }
          },
          "metadata": {},
          "execution_count": 15
        }
      ]
    },
    {
      "cell_type": "code",
      "source": [
        "class Student:\n",
        "\n",
        "    # method\n",
        "    def gives_test(self, marks):\n",
        "        print(id(self)) # self is storing the object that is calling the method\n",
        "        return \"Student \" + self.name + \" completed: \" + self.module\n",
        "\n",
        "\n",
        "s1 = Student() \n",
        "s1.name=\"Sachin\"\n",
        "s1.batch=\"APR23\"\n",
        "s1.module = \"Python Advanced\""
      ],
      "metadata": {
        "id": "Cp3i42dKQdi9"
      },
      "execution_count": null,
      "outputs": []
    },
    {
      "cell_type": "code",
      "source": [
        "id(s1)"
      ],
      "metadata": {
        "colab": {
          "base_uri": "https://localhost:8080/"
        },
        "id": "vSeZp-_nQ_mP",
        "outputId": "03e753f3-5516-4259-caef-bf13722a4a2f"
      },
      "execution_count": null,
      "outputs": [
        {
          "output_type": "execute_result",
          "data": {
            "text/plain": [
              "139705311813200"
            ]
          },
          "metadata": {},
          "execution_count": 20
        }
      ]
    },
    {
      "cell_type": "code",
      "source": [
        "print(s1.name)"
      ],
      "metadata": {
        "colab": {
          "base_uri": "https://localhost:8080/"
        },
        "id": "H5uPoQ_9RBo-",
        "outputId": "c5951704-703b-42dd-8be2-02ec6ea83470"
      },
      "execution_count": null,
      "outputs": [
        {
          "output_type": "stream",
          "name": "stdout",
          "text": [
            "Sachin\n"
          ]
        }
      ]
    },
    {
      "cell_type": "code",
      "source": [
        "s1.gives_test()"
      ],
      "metadata": {
        "colab": {
          "base_uri": "https://localhost:8080/",
          "height": 53
        },
        "id": "0sA7xdQwRJg6",
        "outputId": "6e322941-e465-45ac-c4f9-2f355edb262c"
      },
      "execution_count": null,
      "outputs": [
        {
          "output_type": "stream",
          "name": "stdout",
          "text": [
            "139705311813200\n"
          ]
        },
        {
          "output_type": "execute_result",
          "data": {
            "text/plain": [
              "'Student Sachin completed: Python Advanced'"
            ],
            "application/vnd.google.colaboratory.intrinsic+json": {
              "type": "string"
            }
          },
          "metadata": {},
          "execution_count": 22
        }
      ]
    },
    {
      "cell_type": "code",
      "source": [
        "s100 = Student() \n",
        "s100.name=\"Nikhil\"\n",
        "s100.batch=\"Dec22\"\n",
        "s100.module = \"Python Advanced\"\n",
        "print(id(s100))"
      ],
      "metadata": {
        "colab": {
          "base_uri": "https://localhost:8080/"
        },
        "id": "xPYUDNsPRRv7",
        "outputId": "fcb76ab8-1dd2-451c-f913-48c65c35161a"
      },
      "execution_count": null,
      "outputs": [
        {
          "output_type": "stream",
          "name": "stdout",
          "text": [
            "139705560555328\n"
          ]
        }
      ]
    },
    {
      "cell_type": "code",
      "source": [
        "s100.gives_test() # self is storing s100"
      ],
      "metadata": {
        "colab": {
          "base_uri": "https://localhost:8080/",
          "height": 53
        },
        "id": "ApjNmiGKRuEh",
        "outputId": "8693521c-8422-446c-e6e5-690860c12294"
      },
      "execution_count": null,
      "outputs": [
        {
          "output_type": "stream",
          "name": "stdout",
          "text": [
            "139705560555328\n"
          ]
        },
        {
          "output_type": "execute_result",
          "data": {
            "text/plain": [
              "'Student Nikhil completed: Python Advanced'"
            ],
            "application/vnd.google.colaboratory.intrinsic+json": {
              "type": "string"
            }
          },
          "metadata": {},
          "execution_count": 25
        }
      ]
    },
    {
      "cell_type": "code",
      "source": [
        "s1.gives_test()"
      ],
      "metadata": {
        "colab": {
          "base_uri": "https://localhost:8080/",
          "height": 53
        },
        "id": "I5Ueko1CR1Zw",
        "outputId": "e88ec238-811c-4f49-df60-245fd79cf2c4"
      },
      "execution_count": null,
      "outputs": [
        {
          "output_type": "stream",
          "name": "stdout",
          "text": [
            "139705311813200\n"
          ]
        },
        {
          "output_type": "execute_result",
          "data": {
            "text/plain": [
              "'Student Sachin completed: Python Advanced'"
            ],
            "application/vnd.google.colaboratory.intrinsic+json": {
              "type": "string"
            }
          },
          "metadata": {},
          "execution_count": 26
        }
      ]
    },
    {
      "cell_type": "code",
      "source": [
        "print(s100.name)# self.name"
      ],
      "metadata": {
        "colab": {
          "base_uri": "https://localhost:8080/"
        },
        "id": "qkSx_d9XR_zi",
        "outputId": "9cc9ed45-5581-4d01-d692-0bf74f5845f1"
      },
      "execution_count": null,
      "outputs": [
        {
          "output_type": "stream",
          "name": "stdout",
          "text": [
            "Nikhil\n"
          ]
        }
      ]
    },
    {
      "cell_type": "code",
      "source": [
        "s1.gives_test(\"Hello\")"
      ],
      "metadata": {
        "colab": {
          "base_uri": "https://localhost:8080/",
          "height": 167
        },
        "id": "viv5NIASSOpS",
        "outputId": "20705858-2eff-4a58-cbf8-0c23fcf21a19"
      },
      "execution_count": null,
      "outputs": [
        {
          "output_type": "error",
          "ename": "TypeError",
          "evalue": "ignored",
          "traceback": [
            "\u001b[0;31m---------------------------------------------------------------------------\u001b[0m",
            "\u001b[0;31mTypeError\u001b[0m                                 Traceback (most recent call last)",
            "\u001b[0;32m<ipython-input-28-9e8ad6509196>\u001b[0m in \u001b[0;36m<cell line: 1>\u001b[0;34m()\u001b[0m\n\u001b[0;32m----> 1\u001b[0;31m \u001b[0ms1\u001b[0m\u001b[0;34m.\u001b[0m\u001b[0mgives_test\u001b[0m\u001b[0;34m(\u001b[0m\u001b[0;34m\"Hello\"\u001b[0m\u001b[0;34m)\u001b[0m\u001b[0;34m\u001b[0m\u001b[0;34m\u001b[0m\u001b[0m\n\u001b[0m",
            "\u001b[0;31mTypeError\u001b[0m: gives_test() takes 1 positional argument but 2 were given"
          ]
        }
      ]
    },
    {
      "cell_type": "code",
      "source": [
        "class Student:\n",
        "\n",
        "    # method\n",
        "    def gives_test(self, marks):\n",
        "        print(id(self)) # self is storing the object that is calling the method\n",
        "        return \"Student \" + self.name + \" completed: \" + self.module + \" with marks: \" + str(marks)\n",
        "\n",
        "\n",
        "s1 = Student() \n",
        "s1.name=\"Sachin\"\n",
        "s1.batch=\"APR23\"\n",
        "s1.module = \"Python Advanced\"\n",
        "\n",
        "s1.gives_test(80) # here s1 is passed to self by python"
      ],
      "metadata": {
        "colab": {
          "base_uri": "https://localhost:8080/",
          "height": 53
        },
        "id": "iY51rwzGSZjL",
        "outputId": "83162496-c031-4f3d-8d77-16fdb5785a58"
      },
      "execution_count": null,
      "outputs": [
        {
          "output_type": "stream",
          "name": "stdout",
          "text": [
            "139705577747840\n"
          ]
        },
        {
          "output_type": "execute_result",
          "data": {
            "text/plain": [
              "'Student Sachin completed: Python Advanced with marks: 80'"
            ],
            "application/vnd.google.colaboratory.intrinsic+json": {
              "type": "string"
            }
          },
          "metadata": {},
          "execution_count": 32
        }
      ]
    },
    {
      "cell_type": "code",
      "source": [
        "Student.gives_test(s1, 80) # # we are passing s1 to self"
      ],
      "metadata": {
        "colab": {
          "base_uri": "https://localhost:8080/",
          "height": 53
        },
        "id": "ujpu4EI6Sx_6",
        "outputId": "a25852da-0866-43c5-d66d-b5125c951301"
      },
      "execution_count": null,
      "outputs": [
        {
          "output_type": "stream",
          "name": "stdout",
          "text": [
            "139705577747840\n"
          ]
        },
        {
          "output_type": "execute_result",
          "data": {
            "text/plain": [
              "'Student Sachin completed: Python Advanced with marks: 80'"
            ],
            "application/vnd.google.colaboratory.intrinsic+json": {
              "type": "string"
            }
          },
          "metadata": {},
          "execution_count": 36
        }
      ]
    },
    {
      "cell_type": "code",
      "source": [
        "s2 = Student() \n",
        "\n",
        "s2.batch=\"APR23\"\n",
        "s2.module = \"Python Advanced\""
      ],
      "metadata": {
        "id": "q3lT8cKSTLYT"
      },
      "execution_count": null,
      "outputs": []
    },
    {
      "cell_type": "code",
      "source": [
        "print(s2.batch)"
      ],
      "metadata": {
        "colab": {
          "base_uri": "https://localhost:8080/"
        },
        "id": "H3bB_VMkTmj4",
        "outputId": "d0e88838-910a-4115-fcd2-9d377273865d"
      },
      "execution_count": null,
      "outputs": [
        {
          "output_type": "stream",
          "name": "stdout",
          "text": [
            "APR23\n"
          ]
        }
      ]
    },
    {
      "cell_type": "code",
      "source": [
        "print(s2.name)"
      ],
      "metadata": {
        "colab": {
          "base_uri": "https://localhost:8080/",
          "height": 167
        },
        "id": "jc7H47YDTps7",
        "outputId": "45ece193-a394-4c2d-8084-c00ce680ea98"
      },
      "execution_count": null,
      "outputs": [
        {
          "output_type": "error",
          "ename": "AttributeError",
          "evalue": "ignored",
          "traceback": [
            "\u001b[0;31m---------------------------------------------------------------------------\u001b[0m",
            "\u001b[0;31mAttributeError\u001b[0m                            Traceback (most recent call last)",
            "\u001b[0;32m<ipython-input-39-0f62c5043e99>\u001b[0m in \u001b[0;36m<cell line: 1>\u001b[0;34m()\u001b[0m\n\u001b[0;32m----> 1\u001b[0;31m \u001b[0mprint\u001b[0m\u001b[0;34m(\u001b[0m\u001b[0ms2\u001b[0m\u001b[0;34m.\u001b[0m\u001b[0mname\u001b[0m\u001b[0;34m)\u001b[0m\u001b[0;34m\u001b[0m\u001b[0;34m\u001b[0m\u001b[0m\n\u001b[0m",
            "\u001b[0;31mAttributeError\u001b[0m: 'Student' object has no attribute 'name'"
          ]
        }
      ]
    },
    {
      "cell_type": "code",
      "source": [
        "s2.gives_test(90)"
      ],
      "metadata": {
        "colab": {
          "base_uri": "https://localhost:8080/",
          "height": 306
        },
        "id": "awuLJ8DATuUp",
        "outputId": "8ed96353-5c62-4529-a01b-f4bde99199c4"
      },
      "execution_count": null,
      "outputs": [
        {
          "output_type": "stream",
          "name": "stdout",
          "text": [
            "139705311911312\n"
          ]
        },
        {
          "output_type": "error",
          "ename": "AttributeError",
          "evalue": "ignored",
          "traceback": [
            "\u001b[0;31m---------------------------------------------------------------------------\u001b[0m",
            "\u001b[0;31mAttributeError\u001b[0m                            Traceback (most recent call last)",
            "\u001b[0;32m<ipython-input-40-a2d3d8d4e394>\u001b[0m in \u001b[0;36m<cell line: 1>\u001b[0;34m()\u001b[0m\n\u001b[0;32m----> 1\u001b[0;31m \u001b[0ms2\u001b[0m\u001b[0;34m.\u001b[0m\u001b[0mgives_test\u001b[0m\u001b[0;34m(\u001b[0m\u001b[0;36m90\u001b[0m\u001b[0;34m)\u001b[0m\u001b[0;34m\u001b[0m\u001b[0;34m\u001b[0m\u001b[0m\n\u001b[0m",
            "\u001b[0;32m<ipython-input-32-879db7fefdd1>\u001b[0m in \u001b[0;36mgives_test\u001b[0;34m(self, marks)\u001b[0m\n\u001b[1;32m      4\u001b[0m     \u001b[0;32mdef\u001b[0m \u001b[0mgives_test\u001b[0m\u001b[0;34m(\u001b[0m\u001b[0mself\u001b[0m\u001b[0;34m,\u001b[0m \u001b[0mmarks\u001b[0m\u001b[0;34m)\u001b[0m\u001b[0;34m:\u001b[0m\u001b[0;34m\u001b[0m\u001b[0;34m\u001b[0m\u001b[0m\n\u001b[1;32m      5\u001b[0m         \u001b[0mprint\u001b[0m\u001b[0;34m(\u001b[0m\u001b[0mid\u001b[0m\u001b[0;34m(\u001b[0m\u001b[0mself\u001b[0m\u001b[0;34m)\u001b[0m\u001b[0;34m)\u001b[0m \u001b[0;31m# self is storing the object that is calling the method\u001b[0m\u001b[0;34m\u001b[0m\u001b[0;34m\u001b[0m\u001b[0m\n\u001b[0;32m----> 6\u001b[0;31m         \u001b[0;32mreturn\u001b[0m \u001b[0;34m\"Student \"\u001b[0m \u001b[0;34m+\u001b[0m \u001b[0mself\u001b[0m\u001b[0;34m.\u001b[0m\u001b[0mname\u001b[0m \u001b[0;34m+\u001b[0m \u001b[0;34m\" completed: \"\u001b[0m \u001b[0;34m+\u001b[0m \u001b[0mself\u001b[0m\u001b[0;34m.\u001b[0m\u001b[0mmodule\u001b[0m \u001b[0;34m+\u001b[0m \u001b[0;34m\" with marks: \"\u001b[0m \u001b[0;34m+\u001b[0m \u001b[0mstr\u001b[0m\u001b[0;34m(\u001b[0m\u001b[0mmarks\u001b[0m\u001b[0;34m)\u001b[0m\u001b[0;34m\u001b[0m\u001b[0;34m\u001b[0m\u001b[0m\n\u001b[0m\u001b[1;32m      7\u001b[0m \u001b[0;34m\u001b[0m\u001b[0m\n\u001b[1;32m      8\u001b[0m \u001b[0;34m\u001b[0m\u001b[0m\n",
            "\u001b[0;31mAttributeError\u001b[0m: 'Student' object has no attribute 'name'"
          ]
        }
      ]
    },
    {
      "cell_type": "code",
      "source": [
        "class A:\n",
        "    def method2():\n",
        "        print(\"I ma in Class A\")\n",
        "\n",
        "    def method1(random_name, self):\n",
        "        print(id(random_name))\n",
        "        print(\"RandomName Value: \", random_name)\n",
        "        print(\"Self Value: \",self)\n",
        "\n",
        "\n",
        "a1= A()\n",
        "print(id(a1))"
      ],
      "metadata": {
        "colab": {
          "base_uri": "https://localhost:8080/"
        },
        "id": "okkq_CDATzu-",
        "outputId": "1583a65c-0911-427e-c6ae-e4c0ba850e6b"
      },
      "execution_count": null,
      "outputs": [
        {
          "output_type": "stream",
          "name": "stdout",
          "text": [
            "139705311910832\n"
          ]
        }
      ]
    },
    {
      "cell_type": "code",
      "source": [
        "a1.method1(\"Hi\") # A.method(a1)"
      ],
      "metadata": {
        "colab": {
          "base_uri": "https://localhost:8080/"
        },
        "id": "Fe98J2FwUtWn",
        "outputId": "c3080e37-c8c7-4984-9004-764bb9175296"
      },
      "execution_count": null,
      "outputs": [
        {
          "output_type": "stream",
          "name": "stdout",
          "text": [
            "139705311910832\n",
            "RandomName Value:  <__main__.A object at 0x7f0fad7d5bb0>\n",
            "Self Value:  Hi\n"
          ]
        }
      ]
    },
    {
      "cell_type": "markdown",
      "source": [
        "- Self if not a keyword, python automatically passes the object as first argument in the method\n",
        "- To Call any method with an object, the method should have atleast one Argument"
      ],
      "metadata": {
        "id": "WtWoin7vV199"
      }
    },
    {
      "cell_type": "code",
      "source": [
        "a1.method2()"
      ],
      "metadata": {
        "colab": {
          "base_uri": "https://localhost:8080/",
          "height": 167
        },
        "id": "TeeEuwhcU_Oo",
        "outputId": "f279f0de-3ace-4b77-9f45-7dafec13aab5"
      },
      "execution_count": null,
      "outputs": [
        {
          "output_type": "error",
          "ename": "TypeError",
          "evalue": "ignored",
          "traceback": [
            "\u001b[0;31m---------------------------------------------------------------------------\u001b[0m",
            "\u001b[0;31mTypeError\u001b[0m                                 Traceback (most recent call last)",
            "\u001b[0;32m<ipython-input-54-ca7ee2cc8c8c>\u001b[0m in \u001b[0;36m<cell line: 1>\u001b[0;34m()\u001b[0m\n\u001b[0;32m----> 1\u001b[0;31m \u001b[0ma1\u001b[0m\u001b[0;34m.\u001b[0m\u001b[0mmethod2\u001b[0m\u001b[0;34m(\u001b[0m\u001b[0;34m)\u001b[0m\u001b[0;34m\u001b[0m\u001b[0;34m\u001b[0m\u001b[0m\n\u001b[0m",
            "\u001b[0;31mTypeError\u001b[0m: method2() takes 0 positional arguments but 1 was given"
          ]
        }
      ]
    },
    {
      "cell_type": "code",
      "source": [
        " A.method2() # calling this method with Class Name since it does not have any argument"
      ],
      "metadata": {
        "colab": {
          "base_uri": "https://localhost:8080/"
        },
        "id": "FX-SWYH_W0BG",
        "outputId": "79f8b7ec-92f8-47d7-f55f-338f855c2a00"
      },
      "execution_count": null,
      "outputs": [
        {
          "output_type": "stream",
          "name": "stdout",
          "text": [
            "I ma in Class A\n"
          ]
        }
      ]
    },
    {
      "cell_type": "code",
      "source": [
        "class A:\n",
        "    def method2(self):\n",
        "        print(\"I ma in Class A\")\n",
        "\n",
        "    def method1(random_name, self):\n",
        "        print(id(random_name))\n",
        "        print(\"RandomName Value: \", random_name)\n",
        "        print(\"Self Value: \",self)\n",
        "\n",
        "\n",
        "a1= A()\n",
        "a1.method2()"
      ],
      "metadata": {
        "colab": {
          "base_uri": "https://localhost:8080/"
        },
        "id": "r7gPdNkWW7WM",
        "outputId": "45c063cc-b2fe-4b2b-d7f3-d20dcbbc2cb5"
      },
      "execution_count": null,
      "outputs": [
        {
          "output_type": "stream",
          "name": "stdout",
          "text": [
            "I ma in Class A\n"
          ]
        }
      ]
    },
    {
      "cell_type": "code",
      "source": [
        "class Student:\n",
        "\n",
        "    # method\n",
        "    def gives_test(self, marks):\n",
        "        print(id(self)) # self is storing the object that is calling the method\n",
        "        return \"Student \" + self.name + \" completed: \" + self.module + \" with marks: \" + str(marks)\n",
        "\n",
        "\n",
        "s1 = Student() \n",
        "s1.name=\"Sachin\"\n",
        "s1.batch=\"APR23\"\n",
        "s1.module = \"Python Advanced\"\n",
        "\n",
        "s1.gives_test(80) # here s1 is passed to self by python"
      ],
      "metadata": {
        "id": "GA0zkMrdXQyO"
      },
      "execution_count": null,
      "outputs": []
    },
    {
      "cell_type": "markdown",
      "source": [
        "### `__init__` : Intializer\n",
        "- It's a magic Method that automatically gets called when Object is Created.\n",
        "\n",
        "- Intializer creates common set of variables automatically when creating the object"
      ],
      "metadata": {
        "id": "KjO6JxKEXkmg"
      }
    },
    {
      "cell_type": "code",
      "source": [
        "class Student:\n",
        "\n",
        "    def __init__(self, name, batch, module):\n",
        "        self.name = name\n",
        "        self.batch=batch\n",
        "        self.module=module\n",
        "\n",
        "    # method\n",
        "    def gives_test(self, marks):\n",
        "        print(id(self)) # self is storing the object that is calling the method\n",
        "        return \"Student \" + self.name + \" completed: \" + self.module + \" with marks: \" + str(marks)\n",
        "\n",
        "\n",
        "s1 = Student(\"Sachin\", \"APR23\", \"Python Advanced\") \n",
        "\n",
        "s1.gives_test(80) # here s1 is passed to self by python"
      ],
      "metadata": {
        "colab": {
          "base_uri": "https://localhost:8080/",
          "height": 53
        },
        "id": "8vzdrPmBXkCa",
        "outputId": "affeeb6e-e2ff-4c57-cc9a-de8da25a30cd"
      },
      "execution_count": null,
      "outputs": [
        {
          "output_type": "stream",
          "name": "stdout",
          "text": [
            "139704821874352\n"
          ]
        },
        {
          "output_type": "execute_result",
          "data": {
            "text/plain": [
              "'Student Sachin completed: Python Advanced with marks: 80'"
            ],
            "application/vnd.google.colaboratory.intrinsic+json": {
              "type": "string"
            }
          },
          "metadata": {},
          "execution_count": 57
        }
      ]
    },
    {
      "cell_type": "code",
      "source": [
        "s2 = Student(\"Harshit\", \"Dec22\", \"Pandas and Numpy\") \n",
        "\n",
        "s2.gives_test(90)"
      ],
      "metadata": {
        "colab": {
          "base_uri": "https://localhost:8080/",
          "height": 53
        },
        "id": "iO3U3TD4YJeq",
        "outputId": "e9ee69cd-f75a-474e-ec47-6818acfe715a"
      },
      "execution_count": null,
      "outputs": [
        {
          "output_type": "stream",
          "name": "stdout",
          "text": [
            "139704821874496\n"
          ]
        },
        {
          "output_type": "execute_result",
          "data": {
            "text/plain": [
              "'Student Harshit completed: Pandas and Numpy with marks: 90'"
            ],
            "application/vnd.google.colaboratory.intrinsic+json": {
              "type": "string"
            }
          },
          "metadata": {},
          "execution_count": 59
        }
      ]
    },
    {
      "cell_type": "code",
      "source": [
        "s1.__dict__"
      ],
      "metadata": {
        "colab": {
          "base_uri": "https://localhost:8080/"
        },
        "id": "Ve5AK6QiYZEv",
        "outputId": "9bf69944-5bec-4817-e35a-c478e6f956af"
      },
      "execution_count": null,
      "outputs": [
        {
          "output_type": "execute_result",
          "data": {
            "text/plain": [
              "{'name': 'Sachin', 'batch': 'APR23', 'module': 'Python Advanced'}"
            ]
          },
          "metadata": {},
          "execution_count": 60
        }
      ]
    },
    {
      "cell_type": "code",
      "source": [
        "s2.__dict__"
      ],
      "metadata": {
        "colab": {
          "base_uri": "https://localhost:8080/"
        },
        "id": "2vqamYk8Zybh",
        "outputId": "7cd882d1-7494-4f1f-c3bf-db357290ec44"
      },
      "execution_count": null,
      "outputs": [
        {
          "output_type": "execute_result",
          "data": {
            "text/plain": [
              "{'name': 'Harshit', 'batch': 'Dec22', 'module': 'Pandas and Numpy'}"
            ]
          },
          "metadata": {},
          "execution_count": 61
        }
      ]
    },
    {
      "cell_type": "code",
      "source": [
        "s2.vehicle = \"BMW 320D\""
      ],
      "metadata": {
        "id": "rgc0sOiBZz8R"
      },
      "execution_count": null,
      "outputs": []
    },
    {
      "cell_type": "code",
      "source": [
        "print(s2.vehicle)"
      ],
      "metadata": {
        "colab": {
          "base_uri": "https://localhost:8080/"
        },
        "id": "zd3u5PgqaZU0",
        "outputId": "a88b7f58-1ca0-4bf8-bc9e-90ec386f8d0f"
      },
      "execution_count": null,
      "outputs": [
        {
          "output_type": "stream",
          "name": "stdout",
          "text": [
            "BMW 320D\n"
          ]
        }
      ]
    },
    {
      "cell_type": "code",
      "source": [
        "print(s1.vehicle)"
      ],
      "metadata": {
        "colab": {
          "base_uri": "https://localhost:8080/",
          "height": 167
        },
        "id": "h5vmyF4qad6z",
        "outputId": "50aa806f-732c-48e8-993c-d88833024e79"
      },
      "execution_count": null,
      "outputs": [
        {
          "output_type": "error",
          "ename": "AttributeError",
          "evalue": "ignored",
          "traceback": [
            "\u001b[0;31m---------------------------------------------------------------------------\u001b[0m",
            "\u001b[0;31mAttributeError\u001b[0m                            Traceback (most recent call last)",
            "\u001b[0;32m<ipython-input-64-2291616cd812>\u001b[0m in \u001b[0;36m<cell line: 1>\u001b[0;34m()\u001b[0m\n\u001b[0;32m----> 1\u001b[0;31m \u001b[0mprint\u001b[0m\u001b[0;34m(\u001b[0m\u001b[0ms1\u001b[0m\u001b[0;34m.\u001b[0m\u001b[0mvehicle\u001b[0m\u001b[0;34m)\u001b[0m\u001b[0;34m\u001b[0m\u001b[0;34m\u001b[0m\u001b[0m\n\u001b[0m",
            "\u001b[0;31mAttributeError\u001b[0m: 'Student' object has no attribute 'vehicle'"
          ]
        }
      ]
    },
    {
      "cell_type": "markdown",
      "source": [
        "- Assign default value to one of the args in intiatizer\n",
        "- Try Creating objects without passing values for all three args "
      ],
      "metadata": {
        "id": "YZ6iYJC7bCwb"
      }
    },
    {
      "cell_type": "code",
      "source": [
        "class BankAccount:\n",
        "    bankname = \"SBI\" # class Variable  or Static Variable: It's shared Variable Across ALL OBJECTS\n",
        "\n",
        "    def __init__(self, acc_no, name,acc_type, balance):\n",
        "        self.acc_no=acc_no\n",
        "        self.name = name\n",
        "        self.acc_type = acc_type\n",
        "        self.balance = balance\n",
        "\n",
        "b1= BankAccount(1, \"A\", \"Savings\", 100)\n",
        "b2= BankAccount(2, \"B\", \"Savings\", 10)\n",
        "b3= BankAccount(3, \"C\", \"Current\", 1000)"
      ],
      "metadata": {
        "id": "Vd5E0CDCagZu"
      },
      "execution_count": null,
      "outputs": []
    },
    {
      "cell_type": "code",
      "source": [
        "b1.bankname"
      ],
      "metadata": {
        "colab": {
          "base_uri": "https://localhost:8080/",
          "height": 36
        },
        "id": "3znNt_GGe1hI",
        "outputId": "f0560df9-b6fd-4f07-9264-c5f6ace833b1"
      },
      "execution_count": null,
      "outputs": [
        {
          "output_type": "execute_result",
          "data": {
            "text/plain": [
              "'SBI'"
            ],
            "application/vnd.google.colaboratory.intrinsic+json": {
              "type": "string"
            }
          },
          "metadata": {},
          "execution_count": 93
        }
      ]
    },
    {
      "cell_type": "code",
      "source": [
        "b2.bankname"
      ],
      "metadata": {
        "colab": {
          "base_uri": "https://localhost:8080/",
          "height": 36
        },
        "id": "I9_UGnarfbaM",
        "outputId": "f6da3428-1fd8-4362-c6a3-907bde1ec812"
      },
      "execution_count": null,
      "outputs": [
        {
          "output_type": "execute_result",
          "data": {
            "text/plain": [
              "'SBI'"
            ],
            "application/vnd.google.colaboratory.intrinsic+json": {
              "type": "string"
            }
          },
          "metadata": {},
          "execution_count": 94
        }
      ]
    },
    {
      "cell_type": "code",
      "source": [
        "b3.bankname"
      ],
      "metadata": {
        "colab": {
          "base_uri": "https://localhost:8080/",
          "height": 36
        },
        "id": "3GeX3cPofcyI",
        "outputId": "12c67955-d8d1-4a0b-8aea-3d80a2d10470"
      },
      "execution_count": null,
      "outputs": [
        {
          "output_type": "execute_result",
          "data": {
            "text/plain": [
              "'SBI'"
            ],
            "application/vnd.google.colaboratory.intrinsic+json": {
              "type": "string"
            }
          },
          "metadata": {},
          "execution_count": 95
        }
      ]
    },
    {
      "cell_type": "code",
      "source": [
        "b4= BankAccount(4, \"D\", \"Current\", 10000)"
      ],
      "metadata": {
        "id": "79AB1Pqefdx7"
      },
      "execution_count": null,
      "outputs": []
    },
    {
      "cell_type": "code",
      "source": [
        "b4.bankname # access Class Var using Object"
      ],
      "metadata": {
        "colab": {
          "base_uri": "https://localhost:8080/",
          "height": 36
        },
        "id": "rk8YhvmegIOa",
        "outputId": "d06b3412-e51d-449a-818f-f5e054a79996"
      },
      "execution_count": null,
      "outputs": [
        {
          "output_type": "execute_result",
          "data": {
            "text/plain": [
              "'SBI'"
            ],
            "application/vnd.google.colaboratory.intrinsic+json": {
              "type": "string"
            }
          },
          "metadata": {},
          "execution_count": 97
        }
      ]
    },
    {
      "cell_type": "code",
      "source": [
        "BankAccount.bankname # Access Class Var using Class"
      ],
      "metadata": {
        "colab": {
          "base_uri": "https://localhost:8080/",
          "height": 36
        },
        "id": "S7Vf4ytcgNak",
        "outputId": "08a6c1e5-9dd1-47d6-8d43-e07c2f5d2836"
      },
      "execution_count": null,
      "outputs": [
        {
          "output_type": "execute_result",
          "data": {
            "text/plain": [
              "'SBI'"
            ],
            "application/vnd.google.colaboratory.intrinsic+json": {
              "type": "string"
            }
          },
          "metadata": {},
          "execution_count": 100
        }
      ]
    },
    {
      "cell_type": "code",
      "source": [
        "BankAccount.bankname = \"PNB\" # changing Class Variable using Class"
      ],
      "metadata": {
        "id": "Gnng1HjMg3sX"
      },
      "execution_count": null,
      "outputs": []
    },
    {
      "cell_type": "code",
      "source": [
        "BankAccount.bankname # Access Class Var using Class"
      ],
      "metadata": {
        "colab": {
          "base_uri": "https://localhost:8080/",
          "height": 36
        },
        "id": "ZNe8K3cchIJc",
        "outputId": "9f9b00bf-ccd2-42fa-bd3a-b8d3389ee575"
      },
      "execution_count": null,
      "outputs": [
        {
          "output_type": "execute_result",
          "data": {
            "text/plain": [
              "'PNB'"
            ],
            "application/vnd.google.colaboratory.intrinsic+json": {
              "type": "string"
            }
          },
          "metadata": {},
          "execution_count": 102
        }
      ]
    },
    {
      "cell_type": "code",
      "source": [
        "b4.bankname"
      ],
      "metadata": {
        "colab": {
          "base_uri": "https://localhost:8080/",
          "height": 36
        },
        "id": "2mJJ_h8jhLXJ",
        "outputId": "08a3e598-96a2-4d96-ac88-53ace509d674"
      },
      "execution_count": null,
      "outputs": [
        {
          "output_type": "execute_result",
          "data": {
            "text/plain": [
              "'PNB'"
            ],
            "application/vnd.google.colaboratory.intrinsic+json": {
              "type": "string"
            }
          },
          "metadata": {},
          "execution_count": 103
        }
      ]
    },
    {
      "cell_type": "code",
      "source": [
        "b3.bankname"
      ],
      "metadata": {
        "colab": {
          "base_uri": "https://localhost:8080/",
          "height": 36
        },
        "id": "tuE0-LDZhOu9",
        "outputId": "c34bac5b-60a8-4b47-d6d5-8e6029048e45"
      },
      "execution_count": null,
      "outputs": [
        {
          "output_type": "execute_result",
          "data": {
            "text/plain": [
              "'PNB'"
            ],
            "application/vnd.google.colaboratory.intrinsic+json": {
              "type": "string"
            }
          },
          "metadata": {},
          "execution_count": 104
        }
      ]
    },
    {
      "cell_type": "code",
      "source": [
        "b2.bankname"
      ],
      "metadata": {
        "colab": {
          "base_uri": "https://localhost:8080/",
          "height": 36
        },
        "id": "Z8JCANKShSDs",
        "outputId": "eee9cd8c-77e5-4df3-fceb-10f1f65184a2"
      },
      "execution_count": null,
      "outputs": [
        {
          "output_type": "execute_result",
          "data": {
            "text/plain": [
              "'PNB'"
            ],
            "application/vnd.google.colaboratory.intrinsic+json": {
              "type": "string"
            }
          },
          "metadata": {},
          "execution_count": 105
        }
      ]
    },
    {
      "cell_type": "code",
      "source": [
        "b4.bankname = \"SBI\" # this creates a new instance variable only for b4"
      ],
      "metadata": {
        "id": "XaGREwVBhTJV"
      },
      "execution_count": null,
      "outputs": []
    },
    {
      "cell_type": "code",
      "source": [
        "print(b4.bankname)"
      ],
      "metadata": {
        "colab": {
          "base_uri": "https://localhost:8080/"
        },
        "id": "Jd3ho1oOhhCy",
        "outputId": "6ba4ad90-0fee-498e-a0af-eb7122bb9048"
      },
      "execution_count": null,
      "outputs": [
        {
          "output_type": "stream",
          "name": "stdout",
          "text": [
            "SBI\n"
          ]
        }
      ]
    },
    {
      "cell_type": "code",
      "source": [
        "print(b3.bankname)"
      ],
      "metadata": {
        "colab": {
          "base_uri": "https://localhost:8080/"
        },
        "id": "5cX_TXYEhmAD",
        "outputId": "581a4e27-1f8c-4e89-81bd-450c35765e4a"
      },
      "execution_count": null,
      "outputs": [
        {
          "output_type": "stream",
          "name": "stdout",
          "text": [
            "PNB\n"
          ]
        }
      ]
    },
    {
      "cell_type": "code",
      "source": [
        "print(BankAccount.bankname)"
      ],
      "metadata": {
        "colab": {
          "base_uri": "https://localhost:8080/"
        },
        "id": "XSEuQfxHhzBz",
        "outputId": "070ec82c-6da4-4c1c-e7da-77cc50a6a29d"
      },
      "execution_count": null,
      "outputs": [
        {
          "output_type": "stream",
          "name": "stdout",
          "text": [
            "PNB\n"
          ]
        }
      ]
    },
    {
      "cell_type": "code",
      "source": [
        "b4.__dict__"
      ],
      "metadata": {
        "colab": {
          "base_uri": "https://localhost:8080/"
        },
        "id": "Jv0be43gh9Mo",
        "outputId": "73bf4c48-8721-48fe-a329-140455e5d07f"
      },
      "execution_count": null,
      "outputs": [
        {
          "output_type": "execute_result",
          "data": {
            "text/plain": [
              "{'acc_no': 4,\n",
              " 'name': 'D',\n",
              " 'acc_type': 'Current',\n",
              " 'balance': 10000,\n",
              " 'bankname': 'SBI'}"
            ]
          },
          "metadata": {},
          "execution_count": 114
        }
      ]
    },
    {
      "cell_type": "code",
      "source": [
        "b3.__dict__"
      ],
      "metadata": {
        "colab": {
          "base_uri": "https://localhost:8080/"
        },
        "id": "WmktoYeYiCzw",
        "outputId": "bb1875be-77e7-46ab-cd15-130f9e68e9fd"
      },
      "execution_count": null,
      "outputs": [
        {
          "output_type": "execute_result",
          "data": {
            "text/plain": [
              "{'acc_no': 3, 'name': 'C', 'acc_type': 'Current', 'balance': 1000}"
            ]
          },
          "metadata": {},
          "execution_count": 115
        }
      ]
    },
    {
      "cell_type": "code",
      "source": [
        "print(b3.bankname)"
      ],
      "metadata": {
        "colab": {
          "base_uri": "https://localhost:8080/"
        },
        "id": "0XWhznCXiGhX",
        "outputId": "2c37a348-be09-4374-a44b-be4595192d33"
      },
      "execution_count": null,
      "outputs": [
        {
          "output_type": "stream",
          "name": "stdout",
          "text": [
            "PNB\n"
          ]
        }
      ]
    },
    {
      "cell_type": "markdown",
      "source": [
        "### Homework: Create Class Variable as Mutable and try to modify it using object as well as Class and Check if modifications are shared across All."
      ],
      "metadata": {
        "id": "DM-VR7Xlij3r"
      }
    },
    {
      "cell_type": "code",
      "source": [
        "class BA:\n",
        "  Var = \"SBI\"  \n",
        "  def __init__(self, acc_id, name, balance):\n",
        "    self.id = acc_id\n",
        "    self.name = name\n",
        "    self.bal = balance\n",
        "\n",
        "  def show_b(self):\n",
        "    print(\"Bal is: \", self.bal)\n",
        "\n",
        "c1 = BA(101, \"Sachin\",1000)\n",
        "c1.pancard = 1234\n",
        "print(len(c1.__dict__))"
      ],
      "metadata": {
        "colab": {
          "base_uri": "https://localhost:8080/"
        },
        "id": "JA019yPQiOvd",
        "outputId": "d7af8ca6-b050-4e8b-a838-ba2ecd219f53"
      },
      "execution_count": null,
      "outputs": [
        {
          "output_type": "stream",
          "name": "stdout",
          "text": [
            "4\n"
          ]
        }
      ]
    },
    {
      "cell_type": "code",
      "source": [
        "class BA:\n",
        "  Var = \"SBI\"  \n",
        "  def __init__(self, acc_id, name, balance):\n",
        "    self.id = acc_id\n",
        "    self.name = name\n",
        "    self.balance = balance\n",
        "\n",
        "  def show_b(self):\n",
        "    print(\"Balance is: \", self.balance)\n",
        "\n",
        "c1 = BA(101, \"Sachin\",1000)\n",
        "len(c1.__dict__)"
      ],
      "metadata": {
        "colab": {
          "base_uri": "https://localhost:8080/"
        },
        "id": "fDlRJyRPj2rT",
        "outputId": "3a09b7ce-7aa5-4a0e-cde5-e5762fe93db9"
      },
      "execution_count": null,
      "outputs": [
        {
          "output_type": "execute_result",
          "data": {
            "text/plain": [
              "3"
            ]
          },
          "metadata": {},
          "execution_count": 119
        }
      ]
    },
    {
      "cell_type": "code",
      "source": [
        "dir(c1)"
      ],
      "metadata": {
        "colab": {
          "base_uri": "https://localhost:8080/"
        },
        "id": "sMWqJiFKkSue",
        "outputId": "4ecdb2f7-7b35-4a9b-bec6-1046519cf87f"
      },
      "execution_count": null,
      "outputs": [
        {
          "output_type": "execute_result",
          "data": {
            "text/plain": [
              "['Var',\n",
              " '__class__',\n",
              " '__delattr__',\n",
              " '__dict__',\n",
              " '__dir__',\n",
              " '__doc__',\n",
              " '__eq__',\n",
              " '__format__',\n",
              " '__ge__',\n",
              " '__getattribute__',\n",
              " '__gt__',\n",
              " '__hash__',\n",
              " '__init__',\n",
              " '__init_subclass__',\n",
              " '__le__',\n",
              " '__lt__',\n",
              " '__module__',\n",
              " '__ne__',\n",
              " '__new__',\n",
              " '__reduce__',\n",
              " '__reduce_ex__',\n",
              " '__repr__',\n",
              " '__setattr__',\n",
              " '__sizeof__',\n",
              " '__str__',\n",
              " '__subclasshook__',\n",
              " '__weakref__',\n",
              " 'balance',\n",
              " 'id',\n",
              " 'name',\n",
              " 'show_b']"
            ]
          },
          "metadata": {},
          "execution_count": 120
        }
      ]
    },
    {
      "cell_type": "markdown",
      "source": [
        "### Explore the usecase of 5 magic Methods\n",
        "```\n",
        "- __str__\n",
        "- __new__\n",
        "- __lt__\n",
        "- __eq__ \n"
      ],
      "metadata": {
        "id": "O33smHXKkpxj"
      }
    },
    {
      "cell_type": "code",
      "source": [
        "class BA:\n",
        "  Var = \"SBI\"  \n",
        "  IFSC=101\n",
        "  def __init__(self, acc_id, name, balance):\n",
        "    self.id = acc_id\n",
        "    self.name = name\n",
        "    self.bal = balance\n",
        "\n",
        "c1 = BA(101, \"Sachin\",1000)\n",
        "c1.pancard = 1234"
      ],
      "metadata": {
        "id": "TU-QanpRkZZ5"
      },
      "execution_count": null,
      "outputs": []
    },
    {
      "cell_type": "code",
      "source": [
        "class Student:\n",
        "  def __init__(self, name):\n",
        "    self.name = name              \n",
        "  def get_person_name(self):\n",
        "    return self.name\n",
        "p1 = Student(\"Manju\")\n",
        "p2 = Student(\"Chandan\")\n",
        "p2.get_person_name()"
      ],
      "metadata": {
        "colab": {
          "base_uri": "https://localhost:8080/",
          "height": 36
        },
        "id": "0Gurv21llkof",
        "outputId": "da13b1ba-8940-412d-b8e1-226ea4eb1595"
      },
      "execution_count": null,
      "outputs": [
        {
          "output_type": "execute_result",
          "data": {
            "text/plain": [
              "'Chandan'"
            ],
            "application/vnd.google.colaboratory.intrinsic+json": {
              "type": "string"
            }
          },
          "metadata": {},
          "execution_count": 121
        }
      ]
    },
    {
      "cell_type": "code",
      "source": [
        "p1.get_person_name()"
      ],
      "metadata": {
        "colab": {
          "base_uri": "https://localhost:8080/",
          "height": 36
        },
        "id": "JTUZyMlclzg_",
        "outputId": "2787de9c-c810-49da-abf7-89907b972649"
      },
      "execution_count": null,
      "outputs": [
        {
          "output_type": "execute_result",
          "data": {
            "text/plain": [
              "'Manju'"
            ],
            "application/vnd.google.colaboratory.intrinsic+json": {
              "type": "string"
            }
          },
          "metadata": {},
          "execution_count": 122
        }
      ]
    },
    {
      "cell_type": "code",
      "source": [
        "class Student:\n",
        "  batch = 'June22'\n",
        "  def __init__(self, name):\n",
        "    self.name = name              \n",
        "  def get_person_name(self):\n",
        "    print(self.name)\n",
        "\n",
        "p1=Student(\"Needa\")\n",
        "p1.batch = 'July22'\n",
        "\n",
        "print(Student.batch, p1.batch) # since batch immutable"
      ],
      "metadata": {
        "colab": {
          "base_uri": "https://localhost:8080/"
        },
        "id": "BeR7GOptl1oJ",
        "outputId": "9072247c-166e-4d3d-9a35-1fd347180206"
      },
      "execution_count": null,
      "outputs": [
        {
          "output_type": "stream",
          "name": "stdout",
          "text": [
            "June22 July22\n"
          ]
        }
      ]
    },
    {
      "cell_type": "code",
      "source": [
        "\n",
        "class Student:\n",
        "  def __init__(self, name):\n",
        "    self.name = name              \n",
        "  def get_person_name(self):\n",
        "    return self.name\n",
        "p1=Student(\"Mohammad\") # 1\n",
        "p1.name = 'Mohamed' # 2\n",
        "\n",
        "print(p1.get_person_name(), p1.name)"
      ],
      "metadata": {
        "colab": {
          "base_uri": "https://localhost:8080/"
        },
        "id": "nagmvd5_mmMM",
        "outputId": "0f4d847c-8171-4e79-b215-f0bde54a65ed"
      },
      "execution_count": null,
      "outputs": [
        {
          "output_type": "stream",
          "name": "stdout",
          "text": [
            "Mohamed Mohamed\n"
          ]
        }
      ]
    },
    {
      "cell_type": "code",
      "source": [
        "\n",
        "class Student:\n",
        "  def __init__(self, name):\n",
        "    self.name = name              \n",
        "  def get_person_name(self):\n",
        "    return self.name\n",
        "p1=Student(\"Mohammad\") # 1\n",
        "print(p1.name)\n",
        "p1.name = 'Mohamed' # 2\n",
        "print(p1.name)"
      ],
      "metadata": {
        "colab": {
          "base_uri": "https://localhost:8080/"
        },
        "id": "w8TkE95YndjZ",
        "outputId": "5f282aa1-eaf6-4dcd-81e8-635198aa1490"
      },
      "execution_count": null,
      "outputs": [
        {
          "output_type": "stream",
          "name": "stdout",
          "text": [
            "Mohammad\n",
            "Mohamed\n"
          ]
        }
      ]
    },
    {
      "cell_type": "code",
      "source": [],
      "metadata": {
        "id": "hTqBngDznpxT"
      },
      "execution_count": null,
      "outputs": []
    }
  ]
}