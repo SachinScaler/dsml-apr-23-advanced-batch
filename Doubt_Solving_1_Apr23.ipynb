{
  "nbformat": 4,
  "nbformat_minor": 0,
  "metadata": {
    "colab": {
      "provenance": [],
      "authorship_tag": "ABX9TyNqutCI0a2GUp+vQOpnV7D1",
      "include_colab_link": true
    },
    "kernelspec": {
      "name": "python3",
      "display_name": "Python 3"
    },
    "language_info": {
      "name": "python"
    }
  },
  "cells": [
    {
      "cell_type": "markdown",
      "metadata": {
        "id": "view-in-github",
        "colab_type": "text"
      },
      "source": [
        "<a href=\"https://colab.research.google.com/github/SachinScaler/dsml-apr-23-advanced-batch/blob/main/Doubt_Solving_1_Apr23.ipynb\" target=\"_parent\"><img src=\"https://colab.research.google.com/assets/colab-badge.svg\" alt=\"Open In Colab\"/></a>"
      ]
    },
    {
      "cell_type": "code",
      "source": [
        "str1 = \"Hello\" # global  and immutable\n",
        "\n",
        "def function():\n",
        "    global str1 \n",
        "    str1 = \"World\" # local variable\n",
        "    print(\"INSIDE FUNCTION\",str1)\n",
        "    return str1 \n",
        "\n",
        "function()\n",
        "print(\"Outside Function\",str1)\n",
        "\n"
      ],
      "metadata": {
        "colab": {
          "base_uri": "https://localhost:8080/"
        },
        "id": "u07s7OQn3skx",
        "outputId": "1e7776f1-ff07-414b-b959-a4521cd9c839"
      },
      "execution_count": null,
      "outputs": [
        {
          "output_type": "stream",
          "name": "stdout",
          "text": [
            "INSIDE FUNCTION World\n",
            "Outside Function World\n"
          ]
        }
      ]
    },
    {
      "cell_type": "markdown",
      "source": [
        "Global Immutables can't be updated without global keyword"
      ],
      "metadata": {
        "id": "x98wR9xg6YUh"
      }
    },
    {
      "cell_type": "code",
      "source": [
        "lst1 = [\"Hello\"] # global  and mutable\n",
        "\n",
        "def function():\n",
        "     \n",
        "    lst1.append(\"World\") # local variable\n",
        "    print(\"INSIDE FUNCTION\",lst1)\n",
        "\n",
        "function()\n",
        "print(\"Outside Function\",lst1)\n"
      ],
      "metadata": {
        "colab": {
          "base_uri": "https://localhost:8080/"
        },
        "id": "QZBwvfOb3siX",
        "outputId": "cb07ade2-3967-4e59-b7fa-9c31edae1ecd"
      },
      "execution_count": null,
      "outputs": [
        {
          "output_type": "stream",
          "name": "stdout",
          "text": [
            "INSIDE FUNCTION World\n",
            "Outside Function ['Hello']\n"
          ]
        }
      ]
    },
    {
      "cell_type": "code",
      "source": [],
      "metadata": {
        "id": "RcuXQmAC3sXf"
      },
      "execution_count": null,
      "outputs": []
    },
    {
      "cell_type": "code",
      "source": [],
      "metadata": {
        "id": "CSYmJYnc3sUu"
      },
      "execution_count": null,
      "outputs": []
    },
    {
      "cell_type": "code",
      "source": [],
      "metadata": {
        "id": "NE4831y-3sSH"
      },
      "execution_count": null,
      "outputs": []
    },
    {
      "cell_type": "code",
      "source": [],
      "metadata": {
        "id": "7gTmOKot3sPY"
      },
      "execution_count": null,
      "outputs": []
    },
    {
      "cell_type": "code",
      "source": [],
      "metadata": {
        "id": "IEKpY5Rd3sMy"
      },
      "execution_count": null,
      "outputs": []
    },
    {
      "cell_type": "code",
      "execution_count": null,
      "metadata": {
        "colab": {
          "base_uri": "https://localhost:8080/"
        },
        "id": "j-fKm1dwvV8X",
        "outputId": "bffca763-f4bf-49d5-e779-b22ac115305d"
      },
      "outputs": [
        {
          "output_type": "stream",
          "name": "stdout",
          "text": [
            "10\n"
          ]
        }
      ],
      "source": [
        "a=10\n",
        "\n",
        "def update_a():\n",
        "    a = 20\n",
        "    print(a)\n",
        "print(a)"
      ]
    },
    {
      "cell_type": "code",
      "source": [
        "a=10\n",
        "\n",
        "def update_a():\n",
        "    a = 20\n",
        "\n",
        "update_a()\n",
        "print(a)"
      ],
      "metadata": {
        "colab": {
          "base_uri": "https://localhost:8080/"
        },
        "id": "DaW7JtDO7qgV",
        "outputId": "c5e1d180-ace6-443f-fff5-70e3602012d9"
      },
      "execution_count": null,
      "outputs": [
        {
          "output_type": "stream",
          "name": "stdout",
          "text": [
            "10\n"
          ]
        }
      ]
    },
    {
      "cell_type": "code",
      "source": [
        "a=10\n",
        "\n",
        "def update_a():\n",
        "    a = 20\n",
        "    print(a)\n",
        "\n",
        "update_a()\n",
        "print(a)"
      ],
      "metadata": {
        "colab": {
          "base_uri": "https://localhost:8080/"
        },
        "id": "p37iF9Yv79pt",
        "outputId": "f628762e-094f-4db1-fe4e-6de4bffdd806"
      },
      "execution_count": null,
      "outputs": [
        {
          "output_type": "stream",
          "name": "stdout",
          "text": [
            "20\n",
            "10\n"
          ]
        }
      ]
    },
    {
      "cell_type": "code",
      "source": [
        "a=10\n",
        "\n",
        "def update_a():\n",
        "    global a\n",
        "    a = 20\n",
        "    print(a)\n",
        "\n",
        "update_a()\n",
        "print(a)"
      ],
      "metadata": {
        "colab": {
          "base_uri": "https://localhost:8080/"
        },
        "id": "pMfPdxr02qcI",
        "outputId": "f75d1f91-ef2c-4dbf-fb08-f4da198b774e"
      },
      "execution_count": null,
      "outputs": [
        {
          "output_type": "stream",
          "name": "stdout",
          "text": [
            "20\n",
            "20\n"
          ]
        }
      ]
    },
    {
      "cell_type": "code",
      "source": [
        "list1 = [\"AZC\", \"BCD\", \"AAC\"]\n",
        "sorted(list1)"
      ],
      "metadata": {
        "colab": {
          "base_uri": "https://localhost:8080/"
        },
        "id": "Hprw1l_T2uOF",
        "outputId": "b5cf6e50-62e8-460e-dcd8-600488293cf6"
      },
      "execution_count": null,
      "outputs": [
        {
          "output_type": "execute_result",
          "data": {
            "text/plain": [
              "['AAC', 'AZC', 'BCD']"
            ]
          },
          "metadata": {},
          "execution_count": 17
        }
      ]
    },
    {
      "cell_type": "code",
      "source": [
        "list1 = [(1,5), (1,3), (0,100), (0,10,100)]\n",
        "sorted(list1)"
      ],
      "metadata": {
        "colab": {
          "base_uri": "https://localhost:8080/"
        },
        "id": "-41rv5PO9N9a",
        "outputId": "5f5a8a3e-f557-4673-cd44-33e1bb791985"
      },
      "execution_count": null,
      "outputs": [
        {
          "output_type": "execute_result",
          "data": {
            "text/plain": [
              "[(0, 10, 100), (0, 100), (1, 3), (1, 5)]"
            ]
          },
          "metadata": {},
          "execution_count": 20
        }
      ]
    },
    {
      "cell_type": "code",
      "source": [
        "def func(a):\n",
        "    return a[1]\n",
        "sorted(list1, key =func)"
      ],
      "metadata": {
        "colab": {
          "base_uri": "https://localhost:8080/"
        },
        "id": "9qdfqMEx9tB-",
        "outputId": "60665957-d02b-4075-9238-a128432b060a"
      },
      "execution_count": null,
      "outputs": [
        {
          "output_type": "execute_result",
          "data": {
            "text/plain": [
              "[(1, 3), (1, 5), (0, 10, 100), (0, 100)]"
            ]
          },
          "metadata": {},
          "execution_count": 21
        }
      ]
    },
    {
      "cell_type": "code",
      "source": [
        "sorted(list1, key =lambda x :x[1] ) # in functional programming"
      ],
      "metadata": {
        "colab": {
          "base_uri": "https://localhost:8080/"
        },
        "id": "B0bwvVy_-W-E",
        "outputId": "bd3f5499-ac97-4a7c-ea99-2051ad25870e"
      },
      "execution_count": null,
      "outputs": [
        {
          "output_type": "execute_result",
          "data": {
            "text/plain": [
              "[(1, 3), (1, 5), (0, 10, 100), (0, 100)]"
            ]
          },
          "metadata": {},
          "execution_count": 22
        }
      ]
    },
    {
      "cell_type": "code",
      "source": [
        "list1 = [\"abbbc\", \"aabc\", \"aabba\", \"aabbbbb\"]\n",
        "\n",
        "sorted(list1, key =lambda x :x.count('b') ) "
      ],
      "metadata": {
        "colab": {
          "base_uri": "https://localhost:8080/"
        },
        "id": "WjldIOPS-j9L",
        "outputId": "0f2c4bda-e10d-4e24-a6d8-9031d307a7d2"
      },
      "execution_count": null,
      "outputs": [
        {
          "output_type": "execute_result",
          "data": {
            "text/plain": [
              "['aabc', 'aabba', 'abbbc', 'aabbbbb']"
            ]
          },
          "metadata": {},
          "execution_count": 24
        }
      ]
    },
    {
      "cell_type": "code",
      "source": [
        "x = \"abbbc\"\n",
        "x.count('b')"
      ],
      "metadata": {
        "colab": {
          "base_uri": "https://localhost:8080/"
        },
        "id": "wpCqCwVl_Gu-",
        "outputId": "de4bae4e-a714-4f75-be7c-f728d8babb13"
      },
      "execution_count": null,
      "outputs": [
        {
          "output_type": "execute_result",
          "data": {
            "text/plain": [
              "3"
            ]
          },
          "metadata": {},
          "execution_count": 23
        }
      ]
    },
    {
      "cell_type": "code",
      "source": [
        "'1' >'a' # ascii value "
      ],
      "metadata": {
        "colab": {
          "base_uri": "https://localhost:8080/"
        },
        "id": "VDm17uAC_JNN",
        "outputId": "c7624775-0f17-43ab-bafd-9df2a9135049"
      },
      "execution_count": null,
      "outputs": [
        {
          "output_type": "execute_result",
          "data": {
            "text/plain": [
              "False"
            ]
          },
          "metadata": {},
          "execution_count": 25
        }
      ]
    },
    {
      "cell_type": "code",
      "source": [
        "1 >'a' # ascii value "
      ],
      "metadata": {
        "colab": {
          "base_uri": "https://localhost:8080/",
          "height": 167
        },
        "id": "9FX0WBBk_4SX",
        "outputId": "93444669-9e40-4277-974f-2fdf227fd8d0"
      },
      "execution_count": null,
      "outputs": [
        {
          "output_type": "error",
          "ename": "TypeError",
          "evalue": "ignored",
          "traceback": [
            "\u001b[0;31m---------------------------------------------------------------------------\u001b[0m",
            "\u001b[0;31mTypeError\u001b[0m                                 Traceback (most recent call last)",
            "\u001b[0;32m<ipython-input-31-ca4765f95d5d>\u001b[0m in \u001b[0;36m<cell line: 1>\u001b[0;34m()\u001b[0m\n\u001b[0;32m----> 1\u001b[0;31m \u001b[0;36m1\u001b[0m \u001b[0;34m>\u001b[0m\u001b[0;34m'a'\u001b[0m \u001b[0;31m# ascii value\u001b[0m\u001b[0;34m\u001b[0m\u001b[0;34m\u001b[0m\u001b[0m\n\u001b[0m",
            "\u001b[0;31mTypeError\u001b[0m: '>' not supported between instances of 'int' and 'str'"
          ]
        }
      ]
    },
    {
      "cell_type": "code",
      "source": [
        "ord('1')"
      ],
      "metadata": {
        "colab": {
          "base_uri": "https://localhost:8080/"
        },
        "id": "OGp6ClZz_akh",
        "outputId": "9637f8b1-c6ae-4c1f-9dd8-b18bb3ba3403"
      },
      "execution_count": null,
      "outputs": [
        {
          "output_type": "execute_result",
          "data": {
            "text/plain": [
              "49"
            ]
          },
          "metadata": {},
          "execution_count": 27
        }
      ]
    },
    {
      "cell_type": "code",
      "source": [
        "ord('a')"
      ],
      "metadata": {
        "colab": {
          "base_uri": "https://localhost:8080/"
        },
        "id": "K4QSlgX6_cc2",
        "outputId": "d2e6310d-4e75-4942-830e-bbfecb6a2165"
      },
      "execution_count": null,
      "outputs": [
        {
          "output_type": "execute_result",
          "data": {
            "text/plain": [
              "97"
            ]
          },
          "metadata": {},
          "execution_count": 28
        }
      ]
    },
    {
      "cell_type": "code",
      "source": [
        "list1 = [1, 'a', 'c']\n",
        "sorted(list1)"
      ],
      "metadata": {
        "colab": {
          "base_uri": "https://localhost:8080/",
          "height": 184
        },
        "id": "26OEUJKWAE0l",
        "outputId": "6113569b-c262-49ee-bd0f-f069c1b8c4b5"
      },
      "execution_count": null,
      "outputs": [
        {
          "output_type": "error",
          "ename": "TypeError",
          "evalue": "ignored",
          "traceback": [
            "\u001b[0;31m---------------------------------------------------------------------------\u001b[0m",
            "\u001b[0;31mTypeError\u001b[0m                                 Traceback (most recent call last)",
            "\u001b[0;32m<ipython-input-32-cdf59db9f2b7>\u001b[0m in \u001b[0;36m<cell line: 2>\u001b[0;34m()\u001b[0m\n\u001b[1;32m      1\u001b[0m \u001b[0mlist1\u001b[0m \u001b[0;34m=\u001b[0m \u001b[0;34m[\u001b[0m\u001b[0;36m1\u001b[0m\u001b[0;34m,\u001b[0m \u001b[0;34m'a'\u001b[0m\u001b[0;34m,\u001b[0m \u001b[0;34m'c'\u001b[0m\u001b[0;34m]\u001b[0m\u001b[0;34m\u001b[0m\u001b[0;34m\u001b[0m\u001b[0m\n\u001b[0;32m----> 2\u001b[0;31m \u001b[0msorted\u001b[0m\u001b[0;34m(\u001b[0m\u001b[0mlist1\u001b[0m\u001b[0;34m)\u001b[0m\u001b[0;34m\u001b[0m\u001b[0;34m\u001b[0m\u001b[0m\n\u001b[0m",
            "\u001b[0;31mTypeError\u001b[0m: '<' not supported between instances of 'str' and 'int'"
          ]
        }
      ]
    },
    {
      "cell_type": "code",
      "source": [
        "list1 = ['1', 'a', 'c']\n",
        "sorted(list1)"
      ],
      "metadata": {
        "colab": {
          "base_uri": "https://localhost:8080/"
        },
        "id": "lNADtSmM_kfV",
        "outputId": "6d2c6837-8304-4c7f-fe21-2c73fe27fc77"
      },
      "execution_count": null,
      "outputs": [
        {
          "output_type": "execute_result",
          "data": {
            "text/plain": [
              "['1', 'a', 'c']"
            ]
          },
          "metadata": {},
          "execution_count": 30
        }
      ]
    },
    {
      "cell_type": "code",
      "source": [
        "list1 = [1, 'a', 'c']\n",
        "sorted(list1, key = lambda x: str(x), reverse = True)"
      ],
      "metadata": {
        "colab": {
          "base_uri": "https://localhost:8080/"
        },
        "id": "hNiwD0mVABZK",
        "outputId": "fc6f2903-95e0-4dc2-c9b1-f96022343fec"
      },
      "execution_count": null,
      "outputs": [
        {
          "output_type": "execute_result",
          "data": {
            "text/plain": [
              "['c', 'a', 1]"
            ]
          },
          "metadata": {},
          "execution_count": 39
        }
      ]
    },
    {
      "cell_type": "code",
      "source": [
        "list1 = [(1,10), (5,3), (1,5)]\n",
        "\n",
        "max(list1)"
      ],
      "metadata": {
        "colab": {
          "base_uri": "https://localhost:8080/"
        },
        "id": "0iLbc8WHAXNS",
        "outputId": "8784bd44-4a84-4bb1-e5f9-b0e878811a7a"
      },
      "execution_count": null,
      "outputs": [
        {
          "output_type": "execute_result",
          "data": {
            "text/plain": [
              "(5, 3)"
            ]
          },
          "metadata": {},
          "execution_count": 36
        }
      ]
    },
    {
      "cell_type": "code",
      "source": [
        "list1 = [(1,10), (1,3), (1,5)]\n",
        "\n",
        "max(list1, key = lambda x : sum(x))"
      ],
      "metadata": {
        "colab": {
          "base_uri": "https://localhost:8080/"
        },
        "id": "RWHJDPSL_yEq",
        "outputId": "8f1dd3b3-1bc7-4a9c-a59a-031558e35409"
      },
      "execution_count": null,
      "outputs": [
        {
          "output_type": "execute_result",
          "data": {
            "text/plain": [
              "(1, 10)"
            ]
          },
          "metadata": {},
          "execution_count": 38
        }
      ]
    },
    {
      "cell_type": "code",
      "source": [
        "help(max)"
      ],
      "metadata": {
        "colab": {
          "base_uri": "https://localhost:8080/"
        },
        "id": "CilddDBzAwfg",
        "outputId": "d8523bf4-d084-4f6d-b1c1-10415058afef"
      },
      "execution_count": null,
      "outputs": [
        {
          "output_type": "stream",
          "name": "stdout",
          "text": [
            "Help on built-in function max in module builtins:\n",
            "\n",
            "max(...)\n",
            "    max(iterable, *[, default=obj, key=func]) -> value\n",
            "    max(arg1, arg2, *args, *[, key=func]) -> value\n",
            "    \n",
            "    With a single iterable argument, return its biggest item. The\n",
            "    default keyword-only argument specifies an object to return if\n",
            "    the provided iterable is empty.\n",
            "    With two or more arguments, return the largest argument.\n",
            "\n"
          ]
        }
      ]
    },
    {
      "cell_type": "code",
      "source": [
        "help(sorted)"
      ],
      "metadata": {
        "colab": {
          "base_uri": "https://localhost:8080/"
        },
        "id": "oWD4tCTKBFtQ",
        "outputId": "0d4bcf94-92d9-41ee-84d4-137b07aad154"
      },
      "execution_count": null,
      "outputs": [
        {
          "output_type": "stream",
          "name": "stdout",
          "text": [
            "Help on built-in function sorted in module builtins:\n",
            "\n",
            "sorted(iterable, /, *, key=None, reverse=False)\n",
            "    Return a new list containing all items from the iterable in ascending order.\n",
            "    \n",
            "    A custom key function can be supplied to customize the sort order, and the\n",
            "    reverse flag can be set to request the result in descending order.\n",
            "\n"
          ]
        }
      ]
    },
    {
      "cell_type": "code",
      "source": [
        "var=1\n",
        "def ML():\n",
        "     print(\"Inside ML:\", var, end=\" \")\n",
        "\n",
        "def AI():\n",
        "     var=2\n",
        "     print(\"Inside AI:\", var, end=\" \")\n",
        "\n",
        "def DL():\n",
        "     global var\n",
        "     var =3\n",
        "     print(\"Inside DL:\",  var, end=\" \")\n",
        "ML()\n",
        "print(var, end=\" \")\n"
      ],
      "metadata": {
        "colab": {
          "base_uri": "https://localhost:8080/"
        },
        "id": "pljfHax6BKBm",
        "outputId": "65c39a05-efea-45ac-fdd9-a7f17fdd8036"
      },
      "execution_count": null,
      "outputs": [
        {
          "output_type": "stream",
          "name": "stdout",
          "text": [
            "Inside ML: 1 1 "
          ]
        }
      ]
    },
    {
      "cell_type": "code",
      "source": [
        "AI()\n",
        "print(var, end=\" \")\n"
      ],
      "metadata": {
        "colab": {
          "base_uri": "https://localhost:8080/"
        },
        "id": "vghTFvCpB8XS",
        "outputId": "893f7b25-bcaf-4d37-c0e6-cba9ac9928a1"
      },
      "execution_count": null,
      "outputs": [
        {
          "output_type": "stream",
          "name": "stdout",
          "text": [
            "Inside AI: 2 1 "
          ]
        }
      ]
    },
    {
      "cell_type": "code",
      "source": [
        "DL()\n",
        "print(var, end=\" \")"
      ],
      "metadata": {
        "colab": {
          "base_uri": "https://localhost:8080/"
        },
        "id": "xyGLUBCuCC47",
        "outputId": "88ae141f-c516-4a50-d1cf-6e6972b539c5"
      },
      "execution_count": null,
      "outputs": [
        {
          "output_type": "stream",
          "name": "stdout",
          "text": [
            "Inside DL: 3 3 "
          ]
        }
      ]
    },
    {
      "cell_type": "code",
      "source": [
        "arr = [[1,2,3],[10,11,12],[4,5,6],[13,14,15],[10,1,2,100, 1002]]\n",
        "\n",
        "print(max (arr, key=sum ) )"
      ],
      "metadata": {
        "colab": {
          "base_uri": "https://localhost:8080/"
        },
        "id": "GdpH7S2ACIUb",
        "outputId": "9a7040d1-524b-4aef-a3b3-18b9f3e7c2a9"
      },
      "execution_count": null,
      "outputs": [
        {
          "output_type": "stream",
          "name": "stdout",
          "text": [
            "[10, 1, 2, 100, 1002]\n"
          ]
        }
      ]
    },
    {
      "cell_type": "markdown",
      "source": [
        "Homework find maximum values based on product of tuple:\n",
        "\n",
        "- input1: arr = [[1,2,3],[10,11,12],[4,5,6],[13,14,15],[10,1,2]]\n",
        "\n",
        "- input2: arr = [[1,2,3],[10,11,12],[4,5,6],[13,14,15, 100],[10,1]]"
      ],
      "metadata": {
        "id": "xxxcuL5JCqFB"
      }
    },
    {
      "cell_type": "code",
      "source": [
        "def unknown(string):\n",
        "\n",
        "    a = set(string.split())# remove dupplicate char\n",
        "\n",
        "    a=\"\".join(a)\n",
        "    print(a)\n",
        "\n",
        "unknown('Worlld')"
      ],
      "metadata": {
        "id": "eqjVKFhlCTGj",
        "colab": {
          "base_uri": "https://localhost:8080/"
        },
        "outputId": "d56c7268-3bce-4458-f3f7-45d358819cbe"
      },
      "execution_count": 53,
      "outputs": [
        {
          "output_type": "stream",
          "name": "stdout",
          "text": [
            "Worlld\n"
          ]
        }
      ]
    },
    {
      "cell_type": "markdown",
      "source": [
        "### HW: Preserve Order"
      ],
      "metadata": {
        "id": "OvuBdnP6KrnH"
      }
    },
    {
      "cell_type": "code",
      "source": [
        "\"World\".split()"
      ],
      "metadata": {
        "colab": {
          "base_uri": "https://localhost:8080/"
        },
        "id": "zZi4isduKf2M",
        "outputId": "e0bfadcb-c0dd-4a5c-c06d-fe53db7dfa10"
      },
      "execution_count": 56,
      "outputs": [
        {
          "output_type": "execute_result",
          "data": {
            "text/plain": [
              "['World']"
            ]
          },
          "metadata": {},
          "execution_count": 56
        }
      ]
    },
    {
      "cell_type": "code",
      "source": [
        "list1 = [1,2,3,4,5]\n",
        "list1[0:3] = [1]*3"
      ],
      "metadata": {
        "id": "GgX1XUSMK6Ft"
      },
      "execution_count": 60,
      "outputs": []
    },
    {
      "cell_type": "code",
      "source": [],
      "metadata": {
        "id": "CZbbbKEOOr3-"
      },
      "execution_count": 60,
      "outputs": []
    },
    {
      "cell_type": "code",
      "source": [
        "def f():\n",
        "  ans = 0\n",
        "  for i in range(1,n+1):\n",
        "    for j in range(i,n+1,i): # n\n",
        "      ans += 1 # \n",
        "  print(ans) "
      ],
      "metadata": {
        "id": "gXvsAAi1Ow7V"
      },
      "execution_count": null,
      "outputs": []
    },
    {
      "cell_type": "code",
      "source": [
        "i,j,k,p,q = 0\n",
        "for i in range(n):\n",
        "  p = 0\n",
        "  j = n # n\n",
        "  while(j>1): # log n\n",
        "    p+=1 # log n\n",
        "    k = 1 # log n\n",
        "    while(k<p): # log(log(n))\n",
        "      q+=1\n",
        "      k *=2 \n",
        "    j = j/2"
      ],
      "metadata": {
        "id": "TVoIcPfwSc0H"
      },
      "execution_count": null,
      "outputs": []
    },
    {
      "cell_type": "code",
      "source": [
        "# linear = 10,00,000\n",
        "\n",
        "import math\n",
        "math.log(100000000000 , 2)"
      ],
      "metadata": {
        "colab": {
          "base_uri": "https://localhost:8080/"
        },
        "id": "6B6UzZllVfik",
        "outputId": "8c2fe947-4d2d-4c35-dc03-4831b73ff66a"
      },
      "execution_count": 63,
      "outputs": [
        {
          "output_type": "execute_result",
          "data": {
            "text/plain": [
              "36.541209043760986"
            ]
          },
          "metadata": {},
          "execution_count": 63
        }
      ]
    },
    {
      "cell_type": "code",
      "source": [],
      "metadata": {
        "id": "0aOjcecmVoHf"
      },
      "execution_count": null,
      "outputs": []
    }
  ]
}