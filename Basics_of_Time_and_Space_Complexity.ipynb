{
  "nbformat": 4,
  "nbformat_minor": 0,
  "metadata": {
    "colab": {
      "provenance": [],
      "authorship_tag": "ABX9TyNf9DkUWF/dxqvCrldWbfzq",
      "include_colab_link": true
    },
    "kernelspec": {
      "name": "python3",
      "display_name": "Python 3"
    },
    "language_info": {
      "name": "python"
    }
  },
  "cells": [
    {
      "cell_type": "markdown",
      "metadata": {
        "id": "view-in-github",
        "colab_type": "text"
      },
      "source": [
        "<a href=\"https://colab.research.google.com/github/SachinScaler/dsml-apr-23-advanced-batch/blob/main/Basics_of_Time_and_Space_Complexity.ipynb\" target=\"_parent\"><img src=\"https://colab.research.google.com/assets/colab-badge.svg\" alt=\"Open In Colab\"/></a>"
      ]
    },
    {
      "cell_type": "code",
      "execution_count": null,
      "metadata": {
        "id": "jH7I14vTbnco"
      },
      "outputs": [],
      "source": [
        "def foo(n):\n",
        "    x = 1 # 1\n",
        "    y =1 # 1\n",
        "    z= 1 # 1\n",
        "    print(n) #1 \n",
        "\n",
        "foo(10000)"
      ]
    },
    {
      "cell_type": "markdown",
      "source": [
        "- o(1)--> Constant Time\n",
        "-  as number of ops are independent of n"
      ],
      "metadata": {
        "id": "3cQFJhL9fpfh"
      }
    },
    {
      "cell_type": "code",
      "source": [
        "def foo(n):\n",
        "    for i in range(n): #(1)\n",
        "        print(i) # n\n",
        "    y =1 # 1\n",
        "    z= 1 # 1\n",
        "    print(n) #1 \n",
        "\n",
        "foo(10000)"
      ],
      "metadata": {
        "id": "M5-sQIwYfo65"
      },
      "execution_count": null,
      "outputs": []
    },
    {
      "cell_type": "markdown",
      "source": [
        "- 1+1+1+1+n -> 4 + n\n",
        "- n + 4n^0\n",
        "- O(n)--> Linear Time Complexity\n",
        "\n"
      ],
      "metadata": {
        "id": "qbE6LClxgE-Y"
      }
    },
    {
      "cell_type": "code",
      "source": [
        "for i in range(n) # 1\n",
        "        print(i) # n\n",
        "\n",
        "for j in range(n): # 1\n",
        "        print(j) #n\n"
      ],
      "metadata": {
        "id": "dO_TBbeTgEen"
      },
      "execution_count": null,
      "outputs": []
    },
    {
      "cell_type": "markdown",
      "source": [
        "n+n+1+1-> 2n+2--> 2n\n",
        "--> O(n): Linear "
      ],
      "metadata": {
        "id": "C_cP18sCgsbh"
      }
    },
    {
      "cell_type": "code",
      "source": [
        "n = 2\n",
        "for i in range(n): #1\n",
        "    print(\"Hello\") # n times\n",
        "    for j in range(n): # n \n",
        "        print(\"World\") #  n**2"
      ],
      "metadata": {
        "colab": {
          "base_uri": "https://localhost:8080/"
        },
        "id": "1o9TH7VNgrvk",
        "outputId": "f57667e4-6f60-4d4a-9099-db6fd78e146f"
      },
      "execution_count": 3,
      "outputs": [
        {
          "output_type": "stream",
          "name": "stdout",
          "text": [
            "Hello\n",
            "World\n",
            "World\n",
            "Hello\n",
            "World\n",
            "World\n"
          ]
        }
      ]
    },
    {
      "cell_type": "markdown",
      "source": [
        "- n**2+n+n+1-> n^2\n",
        "- O(n^2)\n"
      ],
      "metadata": {
        "id": "D4p2LVq1hnRd"
      }
    },
    {
      "cell_type": "code",
      "source": [
        "n = 2\n",
        "for i in range(n): #1\n",
        "    print(\"Hello\") # n times\n",
        "    for j in range(n): # n \n",
        "        print(\"World\") #  n**2\n",
        "\n",
        "for i in range(n): #1\n",
        "    print(\"Hello\") # n times\n",
        "    for j in range(n): # n \n",
        "        print(\"World\") #  n**2\n"
      ],
      "metadata": {
        "id": "DzGvAgV4hmyZ"
      },
      "execution_count": null,
      "outputs": []
    },
    {
      "cell_type": "code",
      "source": [
        "n = 10 # --> 10*(10+1)/2-->55\n",
        "for i in range(n): #1\n",
        "    for j in range(i): # n \n",
        "        print(j) # 0 +1+2+3+4-----+n> n ---> n*(n+1)/2\n"
      ],
      "metadata": {
        "id": "HQxDq58nhhqw"
      },
      "execution_count": null,
      "outputs": []
    },
    {
      "cell_type": "markdown",
      "source": [
        "1+n+n*(n+1)/2--> 1+n + (n^2)/2 + n/2  \n",
        "--> (n^2)/2--> O(n^2)"
      ],
      "metadata": {
        "id": "Vjde9GZKlSfA"
      }
    },
    {
      "cell_type": "markdown",
      "source": [],
      "metadata": {
        "id": "ciQaBrCxmbTu"
      }
    },
    {
      "cell_type": "code",
      "source": [
        "for i in range((n)): # 1\n",
        "    for j in range(0,n,n//2): # n\n",
        "            break # 1\n",
        "for k in range((n)): # 1\n",
        "        print(k) # n\n",
        "        "
      ],
      "metadata": {
        "id": "imDcS9S6mdiu"
      },
      "execution_count": null,
      "outputs": []
    },
    {
      "cell_type": "markdown",
      "source": [
        "o(n)"
      ],
      "metadata": {
        "id": "cCNe_rAfmwuU"
      }
    },
    {
      "cell_type": "code",
      "source": [
        "n = 5\n",
        "for i in range((n)): # 1\n",
        "    for j in range(0,n,n//2): # n\n",
        "            print(j) # 2n\n",
        "for k in range((n)):\n",
        "        print(k)"
      ],
      "metadata": {
        "colab": {
          "base_uri": "https://localhost:8080/"
        },
        "id": "_TzB60hYmv9O",
        "outputId": "7625ca4d-f47e-43bc-c435-8f9ebc422ad9"
      },
      "execution_count": 9,
      "outputs": [
        {
          "output_type": "stream",
          "name": "stdout",
          "text": [
            "0\n",
            "2\n",
            "4\n",
            "0\n",
            "2\n",
            "4\n",
            "0\n",
            "2\n",
            "4\n",
            "0\n",
            "2\n",
            "4\n",
            "0\n",
            "2\n",
            "4\n",
            "0\n",
            "1\n",
            "2\n",
            "3\n",
            "4\n"
          ]
        }
      ]
    },
    {
      "cell_type": "markdown",
      "source": [
        "O(n)"
      ],
      "metadata": {
        "id": "nQ8si5ITnpse"
      }
    },
    {
      "cell_type": "code",
      "source": [],
      "metadata": {
        "id": "upkwR_6lnpBA"
      },
      "execution_count": null,
      "outputs": []
    },
    {
      "cell_type": "code",
      "source": [
        "n  =100\n",
        "for j in range(0,n,n//2): # n\n",
        "            print(j) # "
      ],
      "metadata": {
        "colab": {
          "base_uri": "https://localhost:8080/"
        },
        "id": "HRUfCWMOnM7R",
        "outputId": "01a7f046-c5da-4990-a74e-ee4b6fdeffb6"
      },
      "execution_count": 5,
      "outputs": [
        {
          "output_type": "stream",
          "name": "stdout",
          "text": [
            "0\n",
            "50\n"
          ]
        }
      ]
    },
    {
      "cell_type": "code",
      "source": [
        "100/2"
      ],
      "metadata": {
        "colab": {
          "base_uri": "https://localhost:8080/"
        },
        "id": "kXZvn8AmnNVT",
        "outputId": "863c7c2e-89f0-411c-d17d-d211ee76b081"
      },
      "execution_count": 6,
      "outputs": [
        {
          "output_type": "execute_result",
          "data": {
            "text/plain": [
              "50.0"
            ]
          },
          "metadata": {},
          "execution_count": 6
        }
      ]
    },
    {
      "cell_type": "code",
      "source": [
        "def funct(n):\n",
        "    for i in range(int(n**0.3)):\n",
        "        print(i) # n^0.3--> cuberoot\n",
        "\n",
        "n = 81\n",
        "funct(n)"
      ],
      "metadata": {
        "colab": {
          "base_uri": "https://localhost:8080/"
        },
        "id": "jhuKGHESndfp",
        "outputId": "ea15a21d-40fd-4751-821f-b16ae6a2e1d3"
      },
      "execution_count": 11,
      "outputs": [
        {
          "output_type": "stream",
          "name": "stdout",
          "text": [
            "0\n",
            "1\n",
            "2\n"
          ]
        }
      ]
    },
    {
      "cell_type": "code",
      "source": [
        "# n^n --> n ^2n ---> n^2 --> n^4"
      ],
      "metadata": {
        "id": "fTHknDr8oH_w"
      },
      "execution_count": null,
      "outputs": []
    },
    {
      "cell_type": "code",
      "source": [
        "n, logn, n^2, n^n, 2^n"
      ],
      "metadata": {
        "id": "SGV0cFn9o3rZ"
      },
      "execution_count": null,
      "outputs": []
    },
    {
      "cell_type": "markdown",
      "source": [
        "HW: \n",
        "\n",
        "```\n",
        "for i in range(n):\n",
        "  while i>0:\n",
        "      print(i)\n",
        "      i-=1\n",
        "\n",
        "```"
      ],
      "metadata": {
        "id": "DF71syCKsbR2"
      }
    },
    {
      "cell_type": "code",
      "source": [
        "def func(n):\n",
        "    while n>0:\n",
        "        n=n//2   # 4, 2, 1, 0\n",
        "        print(\"n\")\n",
        "\n",
        "n = 16 #-->2^i +1 -- 2^4+1\n",
        "func(n)"
      ],
      "metadata": {
        "colab": {
          "base_uri": "https://localhost:8080/"
        },
        "id": "O78R8_C-sayl",
        "outputId": "dc30d546-ba36-4b31-be92-b57bfc126762"
      },
      "execution_count": 16,
      "outputs": [
        {
          "output_type": "stream",
          "name": "stdout",
          "text": [
            "n\n",
            "n\n",
            "n\n",
            "n\n",
            "n\n"
          ]
        }
      ]
    },
    {
      "cell_type": "markdown",
      "source": [
        "logn+1--> log n"
      ],
      "metadata": {
        "id": "zQnpnOa0uUbE"
      }
    },
    {
      "cell_type": "code",
      "source": [],
      "metadata": {
        "id": "0ayz1K5ouToM"
      },
      "execution_count": null,
      "outputs": []
    },
    {
      "cell_type": "code",
      "source": [],
      "metadata": {
        "id": "MbkJjX81uSix"
      },
      "execution_count": null,
      "outputs": []
    },
    {
      "cell_type": "code",
      "source": [],
      "metadata": {
        "id": "-egUjj8Bs-ag"
      },
      "execution_count": null,
      "outputs": []
    },
    {
      "cell_type": "markdown",
      "source": [
        "\n",
        "### HW: Linear Search and Binary Search and compare time complexity\n",
        "\n",
        "#### list1 = [1,2,34,67,88,800]\n",
        "#### find the index of element a\n",
        "```\n",
        "input = 34\n",
        "output = 2\n",
        "```"
      ],
      "metadata": {
        "id": "ek6O39eAvYlk"
      }
    },
    {
      "cell_type": "code",
      "source": [
        "def func(n):\n",
        "    for i in range(n):\n",
        "        j= n # o(n)\n",
        "        while j<0: \n",
        "            j=j//2  \n",
        "            print(\"n\")\n",
        "func(100)"
      ],
      "metadata": {
        "id": "bGmpr04gvlr8"
      },
      "execution_count": 18,
      "outputs": []
    },
    {
      "cell_type": "markdown",
      "source": [
        "O(n)"
      ],
      "metadata": {
        "id": "Ak3NQp7lxAuY"
      }
    },
    {
      "cell_type": "code",
      "source": [
        "def factorial(x):\n",
        "    if x == 1:\n",
        "        return 1\n",
        "    else:\n",
        "        return (x * factorial(x-1))"
      ],
      "metadata": {
        "id": "plGZiB94xACR"
      },
      "execution_count": null,
      "outputs": []
    },
    {
      "cell_type": "code",
      "source": [
        "# method 1: frequency\n",
        "\n",
        "def count_frequency(list1):\n",
        "    for i in list1:\n",
        "        print(i, \":\", list1.count(i))\n",
        "\n",
        "\n",
        "list1 = [ 2,3,1,3,2,5,1,2,4,5,5]\n",
        "count_frequency(list1)"
      ],
      "metadata": {
        "colab": {
          "base_uri": "https://localhost:8080/"
        },
        "id": "hBwbwpYWwlFZ",
        "outputId": "37ee02f7-e4c1-4e11-a43d-486597035e55"
      },
      "execution_count": 20,
      "outputs": [
        {
          "output_type": "stream",
          "name": "stdout",
          "text": [
            "2 : 3\n",
            "3 : 2\n",
            "1 : 2\n",
            "3 : 2\n",
            "2 : 3\n",
            "5 : 3\n",
            "1 : 2\n",
            "2 : 3\n",
            "4 : 1\n",
            "5 : 3\n",
            "5 : 3\n"
          ]
        }
      ]
    },
    {
      "cell_type": "markdown",
      "source": [
        "- space - > O(1)\n",
        "- TC - > n^^2"
      ],
      "metadata": {
        "id": "XiqNdBXSzdAw"
      }
    },
    {
      "cell_type": "code",
      "source": [
        "# method 2: frequency with set\n",
        "\n",
        "def count_frequency(list1):\n",
        "    a = set(list1) # worst case: n, best case 1\n",
        "    for i in a:\n",
        "        print(i, \":\", list1.count(i)) # n\n",
        "\n",
        "\n",
        "list1 = [ 2,3,1,3,2,5,1,2,4,5,5]\n",
        "count_frequency(list1)"
      ],
      "metadata": {
        "colab": {
          "base_uri": "https://localhost:8080/"
        },
        "id": "dCYFW3sbzQgb",
        "outputId": "06351e83-438f-4d3a-a05b-7f975af28fcc"
      },
      "execution_count": 21,
      "outputs": [
        {
          "output_type": "stream",
          "name": "stdout",
          "text": [
            "1 : 2\n",
            "2 : 3\n",
            "3 : 2\n",
            "4 : 1\n",
            "5 : 3\n"
          ]
        }
      ]
    },
    {
      "cell_type": "markdown",
      "source": [
        "SC--> worst Case: o(n)\n",
        "\n",
        "TC -> n^2 \n",
        "\n"
      ],
      "metadata": {
        "id": "WiJexu7Ezt3S"
      }
    },
    {
      "cell_type": "code",
      "source": [
        "list1 = [ 1,2,3,4,5] # set (n)== len(list)--> n\n",
        "list1 = [ 1,1,1,1,1] # set (1) == len(list)--> n \n"
      ],
      "metadata": {
        "id": "QAqofgKBzrpE"
      },
      "execution_count": 22,
      "outputs": []
    },
    {
      "cell_type": "code",
      "source": [
        "# method 3: frequency with dictionary\n",
        "\n",
        "def count_frequency(list1):\n",
        "    a = {} # worst case: n, best case 1\n",
        "    for i in list1:\n",
        "        if i in a: # in operation on dictionary constant time  but on list take o(n)\n",
        "            a[i]+=1\n",
        "        else:\n",
        "            a[i]=1\n",
        "\n",
        "    print(a)\n",
        "\n",
        "\n",
        "list1 = [ 2,3,1,3,2,5,1,2,4,5,5]\n",
        "count_frequency(list1)"
      ],
      "metadata": {
        "colab": {
          "base_uri": "https://localhost:8080/"
        },
        "id": "BjkfO-5008e3",
        "outputId": "f05bce10-e1dd-456c-8090-a8ac847a03ac"
      },
      "execution_count": 24,
      "outputs": [
        {
          "output_type": "stream",
          "name": "stdout",
          "text": [
            "{2: 3, 3: 2, 1: 2, 5: 3, 4: 1}\n"
          ]
        }
      ]
    },
    {
      "cell_type": "markdown",
      "source": [
        "- TC: o(n)\n",
        "- SC: o(n)\n"
      ],
      "metadata": {
        "id": "pJnT3bh31k5B"
      }
    },
    {
      "cell_type": "code",
      "source": [],
      "metadata": {
        "id": "0xoxH9x21j_u"
      },
      "execution_count": null,
      "outputs": []
    },
    {
      "cell_type": "markdown",
      "source": [
        "TC: "
      ],
      "metadata": {
        "id": "lZG9R3rX1UZ_"
      }
    },
    {
      "cell_type": "code",
      "source": [
        "def getfibonacci(n):\n",
        "    if n<=0:\n",
        "        return 0\n",
        "\n",
        "    if (n == 1 or n == 2):\n",
        "        return 1\n",
        " \n",
        "    else:\n",
        "        return getfibonacci(n-1) + getfibonacci(n-2)\n",
        "getfibonacci(6)"
      ],
      "metadata": {
        "id": "Yf4_ayVg1Tla"
      },
      "execution_count": null,
      "outputs": []
    },
    {
      "cell_type": "markdown",
      "source": [
        "TC - > 2^n"
      ],
      "metadata": {
        "id": "zwGSxXZ22OhD"
      }
    },
    {
      "cell_type": "code",
      "source": [],
      "metadata": {
        "id": "46diDA272NVS"
      },
      "execution_count": null,
      "outputs": []
    },
    {
      "cell_type": "code",
      "source": [
        "|"
      ],
      "metadata": {
        "id": "qq3cf8Gz1Q0N"
      },
      "execution_count": null,
      "outputs": []
    }
  ]
}