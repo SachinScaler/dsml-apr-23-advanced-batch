{
  "nbformat": 4,
  "nbformat_minor": 0,
  "metadata": {
    "colab": {
      "provenance": [],
      "authorship_tag": "ABX9TyPxWC+IF87nNXOuiUS7nGuy",
      "include_colab_link": true
    },
    "kernelspec": {
      "name": "python3",
      "display_name": "Python 3"
    },
    "language_info": {
      "name": "python"
    }
  },
  "cells": [
    {
      "cell_type": "markdown",
      "metadata": {
        "id": "view-in-github",
        "colab_type": "text"
      },
      "source": [
        "<a href=\"https://colab.research.google.com/github/SachinScaler/dsml-apr-23-advanced-batch/blob/main/OOP_Part2.ipynb\" target=\"_parent\"><img src=\"https://colab.research.google.com/assets/colab-badge.svg\" alt=\"Open In Colab\"/></a>"
      ]
    },
    {
      "cell_type": "code",
      "execution_count": 2,
      "metadata": {
        "colab": {
          "base_uri": "https://localhost:8080/"
        },
        "id": "P9pttuKZaTRC",
        "outputId": "6fb6f283-73f2-4208-a9df-b5f648d75c05"
      },
      "outputs": [
        {
          "output_type": "stream",
          "name": "stdout",
          "text": [
            "False\n"
          ]
        }
      ],
      "source": [
        "class A:\n",
        "    def __init__(self, name):\n",
        "        self.name = name\n",
        "    \n",
        "a1 = A(\"Bubli\")\n",
        "a2 = A(\"Bunty\")\n",
        "\n",
        "print(id(a1) == id(a2))"
      ]
    },
    {
      "cell_type": "code",
      "source": [
        "class A:\n",
        "    def __init__(self, name):\n",
        "        self.name = name\n",
        "    \n",
        "a1 = A(\"Bunty\")\n",
        "a2 = A(\"Bunty\")\n",
        "\n",
        "print(id(a1) == id(a2))"
      ],
      "metadata": {
        "colab": {
          "base_uri": "https://localhost:8080/"
        },
        "id": "8GW-N-XYaaZa",
        "outputId": "393d67cd-ad67-4b53-9b7c-476c03ce5334"
      },
      "execution_count": 3,
      "outputs": [
        {
          "output_type": "stream",
          "name": "stdout",
          "text": [
            "False\n"
          ]
        }
      ]
    },
    {
      "cell_type": "code",
      "source": [
        "class Random:\n",
        "    def __init__(self, a = \"default value stored!\"):\n",
        "        self.a = a\n",
        " \n",
        "    def display(self):\n",
        "        print(self.a)\n",
        "        \n",
        "r = Random()\n",
        "r.display()"
      ],
      "metadata": {
        "colab": {
          "base_uri": "https://localhost:8080/"
        },
        "id": "4mtN4vNtgZRf",
        "outputId": "81434f6b-69f8-4d58-ddc5-b401a139094e"
      },
      "execution_count": 4,
      "outputs": [
        {
          "output_type": "stream",
          "name": "stdout",
          "text": [
            "default value stored!\n"
          ]
        }
      ]
    },
    {
      "cell_type": "code",
      "source": [
        "class Random:\n",
        "    def __init__(self, a = \"default value stored!\"):\n",
        "        self.a = a\n",
        " \n",
        "    def display(self):\n",
        "        print(self.a)\n",
        "        \n",
        "r = Random(\"Hello How are you\")\n",
        "r.display()"
      ],
      "metadata": {
        "colab": {
          "base_uri": "https://localhost:8080/"
        },
        "id": "GhsutWZ5guGI",
        "outputId": "b40991ff-51bc-4ba4-b1f7-ab2eade3216e"
      },
      "execution_count": 5,
      "outputs": [
        {
          "output_type": "stream",
          "name": "stdout",
          "text": [
            "Hello How are you\n"
          ]
        }
      ]
    },
    {
      "cell_type": "code",
      "source": [
        "class A:\n",
        "    counter = 0 # class Variable\n",
        "    def __init__(self):\n",
        "      A.counter+=1\n",
        "\n",
        "A() # object 1\n",
        "\n",
        "obj1 = A() # object 2\n",
        "\n",
        "if A(): # object 3\n",
        "    print(A.counter)"
      ],
      "metadata": {
        "colab": {
          "base_uri": "https://localhost:8080/"
        },
        "id": "VrkCq8Dtg02_",
        "outputId": "d04c0819-49fd-4fc6-ebb2-2fa1df8e228e"
      },
      "execution_count": 10,
      "outputs": [
        {
          "output_type": "stream",
          "name": "stdout",
          "text": [
            "3\n"
          ]
        }
      ]
    },
    {
      "cell_type": "code",
      "source": [
        "class A:\n",
        "    counter = 0 # class Variable\n",
        "    def __init__(self):\n",
        "      A.counter+=1\n",
        "\n",
        "A() # object 1\n",
        "\n",
        "obj1 = A() # object 2\n",
        "\n",
        "if A(): # object 3\n",
        "    print(obj1.counter)"
      ],
      "metadata": {
        "colab": {
          "base_uri": "https://localhost:8080/"
        },
        "id": "QJBN7K6-iVoq",
        "outputId": "428fd0fb-53dd-44d9-fbfa-bc38c0e85f74"
      },
      "execution_count": 11,
      "outputs": [
        {
          "output_type": "stream",
          "name": "stdout",
          "text": [
            "3\n"
          ]
        }
      ]
    },
    {
      "cell_type": "code",
      "source": [
        "class A:\n",
        "    counter= 0\n",
        "    def __init__(self):\n",
        "      print(\"Object Created\")\n",
        "\n",
        "A()\n",
        "if A():\n",
        "    print(A.counter)"
      ],
      "metadata": {
        "colab": {
          "base_uri": "https://localhost:8080/"
        },
        "id": "InwqocwXhE6g",
        "outputId": "88978eb8-e10b-4403-dcae-51b797e36b9b"
      },
      "execution_count": 8,
      "outputs": [
        {
          "output_type": "stream",
          "name": "stdout",
          "text": [
            "Object Created\n",
            "Object Created\n",
            "0\n"
          ]
        }
      ]
    },
    {
      "cell_type": "code",
      "source": [
        "A()"
      ],
      "metadata": {
        "colab": {
          "base_uri": "https://localhost:8080/"
        },
        "id": "k_SY1RbKhmtE",
        "outputId": "b0ff2fde-7a79-40b8-ffcb-91a83844af1c"
      },
      "execution_count": 9,
      "outputs": [
        {
          "output_type": "stream",
          "name": "stdout",
          "text": [
            "Object Created\n"
          ]
        },
        {
          "output_type": "execute_result",
          "data": {
            "text/plain": [
              "<__main__.A at 0x7f9bd20e6da0>"
            ]
          },
          "metadata": {},
          "execution_count": 9
        }
      ]
    },
    {
      "cell_type": "code",
      "source": [
        "class Student:\n",
        "    id = 1000\n",
        "\n",
        "    def __init__(self, name):\n",
        "        self.name = name\n",
        "        self.id = Student.id\n",
        "        Student.id+=1\n",
        "\n",
        "s1 = Student(\"Akshay\")"
      ],
      "metadata": {
        "id": "SZUCD7qqhti-"
      },
      "execution_count": 12,
      "outputs": []
    },
    {
      "cell_type": "code",
      "source": [
        "print(s1) # we are going to change this behaviour"
      ],
      "metadata": {
        "colab": {
          "base_uri": "https://localhost:8080/"
        },
        "id": "SjOeM8Gfi1kp",
        "outputId": "27adb692-78bd-4d5d-ef03-281823662900"
      },
      "execution_count": 13,
      "outputs": [
        {
          "output_type": "stream",
          "name": "stdout",
          "text": [
            "<__main__.Student object at 0x7f9bb9b9fbb0>\n"
          ]
        }
      ]
    },
    {
      "cell_type": "code",
      "source": [
        "print(s1.id)"
      ],
      "metadata": {
        "colab": {
          "base_uri": "https://localhost:8080/"
        },
        "id": "U5zI9E9ni6YS",
        "outputId": "078c14f3-98dd-4b4e-c683-d7c4b224176f"
      },
      "execution_count": 14,
      "outputs": [
        {
          "output_type": "stream",
          "name": "stdout",
          "text": [
            "1000\n"
          ]
        }
      ]
    },
    {
      "cell_type": "code",
      "source": [
        "s2 = Student(\"Tanvi\")"
      ],
      "metadata": {
        "id": "GIGnQjlAjBwa"
      },
      "execution_count": 15,
      "outputs": []
    },
    {
      "cell_type": "code",
      "source": [
        "print(s2.id)"
      ],
      "metadata": {
        "colab": {
          "base_uri": "https://localhost:8080/"
        },
        "id": "00omAblYjF19",
        "outputId": "7f2a2d67-d5ea-44e5-afac-0895faa95cf9"
      },
      "execution_count": 16,
      "outputs": [
        {
          "output_type": "stream",
          "name": "stdout",
          "text": [
            "1001\n"
          ]
        }
      ]
    },
    {
      "cell_type": "code",
      "source": [
        "s3 = Student(\"Akash\")\n",
        "s4 = Student(\"Navin\")"
      ],
      "metadata": {
        "id": "tynZJ8hSjIPJ"
      },
      "execution_count": 17,
      "outputs": []
    },
    {
      "cell_type": "code",
      "source": [
        "Student.id"
      ],
      "metadata": {
        "colab": {
          "base_uri": "https://localhost:8080/"
        },
        "id": "6hqfvpmxjgnD",
        "outputId": "7f83e039-1a57-4dc3-d7dd-ab7b07a79eba"
      },
      "execution_count": 18,
      "outputs": [
        {
          "output_type": "execute_result",
          "data": {
            "text/plain": [
              "1004"
            ]
          },
          "metadata": {},
          "execution_count": 18
        }
      ]
    },
    {
      "cell_type": "code",
      "source": [
        "Student(\"Bader\")"
      ],
      "metadata": {
        "colab": {
          "base_uri": "https://localhost:8080/"
        },
        "id": "ueOhoyT5jRqz",
        "outputId": "5b822541-b90f-4134-c78a-423d562d7580"
      },
      "execution_count": 19,
      "outputs": [
        {
          "output_type": "execute_result",
          "data": {
            "text/plain": [
              "<__main__.Student at 0x7f9bb9b9f190>"
            ]
          },
          "metadata": {},
          "execution_count": 19
        }
      ]
    },
    {
      "cell_type": "code",
      "source": [
        "Student.id"
      ],
      "metadata": {
        "colab": {
          "base_uri": "https://localhost:8080/"
        },
        "id": "HUAqIC0xjl26",
        "outputId": "fe1ead55-2c28-478d-aaef-bc01c2ca9286"
      },
      "execution_count": 20,
      "outputs": [
        {
          "output_type": "execute_result",
          "data": {
            "text/plain": [
              "1005"
            ]
          },
          "metadata": {},
          "execution_count": 20
        }
      ]
    },
    {
      "cell_type": "code",
      "source": [
        "class Car:\n",
        "\n",
        "    def __init__(self, name, mileage, cost):\n",
        "        self.name = name\n",
        "        self.mileage = mileage\n",
        "        self.cost=cost \n",
        "    \n",
        "    # this changes print functionality\n",
        "    def __str__(self):\n",
        "        return f\"Name: {self.name} \\nMileage: {self.mileage}\\nCost: {self.cost}\" \n",
        "\n",
        "    def __lt__(self, other):\n",
        "        return (self.mileage * self.cost)  < (other.mileage * other.cost) # m x c\n",
        "\n",
        "    def __add__(self, other):\n",
        "        return self.cost + other.cost\n",
        "\n",
        "    def __eq__(self, other):\n",
        "        return self.mileage==other.mileage\n",
        "\n",
        "c1 = Car(\"Audi A4\", 10, 35) # dunder"
      ],
      "metadata": {
        "id": "wZ1lviCsjqnD"
      },
      "execution_count": 40,
      "outputs": []
    },
    {
      "cell_type": "code",
      "source": [
        "print(c1)"
      ],
      "metadata": {
        "colab": {
          "base_uri": "https://localhost:8080/"
        },
        "id": "InEbePQcmePE",
        "outputId": "cb579cb2-4b65-4696-b63f-880431cf107f"
      },
      "execution_count": 41,
      "outputs": [
        {
          "output_type": "stream",
          "name": "stdout",
          "text": [
            "Name: Audi A4 \n",
            "Mileage: 10\n",
            "Cost: 35\n"
          ]
        }
      ]
    },
    {
      "cell_type": "code",
      "source": [
        "c2 = Car(\"Tata Punch\", 20, 9) "
      ],
      "metadata": {
        "id": "WBNJMovAmii4"
      },
      "execution_count": 42,
      "outputs": []
    },
    {
      "cell_type": "code",
      "source": [
        "c1<c2"
      ],
      "metadata": {
        "colab": {
          "base_uri": "https://localhost:8080/"
        },
        "id": "ap6ZaTJLnrHP",
        "outputId": "0f0adf33-a734-4b5f-b82a-888912cf1b62"
      },
      "execution_count": 43,
      "outputs": [
        {
          "output_type": "execute_result",
          "data": {
            "text/plain": [
              "False"
            ]
          },
          "metadata": {},
          "execution_count": 43
        }
      ]
    },
    {
      "cell_type": "code",
      "source": [
        "c1+c2"
      ],
      "metadata": {
        "colab": {
          "base_uri": "https://localhost:8080/"
        },
        "id": "NcuHAVfjn8eh",
        "outputId": "741823fb-4cf1-4424-db87-56eaeedeaed0"
      },
      "execution_count": 44,
      "outputs": [
        {
          "output_type": "execute_result",
          "data": {
            "text/plain": [
              "44"
            ]
          },
          "metadata": {},
          "execution_count": 44
        }
      ]
    },
    {
      "cell_type": "code",
      "source": [
        "c1==c2"
      ],
      "metadata": {
        "colab": {
          "base_uri": "https://localhost:8080/"
        },
        "id": "r_kiyBs_pS3v",
        "outputId": "1bfaa873-580d-453f-d08e-71058d9da147"
      },
      "execution_count": 45,
      "outputs": [
        {
          "output_type": "execute_result",
          "data": {
            "text/plain": [
              "False"
            ]
          },
          "metadata": {},
          "execution_count": 45
        }
      ]
    },
    {
      "cell_type": "code",
      "source": [
        "c3= Car(\"i10\", 20, 9) "
      ],
      "metadata": {
        "id": "FN1PI7dSpWiH"
      },
      "execution_count": 46,
      "outputs": []
    },
    {
      "cell_type": "code",
      "source": [
        "c3==c2"
      ],
      "metadata": {
        "colab": {
          "base_uri": "https://localhost:8080/"
        },
        "id": "g7qrHzuFpbnd",
        "outputId": "43cd7352-8484-490b-d6a1-bf5eaec6de5a"
      },
      "execution_count": 47,
      "outputs": [
        {
          "output_type": "execute_result",
          "data": {
            "text/plain": [
              "True"
            ]
          },
          "metadata": {},
          "execution_count": 47
        }
      ]
    },
    {
      "cell_type": "code",
      "source": [
        "dir(Car)"
      ],
      "metadata": {
        "colab": {
          "base_uri": "https://localhost:8080/"
        },
        "id": "2qW51j6JpfAG",
        "outputId": "656886f7-503a-4729-d974-6b99ae5293ac"
      },
      "execution_count": 48,
      "outputs": [
        {
          "output_type": "execute_result",
          "data": {
            "text/plain": [
              "['__add__',\n",
              " '__class__',\n",
              " '__delattr__',\n",
              " '__dict__',\n",
              " '__dir__',\n",
              " '__doc__',\n",
              " '__eq__',\n",
              " '__format__',\n",
              " '__ge__',\n",
              " '__getattribute__',\n",
              " '__gt__',\n",
              " '__hash__',\n",
              " '__init__',\n",
              " '__init_subclass__',\n",
              " '__le__',\n",
              " '__lt__',\n",
              " '__module__',\n",
              " '__ne__',\n",
              " '__new__',\n",
              " '__reduce__',\n",
              " '__reduce_ex__',\n",
              " '__repr__',\n",
              " '__setattr__',\n",
              " '__sizeof__',\n",
              " '__str__',\n",
              " '__subclasshook__',\n",
              " '__weakref__']"
            ]
          },
          "metadata": {},
          "execution_count": 48
        }
      ]
    },
    {
      "cell_type": "markdown",
      "source": [
        "- Polymorphism"
      ],
      "metadata": {
        "id": "HgUa8xVWpuY2"
      }
    },
    {
      "cell_type": "code",
      "source": [
        "1 + 2"
      ],
      "metadata": {
        "colab": {
          "base_uri": "https://localhost:8080/"
        },
        "id": "wG-MOCChpnUo",
        "outputId": "a1637c24-21ee-44f3-a45a-12bf3628e6c3"
      },
      "execution_count": 49,
      "outputs": [
        {
          "output_type": "execute_result",
          "data": {
            "text/plain": [
              "3"
            ]
          },
          "metadata": {},
          "execution_count": 49
        }
      ]
    },
    {
      "cell_type": "code",
      "source": [
        "\"a\" + \"b\""
      ],
      "metadata": {
        "colab": {
          "base_uri": "https://localhost:8080/",
          "height": 36
        },
        "id": "1t8EdNO_p9Gk",
        "outputId": "cb53ec79-7558-402a-f632-9ce083b69f23"
      },
      "execution_count": 50,
      "outputs": [
        {
          "output_type": "execute_result",
          "data": {
            "text/plain": [
              "'ab'"
            ],
            "application/vnd.google.colaboratory.intrinsic+json": {
              "type": "string"
            }
          },
          "metadata": {},
          "execution_count": 50
        }
      ]
    },
    {
      "cell_type": "code",
      "source": [
        "c1 + c2"
      ],
      "metadata": {
        "colab": {
          "base_uri": "https://localhost:8080/"
        },
        "id": "-ZMmTOAtp_x_",
        "outputId": "165216f0-1507-41cd-f842-dfcf86716eb9"
      },
      "execution_count": 51,
      "outputs": [
        {
          "output_type": "execute_result",
          "data": {
            "text/plain": [
              "44"
            ]
          },
          "metadata": {},
          "execution_count": 51
        }
      ]
    },
    {
      "cell_type": "code",
      "source": [
        "class Car:\n",
        "    def drive(self):\n",
        "        print(\"Driving Car\")\n",
        "\n",
        "class Bike:\n",
        "    def drive(self):\n",
        "        print(\"Driving Bike\")\n",
        "\n",
        "c1 = Car()\n",
        "b1 = Bike()"
      ],
      "metadata": {
        "id": "60iFOhOvqHmO"
      },
      "execution_count": 52,
      "outputs": []
    },
    {
      "cell_type": "code",
      "source": [
        "c1.drive()"
      ],
      "metadata": {
        "colab": {
          "base_uri": "https://localhost:8080/"
        },
        "id": "IO-Wh7aAqbdK",
        "outputId": "8b01d8bb-7e8a-4a1c-ec17-b778de6d022e"
      },
      "execution_count": 53,
      "outputs": [
        {
          "output_type": "stream",
          "name": "stdout",
          "text": [
            "Driving Car\n"
          ]
        }
      ]
    },
    {
      "cell_type": "code",
      "source": [
        "b1.drive()"
      ],
      "metadata": {
        "colab": {
          "base_uri": "https://localhost:8080/"
        },
        "id": "Ry7B1ixKqdU_",
        "outputId": "9434a453-edeb-4efe-d245-bd60e393bd8a"
      },
      "execution_count": 54,
      "outputs": [
        {
          "output_type": "stream",
          "name": "stdout",
          "text": [
            "Driving Bike\n"
          ]
        }
      ]
    },
    {
      "cell_type": "code",
      "source": [
        "class A:\n",
        "    counter=0\n",
        "    def __init__(self):\n",
        "      self.counter+=1 # A.counter+=1\n",
        "A()\n",
        "obj1 = A()\n",
        "if A():\n",
        "    print(A.counter)"
      ],
      "metadata": {
        "colab": {
          "base_uri": "https://localhost:8080/"
        },
        "id": "botOrtrYqfRt",
        "outputId": "05f4b3d4-0ce3-460d-efce-799c3c58e276"
      },
      "execution_count": 55,
      "outputs": [
        {
          "output_type": "stream",
          "name": "stdout",
          "text": [
            "0\n"
          ]
        }
      ]
    },
    {
      "cell_type": "code",
      "source": [
        "obj1.counter"
      ],
      "metadata": {
        "colab": {
          "base_uri": "https://localhost:8080/"
        },
        "id": "8vJ76NpyrKN-",
        "outputId": "72774134-3193-4ee0-fe5b-ca88df37aa5b"
      },
      "execution_count": 56,
      "outputs": [
        {
          "output_type": "execute_result",
          "data": {
            "text/plain": [
              "1"
            ]
          },
          "metadata": {},
          "execution_count": 56
        }
      ]
    },
    {
      "cell_type": "code",
      "source": [
        "obj2 = A()\n",
        "obj2.counter"
      ],
      "metadata": {
        "colab": {
          "base_uri": "https://localhost:8080/"
        },
        "id": "2Mcb75F7rP9O",
        "outputId": "f064597d-4a0a-42fc-af4f-b03b55a5d374"
      },
      "execution_count": 57,
      "outputs": [
        {
          "output_type": "execute_result",
          "data": {
            "text/plain": [
              "1"
            ]
          },
          "metadata": {},
          "execution_count": 57
        }
      ]
    },
    {
      "cell_type": "code",
      "source": [
        "obj3 = A()\n",
        "obj3.counter"
      ],
      "metadata": {
        "colab": {
          "base_uri": "https://localhost:8080/"
        },
        "id": "upaFIWOZraaD",
        "outputId": "4d32d0f0-d929-4214-c92e-dbcadf0151b9"
      },
      "execution_count": 58,
      "outputs": [
        {
          "output_type": "execute_result",
          "data": {
            "text/plain": [
              "1"
            ]
          },
          "metadata": {},
          "execution_count": 58
        }
      ]
    },
    {
      "cell_type": "code",
      "source": [
        "# acc_no = 100\n",
        "class MyCustomClass:\n",
        "  def show_id(self):\n",
        "    return id(self)\n",
        "\n",
        "a1 = MyCustomClass()\n",
        "print(id(a1))\n",
        "print(a1.show_id())"
      ],
      "metadata": {
        "colab": {
          "base_uri": "https://localhost:8080/"
        },
        "id": "6blOWH7Vr5pG",
        "outputId": "935a9116-bb46-4236-c8f7-99e6dbeb5508"
      },
      "execution_count": 59,
      "outputs": [
        {
          "output_type": "stream",
          "name": "stdout",
          "text": [
            "140306458735472\n",
            "140306458735472\n"
          ]
        }
      ]
    },
    {
      "cell_type": "code",
      "source": [
        "10:05 :# Inheritance  and Access Specifier"
      ],
      "metadata": {
        "id": "QOdFe9xYsMRu"
      },
      "execution_count": null,
      "outputs": []
    },
    {
      "cell_type": "markdown",
      "source": [
        "### Inheritance"
      ],
      "metadata": {
        "id": "1xD6Y1pPua3r"
      }
    },
    {
      "cell_type": "code",
      "source": [
        "class Parent:\n",
        "    var1 = \"Parent Class Variable\"\n",
        "    def __init__(self):\n",
        "        print(\"Intializer of Parent\")\n",
        "\n",
        "    def method1(self):\n",
        "        print(\"Method in Parent Class\")\n",
        "\n",
        "class Child(Parent): # child is inheriting from Parent\n",
        "    def __init__(self):\n",
        "        print(\"Intializer of Child\")\n",
        "\n",
        "p1 = Parent()"
      ],
      "metadata": {
        "colab": {
          "base_uri": "https://localhost:8080/"
        },
        "id": "qRiQJwRRucFD",
        "outputId": "e274e4e2-e19b-4c19-908a-a8d2dacd7ce3"
      },
      "execution_count": 60,
      "outputs": [
        {
          "output_type": "stream",
          "name": "stdout",
          "text": [
            "Intializer of Parent\n"
          ]
        }
      ]
    },
    {
      "cell_type": "code",
      "source": [
        "c1 = Child()"
      ],
      "metadata": {
        "colab": {
          "base_uri": "https://localhost:8080/"
        },
        "id": "-y_m_f18vMiu",
        "outputId": "f4f540cf-b284-492e-9fe6-3704abc607e5"
      },
      "execution_count": 61,
      "outputs": [
        {
          "output_type": "stream",
          "name": "stdout",
          "text": [
            "Intializer of Child\n"
          ]
        }
      ]
    },
    {
      "cell_type": "code",
      "source": [
        "c1.method1()"
      ],
      "metadata": {
        "colab": {
          "base_uri": "https://localhost:8080/"
        },
        "id": "Qyq4kH_mvSmW",
        "outputId": "8633c865-b2a8-4797-a287-629bfdee7eb2"
      },
      "execution_count": 62,
      "outputs": [
        {
          "output_type": "stream",
          "name": "stdout",
          "text": [
            "Method in Parent Class\n"
          ]
        }
      ]
    },
    {
      "cell_type": "code",
      "source": [
        "c1.var1"
      ],
      "metadata": {
        "colab": {
          "base_uri": "https://localhost:8080/",
          "height": 36
        },
        "id": "nZKa_l--vcdS",
        "outputId": "2d3be036-9fda-472a-b62b-652de80ba79c"
      },
      "execution_count": 64,
      "outputs": [
        {
          "output_type": "execute_result",
          "data": {
            "text/plain": [
              "'Parent Class Variable'"
            ],
            "application/vnd.google.colaboratory.intrinsic+json": {
              "type": "string"
            }
          },
          "metadata": {},
          "execution_count": 64
        }
      ]
    },
    {
      "cell_type": "code",
      "source": [
        "class ScalerMember:\n",
        "    org_name = \"InterviewBIT\"\n",
        "    def __init__(self, name):\n",
        "        self.name = name\n",
        "\n",
        "    def print_org(self):\n",
        "        print(self.org_name)\n",
        "\n",
        "class DSMLearner(ScalerMember):\n",
        "    prog_name = \"DSML\"\n",
        "    def __init__(self, name, grade):\n",
        "        super().__init__(name) # Calls method  of immediate Parent\n",
        "        self.grade=grade\n",
        "\n",
        "    def print_org(self):\n",
        "        super().print_org() # calls immediate parent method\n",
        "        print(self.prog_name)\n",
        "\n",
        "ds1 = DSMLearner(\"Chandra\", 90)"
      ],
      "metadata": {
        "id": "nQLAKcBQvqKr"
      },
      "execution_count": 80,
      "outputs": []
    },
    {
      "cell_type": "code",
      "source": [
        "ds1.name"
      ],
      "metadata": {
        "colab": {
          "base_uri": "https://localhost:8080/",
          "height": 36
        },
        "id": "a78rkPMFw_yc",
        "outputId": "7d11bf87-2b04-4382-f966-de8a22ae705b"
      },
      "execution_count": 81,
      "outputs": [
        {
          "output_type": "execute_result",
          "data": {
            "text/plain": [
              "'Chandra'"
            ],
            "application/vnd.google.colaboratory.intrinsic+json": {
              "type": "string"
            }
          },
          "metadata": {},
          "execution_count": 81
        }
      ]
    },
    {
      "cell_type": "code",
      "source": [
        "ds1.grade"
      ],
      "metadata": {
        "colab": {
          "base_uri": "https://localhost:8080/"
        },
        "id": "PfqKuf1RxC5r",
        "outputId": "ebadf4a6-6fb2-4f0d-a53a-e3bb0b1757d8"
      },
      "execution_count": 82,
      "outputs": [
        {
          "output_type": "execute_result",
          "data": {
            "text/plain": [
              "90"
            ]
          },
          "metadata": {},
          "execution_count": 82
        }
      ]
    },
    {
      "cell_type": "code",
      "source": [
        "ds1.print_org()"
      ],
      "metadata": {
        "colab": {
          "base_uri": "https://localhost:8080/"
        },
        "id": "VJ3r9sgNxGbD",
        "outputId": "780df6c2-4588-4310-cdb6-274fc1ae5d91"
      },
      "execution_count": 83,
      "outputs": [
        {
          "output_type": "stream",
          "name": "stdout",
          "text": [
            "InterviewBIT\n",
            "DSML\n"
          ]
        }
      ]
    },
    {
      "cell_type": "markdown",
      "source": [
        "Method resolution Order:\n",
        "Check in Child First and then goto Parent"
      ],
      "metadata": {
        "id": "WDSsDkNoyo1C"
      }
    },
    {
      "cell_type": "markdown",
      "source": [
        "### ACCESS SPECIFIERS"
      ],
      "metadata": {
        "id": "ev20AiHfy7ew"
      }
    },
    {
      "cell_type": "code",
      "source": [
        "class BankAccount:\n",
        "    def __init__(self, name, balance):\n",
        "        self.name = name\n",
        "        self.balance = balance\n",
        "\n",
        "    def deposit(self, amount):\n",
        "        self.balance+=amount \n",
        "\n",
        "    def show_balance(self):\n",
        "        return self.balance\n",
        "\n",
        "ba1 = BankAccount(\"GOPI\", 10000)"
      ],
      "metadata": {
        "id": "YZPsb2H1yFnc"
      },
      "execution_count": 84,
      "outputs": []
    },
    {
      "cell_type": "code",
      "source": [
        "ba1.name"
      ],
      "metadata": {
        "colab": {
          "base_uri": "https://localhost:8080/",
          "height": 36
        },
        "id": "FbYPVf0czs8E",
        "outputId": "985fb3dc-d3a4-4acb-80a3-aa73cd17467a"
      },
      "execution_count": 85,
      "outputs": [
        {
          "output_type": "execute_result",
          "data": {
            "text/plain": [
              "'GOPI'"
            ],
            "application/vnd.google.colaboratory.intrinsic+json": {
              "type": "string"
            }
          },
          "metadata": {},
          "execution_count": 85
        }
      ]
    },
    {
      "cell_type": "code",
      "source": [
        "ba1.balance"
      ],
      "metadata": {
        "colab": {
          "base_uri": "https://localhost:8080/"
        },
        "id": "U4qoRTDTzvrK",
        "outputId": "2aa3cc35-59b2-4c15-e115-e6ede539995e"
      },
      "execution_count": 86,
      "outputs": [
        {
          "output_type": "execute_result",
          "data": {
            "text/plain": [
              "10000"
            ]
          },
          "metadata": {},
          "execution_count": 86
        }
      ]
    },
    {
      "cell_type": "code",
      "source": [
        "ba1.show_balance()"
      ],
      "metadata": {
        "colab": {
          "base_uri": "https://localhost:8080/"
        },
        "id": "szVjbfobzz31",
        "outputId": "22484afa-0299-4a47-9a95-73b737eb857f"
      },
      "execution_count": 87,
      "outputs": [
        {
          "output_type": "execute_result",
          "data": {
            "text/plain": [
              "10000"
            ]
          },
          "metadata": {},
          "execution_count": 87
        }
      ]
    },
    {
      "cell_type": "code",
      "source": [
        "ba1.balance=100000000000000000000"
      ],
      "metadata": {
        "id": "PfQhTb2Cz4YG"
      },
      "execution_count": 88,
      "outputs": []
    },
    {
      "cell_type": "code",
      "source": [
        "ba1.balance"
      ],
      "metadata": {
        "colab": {
          "base_uri": "https://localhost:8080/"
        },
        "id": "--6Ot42v0BKE",
        "outputId": "1dcbd0c4-fa08-48a5-e280-46b14d04dc63"
      },
      "execution_count": 89,
      "outputs": [
        {
          "output_type": "execute_result",
          "data": {
            "text/plain": [
              "100000000000000000000"
            ]
          },
          "metadata": {},
          "execution_count": 89
        }
      ]
    },
    {
      "cell_type": "code",
      "source": [
        "ba1.show_balance()"
      ],
      "metadata": {
        "colab": {
          "base_uri": "https://localhost:8080/"
        },
        "id": "WfmIyk4c0FhW",
        "outputId": "dd2ba21f-a062-454d-e172-5fcbc72261da"
      },
      "execution_count": 90,
      "outputs": [
        {
          "output_type": "execute_result",
          "data": {
            "text/plain": [
              "100000000000000000000"
            ]
          },
          "metadata": {},
          "execution_count": 90
        }
      ]
    },
    {
      "cell_type": "markdown",
      "source": [
        "Private Variable"
      ],
      "metadata": {
        "id": "Loc1oYep0P4N"
      }
    },
    {
      "cell_type": "code",
      "source": [
        "class BankAccount:\n",
        "    def __init__(self, name, balance):\n",
        "        self.name = name\n",
        "        self.__balance = balance # it's a private variable\n",
        "\n",
        "    def deposit(self, amount):\n",
        "        self.__balance+=amount \n",
        "\n",
        "    def show_balance(self):\n",
        "        return self.__balance # \n",
        "\n",
        "ba1 = BankAccount(\"GOPI\", 10000)"
      ],
      "metadata": {
        "id": "ZnrvV5ry0Pby"
      },
      "execution_count": 101,
      "outputs": []
    },
    {
      "cell_type": "code",
      "source": [
        "ba1.show_balance()"
      ],
      "metadata": {
        "colab": {
          "base_uri": "https://localhost:8080/"
        },
        "id": "UF2-Zl440IxN",
        "outputId": "0cbfd416-3041-4007-8cff-d0c4ea4bac8c"
      },
      "execution_count": 102,
      "outputs": [
        {
          "output_type": "execute_result",
          "data": {
            "text/plain": [
              "10000"
            ]
          },
          "metadata": {},
          "execution_count": 102
        }
      ]
    },
    {
      "cell_type": "code",
      "source": [
        "ba1.__balance"
      ],
      "metadata": {
        "colab": {
          "base_uri": "https://localhost:8080/",
          "height": 167
        },
        "id": "HTSyol7w0eNa",
        "outputId": "6c63834e-4ac3-4396-9d66-164de98f1752"
      },
      "execution_count": 97,
      "outputs": [
        {
          "output_type": "error",
          "ename": "AttributeError",
          "evalue": "ignored",
          "traceback": [
            "\u001b[0;31m---------------------------------------------------------------------------\u001b[0m",
            "\u001b[0;31mAttributeError\u001b[0m                            Traceback (most recent call last)",
            "\u001b[0;32m<ipython-input-97-69bde4ac13e8>\u001b[0m in \u001b[0;36m<cell line: 1>\u001b[0;34m()\u001b[0m\n\u001b[0;32m----> 1\u001b[0;31m \u001b[0mba1\u001b[0m\u001b[0;34m.\u001b[0m\u001b[0m__balance\u001b[0m\u001b[0;34m\u001b[0m\u001b[0;34m\u001b[0m\u001b[0m\n\u001b[0m",
            "\u001b[0;31mAttributeError\u001b[0m: 'BankAccount' object has no attribute '__balance'"
          ]
        }
      ]
    },
    {
      "cell_type": "code",
      "source": [
        "ba1.__balance= 100000"
      ],
      "metadata": {
        "id": "PGDeu4KR0tp_"
      },
      "execution_count": 99,
      "outputs": []
    },
    {
      "cell_type": "code",
      "source": [
        "ba1.show_balance()"
      ],
      "metadata": {
        "colab": {
          "base_uri": "https://localhost:8080/"
        },
        "id": "EpJ9jbS402pA",
        "outputId": "950f36bb-20ca-492d-a8ab-d1b6532c1232"
      },
      "execution_count": 100,
      "outputs": [
        {
          "output_type": "execute_result",
          "data": {
            "text/plain": [
              "10000"
            ]
          },
          "metadata": {},
          "execution_count": 100
        }
      ]
    },
    {
      "cell_type": "code",
      "source": [
        "ba1.deposit(1000)"
      ],
      "metadata": {
        "id": "Md4LbJ2b08Jq"
      },
      "execution_count": 103,
      "outputs": []
    },
    {
      "cell_type": "code",
      "source": [
        "ba1.show_balance()"
      ],
      "metadata": {
        "colab": {
          "base_uri": "https://localhost:8080/"
        },
        "id": "mcPFsfs61Hct",
        "outputId": "f6a646d6-5ea9-4bc9-90ae-f743b2fc356c"
      },
      "execution_count": 104,
      "outputs": [
        {
          "output_type": "execute_result",
          "data": {
            "text/plain": [
              "11000"
            ]
          },
          "metadata": {},
          "execution_count": 104
        }
      ]
    },
    {
      "cell_type": "code",
      "source": [
        "ba1.__dict__"
      ],
      "metadata": {
        "colab": {
          "base_uri": "https://localhost:8080/"
        },
        "id": "d7oT7-6V1IzR",
        "outputId": "16b14866-a728-4685-b31e-710ef4a01467"
      },
      "execution_count": 105,
      "outputs": [
        {
          "output_type": "execute_result",
          "data": {
            "text/plain": [
              "{'name': 'GOPI', '_BankAccount__balance': 11000}"
            ]
          },
          "metadata": {},
          "execution_count": 105
        }
      ]
    },
    {
      "cell_type": "code",
      "source": [
        "ba1._BankAccount__balance =1000000000000000"
      ],
      "metadata": {
        "id": "p8MHLFd_1cHw"
      },
      "execution_count": 106,
      "outputs": []
    },
    {
      "cell_type": "code",
      "source": [
        "ba1.show_balance()"
      ],
      "metadata": {
        "colab": {
          "base_uri": "https://localhost:8080/"
        },
        "id": "rDqORZcg1kTS",
        "outputId": "ca40ce3c-14de-4d03-ab85-775cf0327f6b"
      },
      "execution_count": 107,
      "outputs": [
        {
          "output_type": "execute_result",
          "data": {
            "text/plain": [
              "1000000000000000"
            ]
          },
          "metadata": {},
          "execution_count": 107
        }
      ]
    },
    {
      "cell_type": "markdown",
      "source": [
        "Jatin\n",
        "` _ : Protected Variable and __ Private Vars`"
      ],
      "metadata": {
        "id": "8wjvOuDl2Bic"
      }
    },
    {
      "cell_type": "code",
      "source": [
        "class A:\n",
        "    __var1 = 10\n",
        "    var2 = 100\n",
        "    var3 = 1000\n",
        "\n",
        "class B(A):\n",
        "    var3 = \"hello\""
      ],
      "metadata": {
        "id": "Zw2WiNH31mP_"
      },
      "execution_count": 111,
      "outputs": []
    },
    {
      "cell_type": "code",
      "source": [
        "B.var3"
      ],
      "metadata": {
        "colab": {
          "base_uri": "https://localhost:8080/",
          "height": 36
        },
        "id": "crzRtUnh2aaO",
        "outputId": "062dd301-8502-4662-eb62-1800b5b7b2b2"
      },
      "execution_count": 112,
      "outputs": [
        {
          "output_type": "execute_result",
          "data": {
            "text/plain": [
              "'hello'"
            ],
            "application/vnd.google.colaboratory.intrinsic+json": {
              "type": "string"
            }
          },
          "metadata": {},
          "execution_count": 112
        }
      ]
    },
    {
      "cell_type": "code",
      "source": [
        "B.var2"
      ],
      "metadata": {
        "colab": {
          "base_uri": "https://localhost:8080/"
        },
        "id": "HASbnyer2fPf",
        "outputId": "9fa84599-7b07-4472-ca13-88966f39ff72"
      },
      "execution_count": 113,
      "outputs": [
        {
          "output_type": "execute_result",
          "data": {
            "text/plain": [
              "100"
            ]
          },
          "metadata": {},
          "execution_count": 113
        }
      ]
    },
    {
      "cell_type": "code",
      "source": [
        "B.__var1"
      ],
      "metadata": {
        "colab": {
          "base_uri": "https://localhost:8080/",
          "height": 167
        },
        "id": "jitzHBxl23Jl",
        "outputId": "87a35240-9709-489f-c8a4-cf574d98e9b8"
      },
      "execution_count": 115,
      "outputs": [
        {
          "output_type": "error",
          "ename": "AttributeError",
          "evalue": "ignored",
          "traceback": [
            "\u001b[0;31m---------------------------------------------------------------------------\u001b[0m",
            "\u001b[0;31mAttributeError\u001b[0m                            Traceback (most recent call last)",
            "\u001b[0;32m<ipython-input-115-32ba80c882be>\u001b[0m in \u001b[0;36m<cell line: 1>\u001b[0;34m()\u001b[0m\n\u001b[0;32m----> 1\u001b[0;31m \u001b[0mB\u001b[0m\u001b[0;34m.\u001b[0m\u001b[0m__var1\u001b[0m\u001b[0;34m\u001b[0m\u001b[0;34m\u001b[0m\u001b[0m\n\u001b[0m",
            "\u001b[0;31mAttributeError\u001b[0m: type object 'B' has no attribute '__var1'"
          ]
        }
      ]
    },
    {
      "cell_type": "markdown",
      "source": [
        "Private Variables are not Inherited"
      ],
      "metadata": {
        "id": "KK_PcKIv3ILo"
      }
    },
    {
      "cell_type": "code",
      "source": [
        "B._B__var1"
      ],
      "metadata": {
        "colab": {
          "base_uri": "https://localhost:8080/",
          "height": 167
        },
        "id": "S7Gn1sOz3HZg",
        "outputId": "af769dd2-26da-4bc3-dcfd-28e3e4196030"
      },
      "execution_count": 117,
      "outputs": [
        {
          "output_type": "error",
          "ename": "AttributeError",
          "evalue": "ignored",
          "traceback": [
            "\u001b[0;31m---------------------------------------------------------------------------\u001b[0m",
            "\u001b[0;31mAttributeError\u001b[0m                            Traceback (most recent call last)",
            "\u001b[0;32m<ipython-input-117-787aecbbc584>\u001b[0m in \u001b[0;36m<cell line: 1>\u001b[0;34m()\u001b[0m\n\u001b[0;32m----> 1\u001b[0;31m \u001b[0mB\u001b[0m\u001b[0;34m.\u001b[0m\u001b[0m_B__var1\u001b[0m\u001b[0;34m\u001b[0m\u001b[0;34m\u001b[0m\u001b[0m\n\u001b[0m",
            "\u001b[0;31mAttributeError\u001b[0m: type object 'B' has no attribute '_B__var1'"
          ]
        }
      ]
    },
    {
      "cell_type": "code",
      "source": [
        "B._A__var1"
      ],
      "metadata": {
        "colab": {
          "base_uri": "https://localhost:8080/"
        },
        "id": "cM8fzgOU292-",
        "outputId": "2091e1fa-3585-48c4-d968-8210804fd1c1"
      },
      "execution_count": 116,
      "outputs": [
        {
          "output_type": "execute_result",
          "data": {
            "text/plain": [
              "10"
            ]
          },
          "metadata": {},
          "execution_count": 116
        }
      ]
    },
    {
      "cell_type": "code",
      "source": [
        "class A:\n",
        "    var1 = 1\n",
        "\n",
        "class B(A):\n",
        "    var2=2\n",
        "\n",
        "class C(B):\n",
        "    var3 = 3"
      ],
      "metadata": {
        "id": "oxETRNW73Buy"
      },
      "execution_count": 118,
      "outputs": []
    },
    {
      "cell_type": "code",
      "source": [
        "o1 = C()"
      ],
      "metadata": {
        "id": "d1OC1Yaq3hNF"
      },
      "execution_count": 119,
      "outputs": []
    },
    {
      "cell_type": "code",
      "source": [
        "o1.var3"
      ],
      "metadata": {
        "colab": {
          "base_uri": "https://localhost:8080/"
        },
        "id": "nbKz5DRN3k9I",
        "outputId": "7ab47023-6646-48e2-ded8-7c8632f82ecb"
      },
      "execution_count": 120,
      "outputs": [
        {
          "output_type": "execute_result",
          "data": {
            "text/plain": [
              "3"
            ]
          },
          "metadata": {},
          "execution_count": 120
        }
      ]
    },
    {
      "cell_type": "code",
      "source": [
        "o1.var2"
      ],
      "metadata": {
        "colab": {
          "base_uri": "https://localhost:8080/"
        },
        "id": "_a-R0k5J3mOS",
        "outputId": "c58f90a0-32d7-4efc-b7c4-002c82b2f507"
      },
      "execution_count": 121,
      "outputs": [
        {
          "output_type": "execute_result",
          "data": {
            "text/plain": [
              "2"
            ]
          },
          "metadata": {},
          "execution_count": 121
        }
      ]
    },
    {
      "cell_type": "code",
      "source": [
        "o1.var1"
      ],
      "metadata": {
        "colab": {
          "base_uri": "https://localhost:8080/"
        },
        "id": "nb6gQnp33rCB",
        "outputId": "c46a4e2e-d2b6-4efd-91ca-7c9c1ce1609c"
      },
      "execution_count": 122,
      "outputs": [
        {
          "output_type": "execute_result",
          "data": {
            "text/plain": [
              "1"
            ]
          },
          "metadata": {},
          "execution_count": 122
        }
      ]
    },
    {
      "cell_type": "code",
      "source": [
        "class A:\n",
        "    var1=1\n",
        "\n",
        "class B(A):\n",
        "    var1=2\n",
        "\n",
        "class C(B):\n",
        "    var3 = 3\n",
        "\n",
        "C.var1"
      ],
      "metadata": {
        "colab": {
          "base_uri": "https://localhost:8080/"
        },
        "id": "2xY19uwe3xiL",
        "outputId": "1802a5b9-1ad2-4444-c783-5f3134e49a33"
      },
      "execution_count": 123,
      "outputs": [
        {
          "output_type": "execute_result",
          "data": {
            "text/plain": [
              "2"
            ]
          },
          "metadata": {},
          "execution_count": 123
        }
      ]
    },
    {
      "cell_type": "code",
      "source": [
        "class A:\n",
        "    var1=1\n",
        "\n",
        "class B:\n",
        "    var1=2\n",
        "\n",
        "class C(B, A):\n",
        "    var3 = 3\n",
        "\n",
        "C.var1"
      ],
      "metadata": {
        "colab": {
          "base_uri": "https://localhost:8080/"
        },
        "id": "OvoEUCI54H3B",
        "outputId": "05eefa33-78d0-4daf-da2a-a8b475309999"
      },
      "execution_count": 124,
      "outputs": [
        {
          "output_type": "execute_result",
          "data": {
            "text/plain": [
              "2"
            ]
          },
          "metadata": {},
          "execution_count": 124
        }
      ]
    },
    {
      "cell_type": "code",
      "source": [
        "class A:\n",
        "    var1=1\n",
        "\n",
        "class B:\n",
        "    var1=2\n",
        "\n",
        "class C(A, B):\n",
        "    var3 = 3\n",
        "\n",
        "C.var1"
      ],
      "metadata": {
        "colab": {
          "base_uri": "https://localhost:8080/"
        },
        "id": "YiIVZVpS4wxw",
        "outputId": "a5b63c1a-b7c2-46b8-ec38-0cf62a24743f"
      },
      "execution_count": 125,
      "outputs": [
        {
          "output_type": "execute_result",
          "data": {
            "text/plain": [
              "1"
            ]
          },
          "metadata": {},
          "execution_count": 125
        }
      ]
    },
    {
      "cell_type": "code",
      "source": [],
      "metadata": {
        "id": "du4Lult_42gB"
      },
      "execution_count": null,
      "outputs": []
    }
  ]
}